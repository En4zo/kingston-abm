{
 "cells": [
  {
   "cell_type": "markdown",
   "metadata": {},
   "source": [
    "# Pull statistics on the draft version of parameters"
   ]
  },
  {
   "cell_type": "code",
   "execution_count": 4,
   "metadata": {},
   "outputs": [
    {
     "name": "stdout",
     "output_type": "stream",
     "text": [
      "params\tval-0.ipynb\r\n"
     ]
    }
   ],
   "source": [
    "!ls"
   ]
  },
  {
   "cell_type": "code",
   "execution_count": 6,
   "metadata": {},
   "outputs": [
    {
     "name": "stdout",
     "output_type": "stream",
     "text": [
      "Reading package lists... Done\n",
      "Building dependency tree       \n",
      "Reading state information... Done\n",
      "The following NEW packages will be installed:\n",
      "  wget\n",
      "0 upgraded, 1 newly installed, 0 to remove and 6 not upgraded.\n",
      "Need to get 349 kB of archives.\n",
      "After this operation, 1016 kB of additional disk space will be used.\n",
      "Get:1 http://archive.ubuntu.com/ubuntu focal/main amd64 wget amd64 1.20.3-1ubuntu1 [349 kB]\n",
      "Fetched 349 kB in 1s (426 kB/s)[0m33m\u001b[33m\n",
      "debconf: delaying package configuration, since apt-utils is not installed\n",
      "\n",
      "\u001b7\u001b[0;23r\u001b8\u001b[1ASelecting previously unselected package wget.\n",
      "(Reading database ... 24787 files and directories currently installed.)\n",
      "Preparing to unpack .../wget_1.20.3-1ubuntu1_amd64.deb ...\n",
      "\u001b7\u001b[24;0f\u001b[42m\u001b[30mProgress: [  0%]\u001b[49m\u001b[39m [..........................................................] \u001b8\u001b7\u001b[24;0f\u001b[42m\u001b[30mProgress: [ 20%]\u001b[49m\u001b[39m [###########...............................................] \u001b8Unpacking wget (1.20.3-1ubuntu1) ...\n",
      "\u001b7\u001b[24;0f\u001b[42m\u001b[30mProgress: [ 40%]\u001b[49m\u001b[39m [#######################...................................] \u001b8Setting up wget (1.20.3-1ubuntu1) ...\n",
      "\u001b7\u001b[24;0f\u001b[42m\u001b[30mProgress: [ 60%]\u001b[49m\u001b[39m [##################################........................] \u001b8\u001b7\u001b[24;0f\u001b[42m\u001b[30mProgress: [ 80%]\u001b[49m\u001b[39m [##############################################............] \u001b8\n",
      "\u001b7\u001b[0;24r\u001b8\u001b[1A\u001b[J"
     ]
    }
   ],
   "source": [
    "!apt install wget"
   ]
  },
  {
   "cell_type": "code",
   "execution_count": 7,
   "metadata": {},
   "outputs": [
    {
     "name": "stdout",
     "output_type": "stream",
     "text": [
      "--2021-07-01 15:30:28--  https://raw.githubusercontent.com/alisonparedes/kingston-abm/master/experiments/validation/params/kingston_0xdfc056a4fdb804e60e964b2cc5aae6ea.yml\n",
      "Resolving raw.githubusercontent.com (raw.githubusercontent.com)... 185.199.111.133, 185.199.109.133, 185.199.108.133, ...\n",
      "Connecting to raw.githubusercontent.com (raw.githubusercontent.com)|185.199.111.133|:443... connected.\n",
      "HTTP request sent, awaiting response... 200 OK\n",
      "Length: 77454 (76K) [text/plain]\n",
      "Saving to: ‘kingston_0xdfc056a4fdb804e60e964b2cc5aae6ea.yml’\n",
      "\n",
      "kingston_0xdfc056a4 100%[===================>]  75.64K  --.-KB/s    in 0.05s   \n",
      "\n",
      "2021-07-01 15:30:28 (1.55 MB/s) - ‘kingston_0xdfc056a4fdb804e60e964b2cc5aae6ea.yml’ saved [77454/77454]\n",
      "\n"
     ]
    }
   ],
   "source": [
    "!wget https://raw.githubusercontent.com/alisonparedes/kingston-abm/master/experiments/validation/params/kingston_0xdfc056a4fdb804e60e964b2cc5aae6ea.yml"
   ]
  },
  {
   "cell_type": "code",
   "execution_count": 8,
   "metadata": {},
   "outputs": [
    {
     "name": "stdout",
     "output_type": "stream",
     "text": [
      "kingston_0xdfc056a4fdb804e60e964b2cc5aae6ea.yml  params  val-0.ipynb\r\n"
     ]
    }
   ],
   "source": [
    "!ls"
   ]
  },
  {
   "cell_type": "code",
   "execution_count": 9,
   "metadata": {},
   "outputs": [],
   "source": [
    "!mv kingston* params"
   ]
  },
  {
   "cell_type": "code",
   "execution_count": 10,
   "metadata": {},
   "outputs": [
    {
     "name": "stdout",
     "output_type": "stream",
     "text": [
      "params\tval-0.ipynb\r\n"
     ]
    }
   ],
   "source": [
    "!ls"
   ]
  },
  {
   "cell_type": "code",
   "execution_count": 11,
   "metadata": {},
   "outputs": [
    {
     "name": "stdout",
     "output_type": "stream",
     "text": [
      "kingston_0x1b7ec61feecc86343323d15f32812f92.yml\r\n",
      "kingston_0xdfc056a4fdb804e60e964b2cc5aae6ea.yml\r\n"
     ]
    }
   ],
   "source": [
    "!ls params"
   ]
  },
  {
   "cell_type": "code",
   "execution_count": 18,
   "metadata": {},
   "outputs": [
    {
     "name": "stdout",
     "output_type": "stream",
     "text": [
      "montreal.yaml\r\n"
     ]
    }
   ],
   "source": [
    "!ls /COVI-AgentSim/src/covid19sim/configs/simulation/region"
   ]
  },
  {
   "cell_type": "markdown",
   "metadata": {},
   "source": [
    "I had uploaded the latest and greatest draft parameter file to a github repo. Maybe could have pulled it directoy from kingston-params repo (if I had saved it there--maybe a better place to save versions of parameter sets for the moment than directly in the experiment repo)"
   ]
  },
  {
   "cell_type": "code",
   "execution_count": 21,
   "metadata": {},
   "outputs": [],
   "source": [
    "!cp params/kingston_0xdfc056a4fdb804e60e964b2cc5aae6ea.yml /COVI-AgentSim/src/covid19sim/configs/simulation/region/kingston0xdfc056a4fdb804e60e964b2cc5aae6ea.yaml"
   ]
  },
  {
   "cell_type": "code",
   "execution_count": 22,
   "metadata": {},
   "outputs": [
    {
     "name": "stdout",
     "output_type": "stream",
     "text": [
      "kingston0xdfc056a4fdb804e60e964b2cc5aae6ea.yaml  montreal.yaml\r\n"
     ]
    }
   ],
   "source": [
    "!ls /COVI-AgentSim/src/covid19sim/configs/simulation/region"
   ]
  },
  {
   "cell_type": "code",
   "execution_count": 26,
   "metadata": {},
   "outputs": [],
   "source": [
    "!mkdir /src/experiments/validation/results"
   ]
  },
  {
   "cell_type": "code",
   "execution_count": 27,
   "metadata": {},
   "outputs": [],
   "source": [
    "!mkdir /src/experiments/validation/results/data"
   ]
  },
  {
   "cell_type": "markdown",
   "metadata": {},
   "source": [
    "A test run to make sure the parameter file contains everything the simulator needs"
   ]
  },
  {
   "cell_type": "code",
   "execution_count": 28,
   "metadata": {},
   "outputs": [
    {
     "name": "stdout",
     "output_type": "stream",
     "text": [
      "RISK_MODEL = \n",
      "INTERVENTION_DAY = -1\n",
      "seed: 1508\n",
      "Type of run: UNMITIGATED\n",
      "Initializing humans ...\n",
      "Allocating houses ... \n",
      "expanding the search for kids to middle generation for census family households\n",
      "Housing allocated with failed attempts: 0 \n",
      "Preparing schedule ... \n",
      "Schedule prepared (Took 16.362s)\n",
      "Computing their preferences\n",
      "\n",
      "######## SIMULATOR KNOBS #########\n",
      "HOUSEHOLD_ASSORTATIVITY_STRENGTH: 0.5\n",
      "WORKPLACE_ASSORTATIVITY_STRENGTH: 5\n",
      "P_INVITATION_ACCEPTANCE: 0.5\n",
      "BEGIN_PREFERENTIAL_ATTACHMENT_FACTOR: 0.5\n",
      "END_PREFERENTIAL_ATTACHMENT_FACTOR: 0.5\n",
      "P_HOUSE_OVER_MISC_FOR_SOCIALS: 0.5\n",
      "CONTAGION_KNOB: 25\n",
      "ENVIRONMENTAL_INFECTION_KNOB: 0.0017\n",
      "TIME_SPENT_SCALE_FACTOR_FOR_SHORT_ACTIVITIES: 1.5\n",
      "TIME_SPENT_SCALE_FACTOR_FOR_WORK: 1.0\n",
      "TIME_SPENT_SCALE_FACTOR_SLEEP_AWAKE: 0.01\n",
      "GLOBAL_MOBILITY_SCALING_FACTOR: 0.85\n",
      "\n",
      "######## DEMOGRAPHICS / SYNTHETIC POPULATION #########\n",
      "NB: (i) census numbers are in brackets. (ii)  (**#@#**)  marks a 25 % realtive deviation from census\n",
      "\n",
      "Age (census) - mean: 43.500 (43.1), median:  44 (44.5), std: 25.250\n",
      "Gender: female: 46.167 % | male: 44.233 % | other: 9.600 % | \n",
      "\n",
      "*** House allocation *** \n",
      " (**#@#**) Total ( %) number of residents in senior residencies (census): 14 (0.47 %) (1.23)\n",
      "Total houses: 1380\n",
      "Average house size -  2.164 ( 2.300)\n",
      "Household size - simulation% (census):  1.0: 29.93 % ( 28.60) |  2.0: 42.75 % ( 38.50) |  3.0: 12.54 % ( 14.80) |  4.0: 10.58 % ( 12.20) |  (**#@#**)  5.0: 4.20 % ( 6.00) | \n",
      "Solo dwellers : Average age absolute:  58.45 (Average with mid point of age groups - simulated: 58.35 census: 59.64) | \n",
      "Household type:  (**#@#**) multi-generation: 0.07 % (2.77) | Only adults: 78.99 % | \n",
      "/COVI-AgentSim/src/covid19sim/log/track.py:507: RuntimeWarning: divide by zero encountered in double_scalars\n",
      "  warn = WARN_SIGNAL if 100*abs(p-cns)/cns > WARN_RELATIVE_PERCENTAGE_THRESHOLD else \"\"\n",
      "Allocation types: couple_with_0_kids: 31.812 %  ( 30.77)| couple_with_1_kids: 9.783 %  ( 10.26)| couple_with_2_kids: 9.710 %  ( 10.17)| couple_with_3_kids: 3.696 %  ( 3.87)|  (**#@#**) other_3: 0.072 %  ( 0.00)|  (**#@#**) other_4: 0.217 %  ( 0.00)|  (**#@#**) other_5: 0.217 %  ( 0.00)| single_parent_with_1_kids: 10.942 %  ( 11.34)| single_parent_with_2_kids: 2.681 %  ( 2.89)| single_parent_with_3_kids: 0.652 %  ( 0.72)|  (**#@#**) single_parent_with_4_kids: 0.290 %  ( 0.19)| solo: 29.928 %  ( 28.60)| \n",
      "\n",
      " *** Locations *** \n",
      "Counts: HOUSEHOLD: 1380 | SENIOR_RESIDENCE: 2 | WORKPLACE: 94 | STORE: 2 | MISC: 6 | HOSPITAL: 1 | PARK: 1 | SCHOOL: 25 | \n",
      "\n",
      " *** Workforce *** \n",
      "WORKPLACE - Total workforce: 1538 | Average number of workers:  16.36 | Average age of workers:  46.06\n",
      "\tNumber of WORKPLACE(1, 4) - 63. Total number of workers - 120\n",
      "\tNumber of WORKPLACE(5, 99) - 31. Total number of workers - 1418\n",
      "STORE - Total workforce: 2 | Average number of workers:  1.00 | Average age of workers:  41.00\n",
      "MISC - Total workforce: 6 | Average number of workers:  1.00 | Average age of workers:  51.67\n",
      "HOSPITALS - Total workforce: 32 | Number of doctors: 4 | Number of nurses: 26 | Number of nurses at SENIOR_RESIDENCES: 2\n",
      "SCHOOL - Number of teachers: 99 | Number of students: 637| Average number of teachers:  3.96| Average number of students:  25.48\n",
      "\tNumber of SCHOOL(2-4) - 2. Number of students: 30. Number of teachers: 6\n",
      "\tNumber of SCHOOL(4-5) - 6. Number of students: 29. Number of teachers: 9\n",
      "\tNumber of SCHOOL(5-12) - 7. Number of students: 257. Number of teachers: 53\n",
      "\tNumber of SCHOOL(12-17) - 4. Number of students: 147. Number of teachers: 17\n",
      "\tNumber of SCHOOL(17-29) - 6. Number of students: 174. Number of teachers: 14\n",
      "\n",
      " *** Disease related initialization stats *** \n",
      "Percentage of population that is asymptomatic  21.733\n",
      "\n",
      " *** ****** *** ****** *** COVID infection seeded *** *** ****** *** ******\n",
      "\n",
      "Total number of infected humans 6\n",
      "\tH:human:2286 age:60, SEIR:0100 @ HOUSEHOLD:1261 - occ:2/inf - I:False living with 1 other residents\n",
      "\tH:human:794 age:23, SEIR:0100 @ HOUSEHOLD:517 - occ:5/inf - I:False living with 4 other residents\n",
      "\tH:human:295 age:12, SEIR:0100 @ HOUSEHOLD:94 - occ:2/inf - I:False living with 1 other residents\n",
      "\tH:human:2462 age:65, SEIR:0100 @ HOUSEHOLD:390 - occ:4/inf - I:False living with 3 other residents\n",
      "\tH:human:373 age:12, SEIR:0100 @ HOUSEHOLD:65 - occ:5/inf - I:False living with 4 other residents\n",
      "\tH:human:2768 age:77, SEIR:0100 @ HOUSEHOLD:581 - occ:1/inf - I:False living with 0 other residents\n",
      "\n",
      "PREFERENTIAL_ATTACHMENT_FACTOR: 0.5\n",
      "\n",
      "*** *** ****** *** ****** *** ****** *** ****** *** ****** *** ****** *** ****** *** ***\n",
      "\n",
      "\n",
      "#################### SIMULATION PROGRESS ##################\n",
      "Legend -\n",
      "* [ +Test ]: Total positive test results observed this day (Note: test results are available after some delay from the test time) / total tests administered on this day\n",
      "* [ P3 ]: Projected number of cases (E+I+R) if the cases were to grow with a doubling rate of 3 days.\n",
      "* [ TestQueue ]: Total number of people present in the test queue at the time of this print out.\n",
      "* [ H/C/D ]: Total number of people in hospital (H)/ ICU (C) at this point in simulation-time. Total died upto this day (D).\n",
      "* [ MC ]: Mean number of known connections of a person in the population (average degree of the social network). The attributes for known connections are drawn from surveyed data on mean contacts.\n",
      "* [ Q ]: Number of people (alive) quarantined as of midnight on that day.\n",
      "* [ 2x ]: Number of days to double the initial infections to the current level.\n",
      "        \n",
      "(0s)     Day  0: 2020-02-28 | S:2994 E:6    I:0    E+I+R:6    +Test:0/0 TestQueue:1 | P3: 6.00 | cold:0 allergies:0 flu:0 | H:0 C:0 D:0 | MC:  0.000 | Q: 0\n",
      "(6s)     Day  1: 2020-02-29 | S:2994 E:6    I:0    E+I+R:6    +Test:0/0 TestQueue:40 | P3: 7.56 | cold:0 allergies:0 flu:0 | H:0 C:0 D:0 | MC:  9.681 | Q: 7\n",
      "/COVI-AgentSim/src/covid19sim/epidemiology/symptoms.py:171: VisibleDeprecationWarning: Creating an ndarray from ragged nested sequences (which is a list-or-tuple of lists-or-tuples-or ndarrays with different lengths or shapes) is deprecated. If you meant to do this, you must specify 'dtype=object' when creating the ndarray\n",
      "  dropin_groups = rng.choice(cls.DROP_IN_GROUPS,\n",
      "(13s)    Day  2: 2020-03-01 | S:2994 E:6    I:0    E+I+R:6    +Test:0/3 TestQueue:39 | P3: 9.52 | cold:6 allergies:7 flu:8 | H:0 C:0 D:0 | MC:  12.313 | Q: 17\n",
      "(19s)    Day  3: 2020-03-02 | S:2994 E:5    I:1    E+I+R:6    +Test:0/3 TestQueue:41 | P3:12.00 | cold:18 allergies:1 flu:17 | H:0 C:0 D:0 | MC:  13.739 | Q: 17\n",
      "(27s)    Day  4: 2020-03-03 | S:2992 E:5    I:3    E+I+R:8    +Test:0/6 TestQueue:56 | P3:15.12 2x: 9.64 | cold:22 allergies:6 flu:29 | H:0 C:0 D:0 | MC:  18.955 | Q: 14\n",
      "(34s)    Day  5: 2020-03-04 | S:2990 E:5    I:5    E+I+R:10   +Test:0/3 TestQueue:61 | P3:19.05 2x: 6.78 | cold:27 allergies:6 flu:30 | H:0 C:0 D:0 | MC:  22.345 | Q: 11\n",
      "(42s)    Day  6: 2020-03-05 | S:2989 E:3    I:8    E+I+R:11   +Test:0/3 TestQueue:66 | P3:24.00 2x: 6.86 | cold:30 allergies:4 flu:36 | H:0 C:0 D:0 | MC:  25.065 | Q: 4\n",
      "(51s)    Day  7: 2020-03-06 | S:2983 E:9    I:8    E+I+R:17   +Test:1/3 TestQueue:74 | P3:30.24 2x: 4.66 | cold:29 allergies:3 flu:41 | H:0 C:0 D:0 | MC:  27.243 | Q: 11\n",
      "(65s)    Day  8: 2020-03-07 | S:2977 E:14   I:9    E+I+R:23   +Test:0/3 TestQueue:92 | P3:38.10 2x: 4.13 | cold:29 allergies:3 flu:50 | H:0 C:0 D:0 | MC:  33.199 | Q: 10\n",
      "(69s)    Day  9: 2020-03-08 | S:2961 E:29   I:10   E+I+R:39   +Test:0/3 TestQueue:90 | P3:48.00 2x: 3.33 | cold:29 allergies:1 flu:45 | H:0 C:0 D:0 | MC:  33.246 | Q: 12\n",
      "(72s)    Day 10: 2020-03-09 | S:2960 E:23   I:17   E+I+R:40   +Test:1/3 TestQueue:87 | P3:60.48 2x: 3.65 | cold:27 allergies:3 flu:46 | H:0 C:0 D:0 | MC:  33.275 | Q: 12\n",
      "(86s)    Day 11: 2020-03-10 | S:2957 E:21   I:22   E+I+R:43   +Test:1/3 TestQueue:83 | P3:76.20 2x: 3.87 | cold:27 allergies:5 flu:51 | H:0 C:0 D:0 | MC:  37.971 | Q: 15\n",
      "(95s)    Day 12: 2020-03-11 | S:2941 E:30   I:29   E+I+R:59   +Test:1/3 TestQueue:88 | P3:96.00 2x: 3.64 | cold:29 allergies:3 flu:50 | H:1 C:0 D:0 | MC:  39.135 | Q: 23\n",
      "(107s)   Day 13: 2020-03-12 | S:2928 E:37   I:35   E+I+R:72   +Test:1/3 TestQueue:90 | P3:120.95 2x: 3.63 | cold:29 allergies:3 flu:53 | H:2 C:0 D:0 | MC:  40.205 | Q: 25\n",
      "(117s)   Day 14: 2020-03-13 | S:2914 E:40   I:46   E+I+R:86   +Test:0/3 TestQueue:100 | P3:152.39 2x: 3.64 | cold:26 allergies:3 flu:54 | H:2 C:0 D:0 | MC:  41.125 | Q: 26\n"
     ]
    },
    {
     "name": "stdout",
     "output_type": "stream",
     "text": [
      "(128s)   Day 15: 2020-03-14 | S:2898 E:39   I:63   E+I+R:102  +Test:0/3 TestQueue:104 | P3:192.00 2x: 3.67 | cold:28 allergies:5 flu:64 | H:3 C:0 D:0 | MC:  41.947 | Q: 24\n",
      "(134s)   Day 16: 2020-03-15 | S:2873 E:54   I:72   E+I+R:127  +Test:0/3 TestQueue:114 | P3:241.90 2x: 3.63 | cold:32 allergies:1 flu:60 | H:3 C:0 D:0 | MC:  42.924 | Q: 24\n",
      "(139s)   Day 17: 2020-03-16 | S:2865 E:51   I:83   E+I+R:135  +Test:2/3 TestQueue:113 | P3:304.78 2x: 3.78 | cold:37 allergies:4 flu:54 | H:3 C:0 D:0 | MC:  42.943 | Q: 32\n",
      "(150s)   Day 18: 2020-03-17 | S:2859 E:41   I:99   E+I+R:141  +Test:1/3 TestQueue:116 | P3:384.00 2x: 3.95 | cold:36 allergies:6 flu:50 | H:5 C:0 D:0 | MC:  43.677 | Q: 30\n",
      "(159s)   Day 19: 2020-03-18 | S:2810 E:73   I:116  E+I+R:190  +Test:1/3 TestQueue:129 | P3:483.81 2x: 3.81 | cold:32 allergies:5 flu:49 | H:5 C:0 D:0 | MC:  44.363 | Q: 28\n",
      "(169s)   Day 20: 2020-03-19 | S:2772 E:96   I:130  E+I+R:228  +Test:2/3 TestQueue:130 | P3:609.56 2x: 3.81 | cold:35 allergies:3 flu:53 | H:5 C:0 D:0 | MC:  44.965 | Q: 39\n",
      "(181s)   Day 21: 2020-03-20 | S:2741 E:112  I:143  E+I+R:259  +Test:1/3 TestQueue:131 | P3:768.00 2x: 3.87 | cold:30 allergies:4 flu:49 | H:4 C:0 D:0 | MC:  45.505 | Q: 39\n",
      "(196s)   Day 22: 2020-03-21 | S:2708 E:117  I:168  E+I+R:292  +Test:2/3 TestQueue:141 | P3:967.62 2x: 3.93 | cold:40 allergies:3 flu:49 | H:3 C:0 D:0 | MC:  45.991 | Q: 40\n",
      "(201s)   Day 23: 2020-03-22 | S:2662 E:126  I:205  E+I+R:338  +Test:2/3 TestQueue:153 | P3:1219.12 2x: 3.95 | cold:41 allergies:0 flu:44 | H:8 C:0 D:0 | MC:  46.011 | Q: 39\n",
      "(206s)   Day 24: 2020-03-23 | S:2650 E:98   I:241  E+I+R:350  +Test:1/3 TestQueue:165 | P3:1536.00 2x: 4.09 | cold:34 allergies:2 flu:39 | H:8 C:0 D:0 | MC:  46.035 | Q: 36\n",
      "(215s)   Day 25: 2020-03-24 | S:2641 E:81   I:262  E+I+R:359  +Test:2/3 TestQueue:193 | P3:1935.24 2x: 4.24 | cold:35 allergies:7 flu:40 | H:9 C:0 D:2 | MC:  46.505 | Q: 38\n",
      "(225s)   Day 26: 2020-03-25 | S:2580 E:102  I:297  E+I+R:420  +Test:2/3 TestQueue:193 | P3:2438.25 2x: 4.24 | cold:34 allergies:4 flu:46 | H:9 C:0 D:4 | MC:  46.913 | Q: 44\n",
      "(235s)   Day 27: 2020-03-26 | S:2520 E:143  I:311  E+I+R:480  +Test:0/3 TestQueue:221 | P3:3000.00 2x: 4.27 | cold:36 allergies:3 flu:41 | H:9 C:0 D:4 | MC:  47.294 | Q: 43\n",
      "(245s)   Day 28: 2020-03-27 | S:2440 E:194  I:331  E+I+R:560  +Test:3/3 TestQueue:228 | P3:3000.00 2x: 4.28 | cold:40 allergies:3 flu:39 | H:9 C:0 D:9 | MC:  47.655 | Q: 50\n",
      "Transferring H:human:61 age:3, SEIR:1000 to HOUSEHOLD:1115 - occ:2/inf - I:False because no adult at HOUSEHOLD:105 - occ:0/inf - I:True is alive. Current residents at HOUSEHOLD:1115 - occ:2/inf - I:False: [H:human:2508 age:67, SEIR:1000, H:human:2483 age:66, SEIR:1000]\n",
      "(254s)   Day 29: 2020-03-28 | S:2385 E:208  I:361  E+I+R:615  +Test:1/3 TestQueue:240 | P3:3000.00 2x: 4.34 | cold:38 allergies:1 flu:40 | H:9 C:0 D:12 | MC:  47.963 | Q: 51\n",
      "(258s)   Day 30: 2020-03-29 | S:2321 E:204  I:412  E+I+R:679  +Test:1/3 TestQueue:278 | P3:3000.00 2x: 4.40 | cold:34 allergies:1 flu:38 | H:9 C:0 D:17 | MC:  47.971 | Q: 45\n",
      "(265s)   Day 31: 2020-03-30 | S:2306 E:160  I:454  E+I+R:694  +Test:1/3 TestQueue:279 | P3:3000.00 2x: 4.52 | cold:28 allergies:1 flu:38 | H:9 C:0 D:21 | MC:  49.416 | Q: 55\n",
      "(273s)   Day 32: 2020-03-31 | S:2294 E:119  I:492  E+I+R:706  +Test:0/3 TestQueue:299 | P3:3000.00 2x: 4.65 | cold:25 allergies:4 flu:39 | H:9 C:0 D:23 | MC:  49.729 | Q: 45\n",
      "Transferring H:human:36 age:3, SEIR:1000 to HOUSEHOLD:161 - occ:1/inf - I:True because no adult at HOUSEHOLD:66 - occ:0/inf - I:True is alive. Current residents at HOUSEHOLD:161 - occ:1/inf - I:True: [H:human:260 age:5, SEIR:0010, H:human:183 age:7, SEIR:1000, H:human:1859 age:53, SEIR:0100, H:human:1731 age:50, SEIR:0010]\n",
      "(282s)   Day 33: 2020-04-01 | S:2251 E:114  I:524  E+I+R:749  +Test:0/3 TestQueue:304 | P3:3000.00 2x: 4.74 | cold:25 allergies:4 flu:39 | H:9 C:0 D:25 | MC:  50.031 | Q: 41\n",
      "(291s)   Day 34: 2020-04-02 | S:2209 E:110  I:553  E+I+R:791  +Test:2/3 TestQueue:341 | P3:3000.00 2x: 4.83 | cold:30 allergies:3 flu:44 | H:9 C:0 D:31 | MC:  50.285 | Q: 49\n",
      "(299s)   Day 35: 2020-04-03 | S:2163 E:133  I:554  E+I+R:837  +Test:0/3 TestQueue:354 | P3:3000.00 2x: 4.91 | cold:30 allergies:1 flu:43 | H:9 C:0 D:35 | MC:  50.566 | Q: 39\n",
      "(308s)   Day 36: 2020-04-04 | S:2124 E:141  I:565  E+I+R:876  +Test:3/3 TestQueue:374 | P3:3000.00 2x: 5.01 | cold:25 allergies:2 flu:46 | H:9 C:0 D:37 | MC:  50.807 | Q: 47\n",
      "(311s)   Day 37: 2020-04-05 | S:2083 E:145  I:582  E+I+R:917  +Test:0/3 TestQueue:379 | P3:3000.00 2x: 5.10 | cold:29 allergies:4 flu:46 | H:9 C:0 D:43 | MC:  50.814 | Q: 44\n",
      "(315s)   Day 38: 2020-04-06 | S:2074 E:115  I:591  E+I+R:926  +Test:0/3 TestQueue:378 | P3:3000.00 2x: 5.23 | cold:30 allergies:0 flu:52 | H:9 C:0 D:50 | MC:  50.825 | Q: 42\n",
      "Transferring H:human:105 age:2, SEIR:1000 to HOUSEHOLD:330 - occ:5/inf - I:False because no adult at HOUSEHOLD:157 - occ:0/inf - I:True is alive. Current residents at HOUSEHOLD:330 - occ:5/inf - I:False: [H:human:923 age:28, SEIR:1000, H:human:837 age:27, SEIR:1000, H:human:974 age:28, SEIR:1000, H:human:1818 age:52, SEIR:1000, H:human:1899 age:54, SEIR:1000]\n",
      "Transferring H:human:317 age:12, SEIR:1000 to HOUSEHOLD:644 - occ:1/inf - I:False because no adult at HOUSEHOLD:8 - occ:1/inf - I:True is alive. Current residents at HOUSEHOLD:644 - occ:1/inf - I:False: [H:human:2430 age:67, SEIR:1000]\n",
      "Transferring H:human:439 age:11, SEIR:1000 to HOUSEHOLD:34 - occ:2/inf - I:True because no adult at HOUSEHOLD:8 - occ:0/inf - I:True is alive. Current residents at HOUSEHOLD:34 - occ:2/inf - I:True: [H:human:362 age:11, SEIR:0010, H:human:2646 age:71, SEIR:1000]\n",
      "(324s)   Day 39: 2020-04-07 | S:2063 E:84   I:600  E+I+R:937  +Test:1/3 TestQueue:389 | P3:3000.00 2x: 5.35 | cold:31 allergies:3 flu:53 | H:9 C:0 D:56 | MC:  51.067 | Q: 40\n",
      "Transferring H:human:207 age:7, SEIR:1000 to HOUSEHOLD:147 - occ:4/inf - I:False because no adult at HOUSEHOLD:72 - occ:1/inf - I:True is alive. Current residents at HOUSEHOLD:147 - occ:4/inf - I:False: [H:human:169 age:9, SEIR:1000, H:human:244 age:5, SEIR:1000, H:human:1845 age:53, SEIR:0100, H:human:1723 age:51, SEIR:1000]\n",
      "Transferring H:human:69 age:0, SEIR:1000 to HOUSEHOLD:905 - occ:2/inf - I:False because no adult at HOUSEHOLD:72 - occ:0/inf - I:True is alive. Current residents at HOUSEHOLD:905 - occ:2/inf - I:False: [H:human:1958 age:55, SEIR:1000, H:human:2271 age:64, SEIR:1000]\n",
      "Transferring H:human:426 age:11, SEIR:1000 to HOUSEHOLD:94 - occ:2/inf - I:False because no adult at HOUSEHOLD:250 - occ:0/inf - I:True is alive. Current residents at HOUSEHOLD:94 - occ:2/inf - I:False: [H:human:295 age:12, SEIR:0001, H:human:1197 age:35, SEIR:0001]\n",
      "(332s)   Day 40: 2020-04-08 | S:2019 E:88   I:615  E+I+R:981  +Test:0/3 TestQueue:403 | P3:3000.00 2x: 5.44 | cold:30 allergies:1 flu:53 | H:9 C:0 D:58 | MC:  51.285 | Q: 35\n",
      "(341s)   Day 41: 2020-04-09 | S:1974 E:110  I:613  E+I+R:1026 +Test:0/3 TestQueue:428 | P3:3000.00 2x: 5.53 | cold:28 allergies:3 flu:56 | H:8 C:0 D:58 | MC:  51.787 | Q: 27\n",
      "Transferring H:human:418 age:11, SEIR:1000 to HOUSEHOLD:383 - occ:0/inf - I:True because no adult at HOUSEHOLD:85 - occ:0/inf - I:True is alive. Current residents at HOUSEHOLD:383 - occ:0/inf - I:True: [H:human:1310 age:38, SEIR:1000, H:human:2011 age:59, SEIR:0010, H:human:2112 age:55, SEIR:1000]\n",
      "Transferring H:human:292 age:7, SEIR:1000 to HOUSEHOLD:358 - occ:2/inf - I:True because no adult at HOUSEHOLD:199 - occ:0/inf - I:True is alive. Current residents at HOUSEHOLD:358 - occ:2/inf - I:True: [H:human:892 age:25, SEIR:0010, H:human:840 age:29, SEIR:0001, H:human:2350 age:62, SEIR:0010, H:human:2339 age:62, SEIR:1000]\n",
      "(350s)   Day 42: 2020-04-10 | S:1935 E:129  I:589  E+I+R:1065 +Test:3/3 TestQueue:414 | P3:3000.00 2x: 5.62 | cold:24 allergies:1 flu:52 | H:8 C:0 D:63 | MC:  51.971 | Q: 30\n",
      "Transferring H:human:416 age:14, SEIR:1000 to HOUSEHOLD:547 - occ:1/inf - I:False because no adult at HOUSEHOLD:85 - occ:0/inf - I:True is alive. Current residents at HOUSEHOLD:547 - occ:1/inf - I:False: [H:human:2500 age:69, SEIR:1000]\n",
      "(359s)   Day 43: 2020-04-11 | S:1900 E:134  I:585  E+I+R:1100 +Test:2/3 TestQueue:420 | P3:3000.00 2x: 5.72 | cold:26 allergies:5 flu:51 | H:9 C:0 D:64 | MC:  52.185 | Q: 38\n"
     ]
    },
    {
     "name": "stdout",
     "output_type": "stream",
     "text": [
      "(362s)   Day 44: 2020-04-12 | S:1856 E:136  I:589  E+I+R:1144 +Test:1/3 TestQueue:401 | P3:3000.00 2x: 5.81 | cold:26 allergies:5 flu:42 | H:9 C:0 D:70 | MC:  52.192 | Q: 40\n",
      "(366s)   Day 45: 2020-04-13 | S:1850 E:101  I:580  E+I+R:1150 +Test:2/3 TestQueue:387 | P3:3000.00 2x: 5.93 | cold:28 allergies:1 flu:44 | H:9 C:0 D:71 | MC:  52.207 | Q: 47\n",
      "(375s)   Day 46: 2020-04-14 | S:1842 E:78   I:567  E+I+R:1158 +Test:2/3 TestQueue:376 | P3:3000.00 2x: 6.06 | cold:30 allergies:4 flu:39 | H:9 C:0 D:73 | MC:  52.407 | Q: 51\n",
      "(383s)   Day 47: 2020-04-15 | S:1798 E:81   I:556  E+I+R:1202 +Test:0/3 TestQueue:374 | P3:3000.00 2x: 6.15 | cold:31 allergies:3 flu:45 | H:9 C:0 D:84 | MC:  52.583 | Q: 49\n",
      "(390s)   Day 48: 2020-04-16 | S:1772 E:85   I:529  E+I+R:1228 +Test:1/3 TestQueue:363 | P3:3000.00 2x: 6.25 | cold:32 allergies:2 flu:49 | H:9 C:0 D:88 | MC:  52.773 | Q: 47\n",
      "(399s)   Day 49: 2020-04-17 | S:1751 E:90   I:504  E+I+R:1249 +Test:1/3 TestQueue:361 | P3:3000.00 2x: 6.36 | cold:30 allergies:6 flu:52 | H:9 C:0 D:89 | MC:  52.934 | Q: 46\n",
      "(407s)   Day 50: 2020-04-18 | S:1722 E:87   I:506  E+I+R:1278 +Test:1/3 TestQueue:374 | P3:3000.00 2x: 6.46 | cold:28 allergies:2 flu:51 | H:6 C:0 D:89 | MC:  53.123 | Q: 44\n",
      "(411s)   Day 51: 2020-04-19 | S:1688 E:97   I:485  E+I+R:1312 +Test:1/3 TestQueue:354 | P3:3000.00 2x: 6.56 | cold:26 allergies:3 flu:46 | H:9 C:0 D:89 | MC:  53.128 | Q: 47\n",
      "(415s)   Day 52: 2020-04-20 | S:1681 E:76   I:488  E+I+R:1319 +Test:1/3 TestQueue:343 | P3:3000.00 2x: 6.68 | cold:28 allergies:1 flu:45 | H:9 C:0 D:94 | MC:  53.147 | Q: 51\n",
      "(424s)   Day 53: 2020-04-21 | S:1675 E:55   I:470  E+I+R:1325 +Test:2/3 TestQueue:344 | P3:3000.00 2x: 6.81 | cold:30 allergies:1 flu:44 | H:9 C:0 D:98 | MC:  53.301 | Q: 61\n",
      "Transferring H:human:6 age:2, SEIR:0100 to HOUSEHOLD:547 - occ:2/inf - I:False because no adult at HOUSEHOLD:3 - occ:1/inf - I:True is alive. Current residents at HOUSEHOLD:547 - occ:2/inf - I:False: [H:human:2500 age:69, SEIR:1000, H:human:416 age:14, SEIR:1000]\n",
      "Transferring H:human:62 age:0, SEIR:1000 to HOUSEHOLD:12 - occ:3/inf - I:True because no adult at HOUSEHOLD:3 - occ:0/inf - I:True is alive. Current residents at HOUSEHOLD:12 - occ:3/inf - I:True: [H:human:4 age:3, SEIR:1000, H:human:154 age:5, SEIR:0010, H:human:272 age:6, SEIR:1000, H:human:1106 age:31, SEIR:1000]\n",
      "(434s)   Day 54: 2020-04-22 | S:1648 E:60   I:446  E+I+R:1352 +Test:1/3 TestQueue:337 | P3:3000.00 2x: 6.91 | cold:29 allergies:1 flu:47 | H:9 C:0 D:103 | MC:  53.459 | Q: 54\n",
      "(443s)   Day 55: 2020-04-23 | S:1630 E:65   I:429  E+I+R:1370 +Test:1/3 TestQueue:330 | P3:3000.00 2x: 7.02 | cold:34 allergies:2 flu:45 | H:9 C:0 D:105 | MC:  53.601 | Q: 51\n",
      "(451s)   Day 56: 2020-04-24 | S:1598 E:80   I:419  E+I+R:1402 +Test:2/3 TestQueue:312 | P3:3000.00 2x: 7.12 | cold:34 allergies:1 flu:47 | H:9 C:0 D:107 | MC:  53.747 | Q: 52\n",
      "(460s)   Day 57: 2020-04-25 | S:1577 E:81   I:411  E+I+R:1423 +Test:1/3 TestQueue:320 | P3:3000.00 2x: 7.22 | cold:30 allergies:3 flu:50 | H:9 C:0 D:109 | MC:  53.876 | Q: 48\n",
      "Transferring H:human:179 age:7, SEIR:1000 to HOUSEHOLD:133 - occ:2/inf - I:False because no adult at HOUSEHOLD:19 - occ:0/inf - I:True is alive. Current residents at HOUSEHOLD:133 - occ:2/inf - I:False: [H:human:83 age:3, SEIR:1000, H:human:1154 age:32, SEIR:1000]\n",
      "(464s)   Day 58: 2020-04-26 | S:1554 E:68   I:413  E+I+R:1446 +Test:2/3 TestQueue:328 | P3:3000.00 2x: 7.33 | cold:27 allergies:6 flu:49 | H:9 C:0 D:112 | MC:  53.880 | Q: 48\n",
      "(468s)   Day 59: 2020-04-27 | S:1550 E:54   I:396  E+I+R:1450 +Test:1/3 TestQueue:311 | P3:3000.00 2x: 7.45 | cold:29 allergies:7 flu:57 | H:9 C:0 D:116 | MC:  53.894 | Q: 53\n",
      "\n",
      "######## COVID PROPERTIES #########\n",
      "Avg. incubation days  5.58\n",
      "Avg. recovery days  19.15\n",
      "Avg. infectiousnes onset days  3.36\n",
      "\n",
      "######## COVID SPREAD #########\n",
      "# human-human transmissions 1327.0\n",
      "# environment-human transmissions 134.0\n",
      "environmental transmission ratio 9.172 %\n",
      "Average generation time 7.023817926819057 \n",
      "Average serial interval 6.69735182849937 \n",
      "Empirical Ro  2.045 (WARNING: It is an underestimate because it doesn't consider all infectious contacts during the recovery period of infected humans towards the end of the simulation) \n",
      "\n",
      "******** Symptomaticity and Disease Spread *********\n",
      "\n",
      "R0 ( % Transmission ) of all human-human transmission\n",
      "* asymptomatic R0  1.630 ( 15.599 %)\n",
      "* presymptomatic R0  1.748 ( 38.734 %)\n",
      "* symptomatic R0  1.693 ( 45.667 %)\n",
      "\n",
      "******** Locations and Disease Spread *********\n",
      "\n",
      "R0 ( % Transmission ) of all human-human transmission\n",
      "* WORKPLACE R0  1.992 ( 58.252 %)\n",
      "* HOUSEHOLD R0  1.312 ( 27.882 %)\n",
      "* SCHOOL R0  1.688 ( 11.831 %)\n",
      "* HOSPITAL R0  1.923 ( 1.884 %)\n",
      "* MISC R0  1.000 ( 0.151 %)\n",
      "\n",
      "% Transmission of all environmental transmissions\n",
      "* % all transmission 100.000 %\n",
      "* % HOUSEHOLD transmission 39.552 %\n",
      "* % STORE transmission 7.463 %\n",
      "* % WORKPLACE transmission 23.881 %\n",
      "* % SCHOOL transmission 16.418 %\n",
      "* % MISC transmission 5.224 %\n",
      "* % PARK transmission 5.970 %\n",
      "* % HOSPITAL transmission 1.493 %\n",
      "\n",
      "######## SYMPTOMS #########\n",
      "P(symptoms = x | covid patient), where x is:\n",
      "   diarrhea                    : 0.2859\n",
      "    nausea_vomiting             : 0.2729\n",
      "    sneezing                    : 0.2192\n",
      "    moderate_trouble_breathing  : 0.1986\n",
      "    runny_nose                  : 0.1615\n",
      "    confused                    : 0.0948\n",
      "    extremely-severe            : 0.0206\n",
      "    lost_consciousness          : 0.0192\n",
      "    unusual                     : 0.0179\n",
      "    severe_chest_pain           : 0.0076\n",
      "P(symptoms = x | human had some sickness e.g. cold, flu, allergies, covid), where x is:\n",
      "   \n",
      "\n",
      "######## CONTACT PATTERNS #########\n",
      "weekday - | house: 2.180| work: 3.933| school: 9.019| other: 0.890| all: 2.277\n",
      "weekend - | house: 1.764| work: 2.150| school: 0.000| other: 1.313| all: 0.861\n",
      "\n",
      "######## MOBILITY STATISTICS #########\n",
      "Proportion of day spent in activities - \n",
      "\n",
      "Unsupervised activities - \n",
      "weekday - | work: 0.195| socialize: 0.044| grocery: 0.022| exercise: 0.015| idle: 0.305| sleep: 0.332\n",
      "weekend - | work: 0.192| socialize: 0.045| grocery: 0.021| exercise: 0.012| idle: 0.587| sleep: 0.333\n",
      "\n",
      "Supervised activities - \n",
      "weekday - | work: 0.123| socialize: 0.045| grocery: 0.025| exercise: 0.020| idle: 0.317| sleep: 0.118\n",
      "weekend - | work: 0.180| socialize: 0.044| grocery: 0.027| exercise: 0.015| idle: 0.496| sleep: 0.106\n",
      "\n",
      "Social groups -\n",
      "size - mean: 0.27 | std:  1.83 | min:  0.00 | max:  44.00 | \n",
      "location - total visits 11250.000001 | MISC: 5531 49.16 % | HOUSEHOLD: 5693 50.60 % | SENIOR_RESIDENCE: 24 0.21 % | HOSPITAL: 2 0.02 % | \n",
      "Social network properties (degree statistics) - mean  54.01 | std.  34.57 | min  0.00 | max  149.00 | median  55.00\n",
      "\n",
      "end_time - \n",
      "sleep - mean:  7.17 | std:  3.71 | min:  0.00 | max:  24.00 | \n",
      "work - mean:  12.90 | std:  2.12 | min:  8.04 | max:  22.00 | \n",
      "idle - mean:  14.54 | std:  8.40 | min:  0.00 | max:  24.00 | \n",
      "exercise - mean:  11.91 | std:  3.44 | min:  0.72 | max:  23.00 | \n",
      "socialize - mean:  11.88 | std:  3.04 | min:  8.00 | max:  22.00 | \n",
      "grocery - mean:  11.21 | std:  3.13 | min:  8.00 | max:  22.00 | \n",
      "\n",
      "duration - \n",
      "sleep - mean:  7.40 | std:  1.81 | min:  0.00 | max:  9.42 | \n",
      "work - mean:  4.55 | std:  2.16 | min:  0.00 | max:  14.00 | \n",
      "idle - mean:  8.78 | std:  5.75 | min:  0.00 | max:  17.73 | \n",
      "exercise - mean:  0.34 | std:  0.64 | min:  0.00 | max:  4.00 | \n",
      "socialize - mean:  1.06 | std:  1.04 | min:  0.00 | max:  4.00 | \n",
      "grocery - mean:  0.53 | std:  0.80 | min:  0.00 | max:  4.00 | \n",
      "\n",
      "######## COVID Testing Statistics #########\n",
      "Positivity rate:  32.778 %\n",
      "Total Tests: 180 Total positive tests: 59 Total negative tests: 121\n",
      "Maximum tests given to an individual: 2\n",
      "Proportion of population tested until end:  6.000 %\n",
      "Proportion of population tested daily Avg:  0.097 %\n",
      "Proportion of population tested daily Max:  0.133 %\n",
      "Proportion of population tested daily Min:  0.000 %\n",
      "P(tested | symptoms = x), where x is \n",
      "P(symptoms = x | tested), where x is:\n",
      "   sneezing                 : 0.2389\n",
      "    mild                     : 0.1500\n",
      "    runny_nose               : 0.1444\n",
      "    aches                    : 0.0778\n",
      "    confused                 : 0.0667\n",
      "    moderate                 : 0.0667\n",
      "    extremely-severe         : 0.0278\n",
      "    lost_consciousness       : 0.0222\n",
      "    severe_chest_pain        : 0.0167\n",
      "    unusual                  : 0.0056\n",
      "\n",
      "######## Effective Contacts & % infected #########\n",
      "Eff. contacts: 7.240 \t Healthy Eff. Contacts 7.637 \th % infected:  48.900%\n",
      "effective contacts per contacts (GLOBAL_MOBILITY_SCALING_FACTOR): 0.6472065618581\n",
      "Probability of transmission: 0.027\n"
     ]
    },
    {
     "name": "stdout",
     "output_type": "stream",
     "text": [
      "Serial interval:  6.697\n",
      "\n",
      "######## Bayesian Estimates of Rt #########\n",
      "using serial interval :7.023817926819057\n",
      "Rt: [2.5  0.36 0.39 0.43 0.53 1.35 3.44 1.89 1.48 1.38 1.92 2.21 1.94 2.09\n",
      " 1.71 1.29 1.8  2.24 2.39 1.76]\n",
      "Dumping Tracker Data in /src/experiments/validation/results/data/sim_v2_people-3000_days-60_init-0.002_uptake--1_seed-1508_20210701-153833_141200\n"
     ]
    }
   ],
   "source": [
    "!python /COVI-AgentSim/src/covid19sim/run.py region=kingston0xdfc056a4fdb804e60e964b2cc5aae6ea.yaml n_people=3000 simulation_days=60 init_fraction_sick=0.002 N_BEHAVIOR_LEVELS=2 intervention=no_intervention tune=True track=light seed=1508 GLOBAL_MOBILITY_SCALING_FACTOR=0.85 APP_UPTAKE=-1 USE_INFERENCE_SERVER=False outdir=/src/experiments/validation/results/data INTERVENTION_DAY=-1"
   ]
  },
  {
   "cell_type": "code",
   "execution_count": 29,
   "metadata": {},
   "outputs": [
    {
     "name": "stdout",
     "output_type": "stream",
     "text": [
      "sim_v2_people-3000_days-60_init-0.002_uptake--1_seed-1508_20210701-153833_141200\r\n"
     ]
    }
   ],
   "source": [
    "!ls /src/experiments/validation/results/data"
   ]
  },
  {
   "cell_type": "code",
   "execution_count": 32,
   "metadata": {},
   "outputs": [
    {
     "name": "stdout",
     "output_type": "stream",
     "text": [
      "full_configuration.yaml  tracker_data_n_3000_seed_1508_20210701-154653.pkl\r\n",
      "log_20210701-153833.txt\r\n"
     ]
    }
   ],
   "source": [
    "!ls /src/experiments/validation/results/data/sim_v2_people-3000_days-60_init-0.002_uptake--1_seed-1508_20210701-153833_141200"
   ]
  },
  {
   "cell_type": "markdown",
   "metadata": {},
   "source": [
    "I have to trust the simulator's authors that the dump of configuration parameters is correct."
   ]
  },
  {
   "cell_type": "code",
   "execution_count": 33,
   "metadata": {},
   "outputs": [],
   "source": [
    "more /src/experiments/validation/results/data/sim_v2_people-3000_days-60_init-0.002_uptake--1_seed-1508_20210701-153833_141200/full_configuration.yaml"
   ]
  },
  {
   "cell_type": "markdown",
   "metadata": {},
   "source": [
    "We're just missing documentation of the code-base hash so we can recover the code-base that produced these results, ie. code-base(parameters) -> results"
   ]
  },
  {
   "cell_type": "code",
   "execution_count": 34,
   "metadata": {},
   "outputs": [],
   "source": [
    "more /src/experiments/validation/results/data/sim_v2_people-3000_days-60_init-0.002_uptake--1_seed-1508_20210701-153833_141200/log_20210701-153833.txt"
   ]
  },
  {
   "cell_type": "code",
   "execution_count": 35,
   "metadata": {},
   "outputs": [],
   "source": [
    "import pickle"
   ]
  },
  {
   "cell_type": "code",
   "execution_count": 43,
   "metadata": {},
   "outputs": [
    {
     "data": {
      "text/plain": [
       "dict_keys(['intervention_day', 'intervention', 'risk_model', 'COVID_SPREAD_START_TIME', 'INTERVENTION_START_TIME', 'SIMULATION_START_TIME', 'simulation_days', 'n_humans', 'n_init_infected', 'adoption_rate', 'generation_times', 'p_transmission', 'age_histogram', 'human_has_app', 'known_connections', 'humans_demographics', 'contact_patterns', 'infectious_contact_patterns', 'expected_mobility', 'mobility', 'infection_monitor', 'outside_daily_contacts', 'effective_contacts_since_intervention', 'healthy_effective_contacts_since_intervention', 'effective_contacts_all_days', 'healthy_effective_contacts_all_days', 'serial_interval', 'all_serial_intervals', 'cases_per_day', 'ei_per_day', 's', 'e', 'i', 'r', 'avg_infectiousness_per_day', 'covid_properties', 'recovered_stats', 'symptoms', 'test_monitor', 'risk_precision_global', 'risk_precision', 'human_monitor', 'infector_infectee_update_messages', 'risk_attributes', 'humans_state', 'humans_rec_level', 'humans_intervention_level', 'to_human_max_msg_per_day', 'daily_quarantine', 'quarantine_monitor', 'humans_quarantined_state', 'work_hours'])"
      ]
     },
     "execution_count": 43,
     "metadata": {},
     "output_type": "execute_result"
    }
   ],
   "source": [
    "file_name = '/src/experiments/validation/results/data/sim_v2_people-3000_days-60_init-0.002_uptake--1_seed-1508_20210701-153833_141200/tracker_data_n_3000_seed_1508_20210701-154653.pkl'\n",
    "with open(file_name, 'rb') as results_file:\n",
    "    tracker = pickle.load(results_file)\n",
    "tracker.keys()"
   ]
  },
  {
   "cell_type": "code",
   "execution_count": null,
   "metadata": {},
   "outputs": [],
   "source": []
  }
 ],
 "metadata": {
  "kernelspec": {
   "display_name": "Python 3 (ipykernel)",
   "language": "python",
   "name": "python3"
  },
  "language_info": {
   "codemirror_mode": {
    "name": "ipython",
    "version": 3
   },
   "file_extension": ".py",
   "mimetype": "text/x-python",
   "name": "python",
   "nbconvert_exporter": "python",
   "pygments_lexer": "ipython3",
   "version": "3.8.10"
  }
 },
 "nbformat": 4,
 "nbformat_minor": 4
}
