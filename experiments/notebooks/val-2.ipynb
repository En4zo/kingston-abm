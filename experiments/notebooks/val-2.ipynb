{
 "cells": [
  {
   "cell_type": "markdown",
   "metadata": {},
   "source": [
    "# Run a batch of samples on the HPC cluster\n",
    "\n",
    "This experiment is part of a series which should help us validate the Kingston, ON model."
   ]
  },
  {
   "cell_type": "markdown",
   "metadata": {},
   "source": [
    "## Set-up orchistration and compute environments"
   ]
  },
  {
   "cell_type": "markdown",
   "metadata": {},
   "source": [
    "To set-up access to the remote compute server:\n",
    "\n",
    "1. On the local host generate keys:\n",
    "\n",
    "```\n",
    "ssh-keygen -t rsa\n",
    "```\n",
    "\n",
    "1. Copy those keys to the remote host:\n",
    "\n",
    "```\n",
    "cat ~/.ssh/id_rsa.pub | ssh user@hostname 'cat >> .ssh/authorized_keys'\n",
    "```"
   ]
  },
  {
   "cell_type": "code",
   "execution_count": null,
   "metadata": {},
   "outputs": [],
   "source": [
    "!cat /src/ansible/playbooks/hosts"
   ]
  },
  {
   "cell_type": "markdown",
   "metadata": {},
   "source": [
    "### Install simulator on compute environments"
   ]
  },
  {
   "cell_type": "code",
   "execution_count": null,
   "metadata": {},
   "outputs": [],
   "source": [
    "!ansible-playbook -i /src/ansible/playbooks/hosts /src/ansible/playbooks/covid19sim.yml --extra-vars 'host=mulab' --user=paredes"
   ]
  },
  {
   "cell_type": "markdown",
   "metadata": {},
   "source": [
    "### Copy Kingston configuration file to compute environments"
   ]
  },
  {
   "cell_type": "code",
   "execution_count": null,
   "metadata": {},
   "outputs": [],
   "source": [
    "!ansible -i /src/ansible/playbooks/hosts mulab --user=paredes -m copy -a \"src=params/kingston_0xdfc056a4fdb804e60e964b2cc5aae6ea.yml dest=~/COVI-AgentSim/src/covid19sim/configs/simulation/region/kingston0xdfc056a4fdb804e60e964b2cc5aae6ea.yaml\""
   ]
  },
  {
   "cell_type": "markdown",
   "metadata": {},
   "source": [
    "### Generate random seeds"
   ]
  },
  {
   "cell_type": "code",
   "execution_count": null,
   "metadata": {},
   "outputs": [],
   "source": [
    "!/opt/conda/bin/conda run -n covisim conda install numpy -y"
   ]
  },
  {
   "cell_type": "code",
   "execution_count": null,
   "metadata": {},
   "outputs": [],
   "source": [
    "cpus = 16\n",
    "compute = 16\n",
    "n_samples = cpus * compute\n",
    "n_samples"
   ]
  },
  {
   "cell_type": "code",
   "execution_count": null,
   "metadata": {},
   "outputs": [],
   "source": [
    "import numpy as np\n",
    "from numpy.random import default_rng\n",
    "import pandas as pd\n",
    "\n",
    "rng = default_rng()\n",
    "\n",
    "seed_list = [rng.integers(low=0, high=1e4) for _ in range(n_samples)]\n",
    "\n",
    "len(np.unique(seed_list)), pd.DataFrame(seed_list).hist()"
   ]
  },
  {
   "cell_type": "markdown",
   "metadata": {},
   "source": [
    "### Build run commands"
   ]
  },
  {
   "cell_type": "code",
   "execution_count": null,
   "metadata": {},
   "outputs": [],
   "source": [
    "args_dict = {'region': 'kingston0xdfc056a4fdb804e60e964b2cc5aae6ea',\n",
    "        'n_people': 3000,\n",
    "        'simulation_days': 60,\n",
    "        'init_fraction_sick': 0.002,\n",
    "        'N_BEHAVIOR_LEVELS': 2,\n",
    "        'intervention': 'no_intervention',\n",
    "        'tune': True,\n",
    "        'track': 'light',\n",
    "        'GLOBAL_MOBILITY_SCALING_FACTOR': 0.85,\n",
    "        'APP_UPTAKE': -1,\n",
    "        'USE_INFERENCE_SERVER': False,\n",
    "        'INTERVENTION_DAY': -1}\n",
    "args_dict"
   ]
  },
  {
   "cell_type": "code",
   "execution_count": null,
   "metadata": {},
   "outputs": [],
   "source": [
    "args_str = ' '.join([f'{k}={v}' for k, v in args_dict.items()])\n",
    "args_str"
   ]
  },
  {
   "cell_type": "code",
   "execution_count": null,
   "metadata": {},
   "outputs": [],
   "source": [
    "import random\n",
    "import subprocess\n",
    "\n",
    "run_id = hex(random.getrandbits(128))\n",
    "\n",
    "args_list = [f'~/.conda/envs/covisim/bin/python ~/COVI-AgentSim/src/covid19sim/run.py seed={s} outdir=~/kingston-abm/experiments/validation/results/data/{run_id} {args_str}\\n' for s in seed_list]\n",
    "\n",
    "file_name = f'val-2-{run_id}.cmd'\n",
    "\n",
    "with open(file_name, 'w') as arg_file:\n",
    "    arg_file.writelines(args_list)\n",
    "    \n",
    "#subprocess.run(f'cat {file_name} | parallel -j4, shell=True, capture_output=True)\n",
    "\n",
    "file_name"
   ]
  },
  {
   "cell_type": "markdown",
   "metadata": {},
   "source": [
    "## Run simulations"
   ]
  },
  {
   "cell_type": "code",
   "execution_count": null,
   "metadata": {},
   "outputs": [],
   "source": [
    "!cat val-2-0x57e7aa91fbc783d1f3cd1bf719dd5a35.cmd | parallel --sshloginfile nodefile"
   ]
  },
  {
   "cell_type": "markdown",
   "metadata": {},
   "source": [
    "## Set up the local analysis environment"
   ]
  },
  {
   "cell_type": "code",
   "execution_count": 4,
   "metadata": {},
   "outputs": [
    {
     "name": "stdout",
     "output_type": "stream",
     "text": [
      "\n",
      "PLAY [Set-up covid19sim] *******************************************************\n",
      "\n",
      "TASK [Gathering Facts] *********************************************************\n",
      "\u001b[0;32mok: [localhost]\u001b[0m\n",
      "\n",
      "TASK [Create a new viritual environment] ***************************************\n",
      "\u001b[0;33mchanged: [localhost]\u001b[0m\n",
      "\n",
      "TASK [Clone ctt module, required to run simulator] *****************************\n",
      "\u001b[0;33mchanged: [localhost]\u001b[0m\n",
      "\n",
      "TASK [Use fixed requirements.txt] **********************************************\n",
      "\u001b[0;33mchanged: [localhost]\u001b[0m\n",
      "\n",
      "TASK [Use fixed setup.py] ******************************************************\n",
      "\u001b[0;33mchanged: [localhost]\u001b[0m\n",
      "\n",
      "TASK [Version of ctt module should be commit hash] *****************************\n",
      "\u001b[0;33mchanged: [localhost]\u001b[0m\n",
      "\n",
      "TASK [Install ctt module] ******************************************************\n",
      "\u001b[0;33mchanged: [localhost]\u001b[0m\n",
      "\n",
      "TASK [Checkout a viable commit] ************************************************\n",
      "\u001b[0;33mchanged: [localhost]\u001b[0m\n",
      "\n",
      "TASK [Version of covid19sim module should be commit hash] **********************\n",
      "\u001b[0;33mchanged: [localhost]\u001b[0m\n",
      "\n",
      "TASK [Install simulator] *******************************************************\n",
      "\u001b[0;33mchanged: [localhost]\u001b[0m\n",
      "\n",
      "PLAY RECAP *********************************************************************\n",
      "\u001b[0;33mlocalhost\u001b[0m                  : \u001b[0;32mok=10  \u001b[0m \u001b[0;33mchanged=9   \u001b[0m unreachable=0    failed=0    skipped=0    rescued=0    ignored=0   \n",
      "\n"
     ]
    }
   ],
   "source": [
    "!ansible-playbook -i /src/ansible/playbooks/hosts /src/ansible/playbooks/covid19sim.yml"
   ]
  },
  {
   "cell_type": "code",
   "execution_count": null,
   "metadata": {},
   "outputs": [],
   "source": [
    "!ipython kernel install --name covisim"
   ]
  },
  {
   "cell_type": "code",
   "execution_count": null,
   "metadata": {},
   "outputs": [],
   "source": [
    "!/opt/conda/bin/conda run -n covisim conda install ipykernel -y"
   ]
  },
  {
   "cell_type": "code",
   "execution_count": 8,
   "metadata": {},
   "outputs": [
    {
     "name": "stdout",
     "output_type": "stream",
     "text": [
      "Collecting package metadata (current_repodata.json): ...working... done\r\n",
      "Solving environment: ...working... done\r\n",
      "\r\n",
      "## Package Plan ##\r\n",
      "\r\n",
      "  environment location: /opt/conda/envs/covisim\r\n",
      "\r\n",
      "  added / updated specs:\r\n",
      "    - matplotlib\r\n",
      "\r\n",
      "\r\n",
      "The following packages will be downloaded:\r\n",
      "\r\n",
      "    package                    |            build\r\n",
      "    ---------------------------|-----------------\r\n",
      "    blas-1.0                   |              mkl           6 KB\r\n",
      "    cycler-0.10.0              |           py38_0          14 KB\r\n",
      "    intel-openmp-2021.2.0      |     h06a4308_610         1.3 MB\r\n",
      "    kiwisolver-1.3.1           |   py38h2531618_0          80 KB\r\n",
      "    lcms2-2.12                 |       h3be6417_0         312 KB\r\n",
      "    libtiff-4.2.0              |       h85742a9_0         502 KB\r\n",
      "    libwebp-base-1.2.0         |       h27cfd23_0         437 KB\r\n",
      "    libxml2-2.9.12             |       h03d6c58_0         1.2 MB\r\n",
      "    lz4-c-1.9.3                |       h2531618_0         186 KB\r\n",
      "    matplotlib-3.3.4           |   py38h06a4308_0          26 KB\r\n",
      "    matplotlib-base-3.3.4      |   py38h62a2d02_0         5.1 MB\r\n",
      "    mkl-2021.2.0               |     h06a4308_296       144.3 MB\r\n",
      "    mkl-service-2.3.0          |   py38h27cfd23_1          57 KB\r\n",
      "    mkl_fft-1.3.0              |   py38h42c9631_2         180 KB\r\n",
      "    mkl_random-1.2.1           |   py38ha9443f7_2         305 KB\r\n",
      "    numpy-1.20.2               |   py38h2d18471_0          23 KB\r\n",
      "    numpy-base-1.20.2          |   py38hfae3a4d_0         4.6 MB\r\n",
      "    olefile-0.46               |             py_0          33 KB\r\n",
      "    pillow-8.2.0               |   py38he98fc37_0         628 KB\r\n",
      "    zstd-1.4.9                 |       haebb681_0         480 KB\r\n",
      "    ------------------------------------------------------------\r\n",
      "                                           Total:       159.7 MB\r\n",
      "\r\n",
      "The following NEW packages will be INSTALLED:\r\n",
      "\r\n",
      "  blas               pkgs/main/linux-64::blas-1.0-mkl\r\n",
      "  cycler             pkgs/main/linux-64::cycler-0.10.0-py38_0\r\n",
      "  dbus               pkgs/main/linux-64::dbus-1.13.18-hb2f20db_0\r\n",
      "  expat              pkgs/main/linux-64::expat-2.4.1-h2531618_2\r\n",
      "  fontconfig         pkgs/main/linux-64::fontconfig-2.13.1-h6c09931_0\r\n",
      "  freetype           pkgs/main/linux-64::freetype-2.10.4-h5ab3b9f_0\r\n",
      "  glib               pkgs/main/linux-64::glib-2.68.2-h36276a3_0\r\n",
      "  gst-plugins-base   pkgs/main/linux-64::gst-plugins-base-1.14.0-h8213a91_2\r\n",
      "  gstreamer          pkgs/main/linux-64::gstreamer-1.14.0-h28cd5cc_2\r\n",
      "  icu                pkgs/main/linux-64::icu-58.2-he6710b0_3\r\n",
      "  intel-openmp       pkgs/main/linux-64::intel-openmp-2021.2.0-h06a4308_610\r\n",
      "  jpeg               pkgs/main/linux-64::jpeg-9b-h024ee3a_2\r\n",
      "  kiwisolver         pkgs/main/linux-64::kiwisolver-1.3.1-py38h2531618_0\r\n",
      "  lcms2              pkgs/main/linux-64::lcms2-2.12-h3be6417_0\r\n",
      "  libpng             pkgs/main/linux-64::libpng-1.6.37-hbc83047_0\r\n",
      "  libtiff            pkgs/main/linux-64::libtiff-4.2.0-h85742a9_0\r\n",
      "  libuuid            pkgs/main/linux-64::libuuid-1.0.3-h1bed415_2\r\n",
      "  libwebp-base       pkgs/main/linux-64::libwebp-base-1.2.0-h27cfd23_0\r\n",
      "  libxcb             pkgs/main/linux-64::libxcb-1.14-h7b6447c_0\r\n",
      "  libxml2            pkgs/main/linux-64::libxml2-2.9.12-h03d6c58_0\r\n",
      "  lz4-c              pkgs/main/linux-64::lz4-c-1.9.3-h2531618_0\r\n",
      "  matplotlib         pkgs/main/linux-64::matplotlib-3.3.4-py38h06a4308_0\r\n",
      "  matplotlib-base    pkgs/main/linux-64::matplotlib-base-3.3.4-py38h62a2d02_0\r\n",
      "  mkl                pkgs/main/linux-64::mkl-2021.2.0-h06a4308_296\r\n",
      "  mkl-service        pkgs/main/linux-64::mkl-service-2.3.0-py38h27cfd23_1\r\n",
      "  mkl_fft            pkgs/main/linux-64::mkl_fft-1.3.0-py38h42c9631_2\r\n",
      "  mkl_random         pkgs/main/linux-64::mkl_random-1.2.1-py38ha9443f7_2\r\n",
      "  numpy              pkgs/main/linux-64::numpy-1.20.2-py38h2d18471_0\r\n",
      "  numpy-base         pkgs/main/linux-64::numpy-base-1.20.2-py38hfae3a4d_0\r\n",
      "  olefile            pkgs/main/noarch::olefile-0.46-py_0\r\n",
      "  pcre               pkgs/main/linux-64::pcre-8.45-h295c915_0\r\n",
      "  pillow             pkgs/main/linux-64::pillow-8.2.0-py38he98fc37_0\r\n",
      "  pyparsing          pkgs/main/noarch::pyparsing-2.4.7-pyhd3eb1b0_0\r\n",
      "  pyqt               pkgs/main/linux-64::pyqt-5.9.2-py38h05f1152_4\r\n",
      "  qt                 pkgs/main/linux-64::qt-5.9.7-h5867ecd_1\r\n",
      "  sip                pkgs/main/linux-64::sip-4.19.13-py38he6710b0_0\r\n",
      "  zstd               pkgs/main/linux-64::zstd-1.4.9-haebb681_0\r\n",
      "\r\n",
      "\r\n",
      "\r\n",
      "Downloading and Extracting Packages\r\n",
      "\r",
      "lcms2-2.12           | 312 KB    |            |   0% \r",
      "lcms2-2.12           | 312 KB    | ########2  |  82% \r",
      "lcms2-2.12           | 312 KB    | ########## | 100% \r\n",
      "\r",
      "mkl_fft-1.3.0        | 180 KB    |            |   0% \r",
      "mkl_fft-1.3.0        | 180 KB    | ########## | 100% \r\n",
      "\r",
      "mkl-service-2.3.0    | 57 KB     |            |   0% \r",
      "mkl-service-2.3.0    | 57 KB     | ########## | 100% \r\n",
      "\r",
      "mkl-2021.2.0         | 144.3 MB  |            |   0% \r",
      "mkl-2021.2.0         | 144.3 MB  |            |   0% \r",
      "mkl-2021.2.0         | 144.3 MB  |            |   1% \r",
      "mkl-2021.2.0         | 144.3 MB  | 1          |   1% \r",
      "mkl-2021.2.0         | 144.3 MB  | 1          |   2% \r",
      "mkl-2021.2.0         | 144.3 MB  | 2          |   2% \r",
      "mkl-2021.2.0         | 144.3 MB  | 2          |   3% \r",
      "mkl-2021.2.0         | 144.3 MB  | 3          |   3% \r",
      "mkl-2021.2.0         | 144.3 MB  | 3          |   4% \r",
      "mkl-2021.2.0         | 144.3 MB  | 4          |   4% \r",
      "mkl-2021.2.0         | 144.3 MB  | 4          |   5% \r",
      "mkl-2021.2.0         | 144.3 MB  | 5          |   5% \r",
      "mkl-2021.2.0         | 144.3 MB  | 5          |   5% \r",
      "mkl-2021.2.0         | 144.3 MB  | 5          |   6% \r",
      "mkl-2021.2.0         | 144.3 MB  | 6          |   6% \r",
      "mkl-2021.2.0         | 144.3 MB  | 6          |   7% \r",
      "mkl-2021.2.0         | 144.3 MB  | 7          |   7% \r",
      "mkl-2021.2.0         | 144.3 MB  | 7          |   8% \r",
      "mkl-2021.2.0         | 144.3 MB  | 8          |   8% \r",
      "mkl-2021.2.0         | 144.3 MB  | 8          |   9% \r",
      "mkl-2021.2.0         | 144.3 MB  | 9          |   9% \r",
      "mkl-2021.2.0         | 144.3 MB  | 9          |  10% \r",
      "mkl-2021.2.0         | 144.3 MB  | #          |  10% \r",
      "mkl-2021.2.0         | 144.3 MB  | #          |  11% \r",
      "mkl-2021.2.0         | 144.3 MB  | #1         |  11% \r",
      "mkl-2021.2.0         | 144.3 MB  | #1         |  12% \r",
      "mkl-2021.2.0         | 144.3 MB  | #2         |  12% \r",
      "mkl-2021.2.0         | 144.3 MB  | #2         |  13% \r",
      "mkl-2021.2.0         | 144.3 MB  | #3         |  13% \r",
      "mkl-2021.2.0         | 144.3 MB  | #3         |  14% \r",
      "mkl-2021.2.0         | 144.3 MB  | #4         |  14% \r",
      "mkl-2021.2.0         | 144.3 MB  | #4         |  15% \r",
      "mkl-2021.2.0         | 144.3 MB  | #4         |  15% \r",
      "mkl-2021.2.0         | 144.3 MB  | #5         |  15% \r",
      "mkl-2021.2.0         | 144.3 MB  | #5         |  16% \r",
      "mkl-2021.2.0         | 144.3 MB  | #6         |  16% \r",
      "mkl-2021.2.0         | 144.3 MB  | #6         |  17% \r",
      "mkl-2021.2.0         | 144.3 MB  | #7         |  17% \r",
      "mkl-2021.2.0         | 144.3 MB  | #7         |  18% \r",
      "mkl-2021.2.0         | 144.3 MB  | #8         |  18% \r",
      "mkl-2021.2.0         | 144.3 MB  | #8         |  19% \r",
      "mkl-2021.2.0         | 144.3 MB  | #9         |  19% \r",
      "mkl-2021.2.0         | 144.3 MB  | #9         |  20% \r",
      "mkl-2021.2.0         | 144.3 MB  | ##         |  20% \r",
      "mkl-2021.2.0         | 144.3 MB  | ##         |  21% \r",
      "mkl-2021.2.0         | 144.3 MB  | ##1        |  21% \r",
      "mkl-2021.2.0         | 144.3 MB  | ##1        |  21% \r",
      "mkl-2021.2.0         | 144.3 MB  | ##1        |  22% \r",
      "mkl-2021.2.0         | 144.3 MB  | ##2        |  22% \r",
      "mkl-2021.2.0         | 144.3 MB  | ##2        |  23% \r",
      "mkl-2021.2.0         | 144.3 MB  | ##3        |  23% \r",
      "mkl-2021.2.0         | 144.3 MB  | ##3        |  24% \r",
      "mkl-2021.2.0         | 144.3 MB  | ##4        |  24% \r",
      "mkl-2021.2.0         | 144.3 MB  | ##4        |  25% \r",
      "mkl-2021.2.0         | 144.3 MB  | ##5        |  25% \r",
      "mkl-2021.2.0         | 144.3 MB  | ##5        |  26% \r",
      "mkl-2021.2.0         | 144.3 MB  | ##6        |  26% \r",
      "mkl-2021.2.0         | 144.3 MB  | ##6        |  27% \r",
      "mkl-2021.2.0         | 144.3 MB  | ##7        |  27% \r",
      "mkl-2021.2.0         | 144.3 MB  | ##7        |  28% \r",
      "mkl-2021.2.0         | 144.3 MB  | ##8        |  28% \r",
      "mkl-2021.2.0         | 144.3 MB  | ##8        |  29% \r",
      "mkl-2021.2.0         | 144.3 MB  | ##9        |  29% \r",
      "mkl-2021.2.0         | 144.3 MB  | ##9        |  30% \r",
      "mkl-2021.2.0         | 144.3 MB  | ##9        |  30% \r",
      "mkl-2021.2.0         | 144.3 MB  | ###        |  30% \r",
      "mkl-2021.2.0         | 144.3 MB  | ###        |  31% \r",
      "mkl-2021.2.0         | 144.3 MB  | ###1       |  31% \r",
      "mkl-2021.2.0         | 144.3 MB  | ###1       |  32% \r",
      "mkl-2021.2.0         | 144.3 MB  | ###2       |  32% \r",
      "mkl-2021.2.0         | 144.3 MB  | ###2       |  33% \r",
      "mkl-2021.2.0         | 144.3 MB  | ###3       |  33% \r",
      "mkl-2021.2.0         | 144.3 MB  | ###3       |  34% \r",
      "mkl-2021.2.0         | 144.3 MB  | ###4       |  34% \r",
      "mkl-2021.2.0         | 144.3 MB  | ###4       |  35% \r",
      "mkl-2021.2.0         | 144.3 MB  | ###5       |  35% \r",
      "mkl-2021.2.0         | 144.3 MB  | ###5       |  36% \r",
      "mkl-2021.2.0         | 144.3 MB  | ###6       |  36% \r",
      "mkl-2021.2.0         | 144.3 MB  | ###6       |  37% \r",
      "mkl-2021.2.0         | 144.3 MB  | ###6       |  37% \r",
      "mkl-2021.2.0         | 144.3 MB  | ###7       |  37% \r",
      "mkl-2021.2.0         | 144.3 MB  | ###7       |  38% \r",
      "mkl-2021.2.0         | 144.3 MB  | ###8       |  38% \r",
      "mkl-2021.2.0         | 144.3 MB  | ###8       |  39% \r",
      "mkl-2021.2.0         | 144.3 MB  | ###9       |  39% \r",
      "mkl-2021.2.0         | 144.3 MB  | ###9       |  40% \r",
      "mkl-2021.2.0         | 144.3 MB  | ####       |  40% \r",
      "mkl-2021.2.0         | 144.3 MB  | ####       |  41% \r",
      "mkl-2021.2.0         | 144.3 MB  | ####1      |  41% \r",
      "mkl-2021.2.0         | 144.3 MB  | ####1      |  42% \r",
      "mkl-2021.2.0         | 144.3 MB  | ####2      |  42% \r",
      "mkl-2021.2.0         | 144.3 MB  | ####2      |  43% \r",
      "mkl-2021.2.0         | 144.3 MB  | ####3      |  43% \r",
      "mkl-2021.2.0         | 144.3 MB  | ####3      |  44% \r",
      "mkl-2021.2.0         | 144.3 MB  | ####3      |  44% \r",
      "mkl-2021.2.0         | 144.3 MB  | ####4      |  44% \r",
      "mkl-2021.2.0         | 144.3 MB  | ####4      |  45% \r",
      "mkl-2021.2.0         | 144.3 MB  | ####5      |  45% \r",
      "mkl-2021.2.0         | 144.3 MB  | ####5      |  46% \r",
      "mkl-2021.2.0         | 144.3 MB  | ####6      |  46% \r",
      "mkl-2021.2.0         | 144.3 MB  | ####6      |  47% \r",
      "mkl-2021.2.0         | 144.3 MB  | ####7      |  47% \r",
      "mkl-2021.2.0         | 144.3 MB  | ####7      |  48% \r",
      "mkl-2021.2.0         | 144.3 MB  | ####8      |  48% \r",
      "mkl-2021.2.0         | 144.3 MB  | ####8      |  49% \r",
      "mkl-2021.2.0         | 144.3 MB  | ####9      |  49% \r",
      "mkl-2021.2.0         | 144.3 MB  | ####9      |  50% \r",
      "mkl-2021.2.0         | 144.3 MB  | #####      |  50% \r",
      "mkl-2021.2.0         | 144.3 MB  | #####      |  50% \r",
      "mkl-2021.2.0         | 144.3 MB  | #####      |  51% \r",
      "mkl-2021.2.0         | 144.3 MB  | #####1     |  51% \r",
      "mkl-2021.2.0         | 144.3 MB  | #####1     |  52% \r",
      "mkl-2021.2.0         | 144.3 MB  | #####2     |  52% \r",
      "mkl-2021.2.0         | 144.3 MB  | #####2     |  53% \r",
      "mkl-2021.2.0         | 144.3 MB  | #####3     |  53% \r",
      "mkl-2021.2.0         | 144.3 MB  | #####3     |  54% \r",
      "mkl-2021.2.0         | 144.3 MB  | #####4     |  54% \r",
      "mkl-2021.2.0         | 144.3 MB  | #####4     |  55% \r",
      "mkl-2021.2.0         | 144.3 MB  | #####5     |  55% \r",
      "mkl-2021.2.0         | 144.3 MB  | #####5     |  56% \r",
      "mkl-2021.2.0         | 144.3 MB  | #####6     |  56% \r",
      "mkl-2021.2.0         | 144.3 MB  | #####6     |  57% \r",
      "mkl-2021.2.0         | 144.3 MB  | #####7     |  57% \r",
      "mkl-2021.2.0         | 144.3 MB  | #####7     |  58% \r",
      "mkl-2021.2.0         | 144.3 MB  | #####7     |  58% \r",
      "mkl-2021.2.0         | 144.3 MB  | #####8     |  58% \r",
      "mkl-2021.2.0         | 144.3 MB  | #####8     |  59% \r",
      "mkl-2021.2.0         | 144.3 MB  | #####9     |  59% \r",
      "mkl-2021.2.0         | 144.3 MB  | #####9     |  60% \r",
      "mkl-2021.2.0         | 144.3 MB  | ######     |  60% \r",
      "mkl-2021.2.0         | 144.3 MB  | ######     |  61% \r",
      "mkl-2021.2.0         | 144.3 MB  | ######1    |  61% \r",
      "mkl-2021.2.0         | 144.3 MB  | ######1    |  62% \r",
      "mkl-2021.2.0         | 144.3 MB  | ######2    |  62% \r",
      "mkl-2021.2.0         | 144.3 MB  | ######2    |  63% \r",
      "mkl-2021.2.0         | 144.3 MB  | ######3    |  63% \r",
      "mkl-2021.2.0         | 144.3 MB  | ######3    |  64% \r",
      "mkl-2021.2.0         | 144.3 MB  | ######4    |  64% \r",
      "mkl-2021.2.0         | 144.3 MB  | ######4    |  65% \r",
      "mkl-2021.2.0         | 144.3 MB  | ######4    |  65% \r",
      "mkl-2021.2.0         | 144.3 MB  | ######5    |  65% \r",
      "mkl-2021.2.0         | 144.3 MB  | ######5    |  66% \r",
      "mkl-2021.2.0         | 144.3 MB  | ######6    |  66% \r",
      "mkl-2021.2.0         | 144.3 MB  | ######6    |  67% \r",
      "mkl-2021.2.0         | 144.3 MB  | ######7    |  67% \r",
      "mkl-2021.2.0         | 144.3 MB  | ######7    |  68% \r",
      "mkl-2021.2.0         | 144.3 MB  | ######8    |  68% \r",
      "mkl-2021.2.0         | 144.3 MB  | ######8    |  69% \r",
      "mkl-2021.2.0         | 144.3 MB  | ######9    |  69% \r",
      "mkl-2021.2.0         | 144.3 MB  | ######9    |  70% \r",
      "mkl-2021.2.0         | 144.3 MB  | #######    |  70% \r",
      "mkl-2021.2.0         | 144.3 MB  | #######    |  71% \r",
      "mkl-2021.2.0         | 144.3 MB  | #######1   |  71% \r",
      "mkl-2021.2.0         | 144.3 MB  | #######1   |  71% \r",
      "mkl-2021.2.0         | 144.3 MB  | #######1   |  72% \r",
      "mkl-2021.2.0         | 144.3 MB  | #######2   |  72% \r",
      "mkl-2021.2.0         | 144.3 MB  | #######2   |  73% \r",
      "mkl-2021.2.0         | 144.3 MB  | #######3   |  73% \r",
      "mkl-2021.2.0         | 144.3 MB  | #######3   |  74% \r",
      "mkl-2021.2.0         | 144.3 MB  | #######4   |  74% \r",
      "mkl-2021.2.0         | 144.3 MB  | #######4   |  75% \r",
      "mkl-2021.2.0         | 144.3 MB  | #######5   |  75% \r",
      "mkl-2021.2.0         | 144.3 MB  | #######5   |  76% \r",
      "mkl-2021.2.0         | 144.3 MB  | #######6   |  76% \r",
      "mkl-2021.2.0         | 144.3 MB  | #######6   |  77% \r",
      "mkl-2021.2.0         | 144.3 MB  | #######7   |  77% \r",
      "mkl-2021.2.0         | 144.3 MB  | #######7   |  78% \r",
      "mkl-2021.2.0         | 144.3 MB  | #######7   |  78% \r",
      "mkl-2021.2.0         | 144.3 MB  | #######8   |  78% \r",
      "mkl-2021.2.0         | 144.3 MB  | #######8   |  79% \r",
      "mkl-2021.2.0         | 144.3 MB  | #######9   |  79% \r",
      "mkl-2021.2.0         | 144.3 MB  | #######9   |  80% \r",
      "mkl-2021.2.0         | 144.3 MB  | ########   |  80% \r",
      "mkl-2021.2.0         | 144.3 MB  | ########   |  81% \r",
      "mkl-2021.2.0         | 144.3 MB  | ########1  |  81% \r",
      "mkl-2021.2.0         | 144.3 MB  | ########1  |  82% \r",
      "mkl-2021.2.0         | 144.3 MB  | ########2  |  82% \r",
      "mkl-2021.2.0         | 144.3 MB  | ########2  |  83% \r",
      "mkl-2021.2.0         | 144.3 MB  | ########3  |  83% \r",
      "mkl-2021.2.0         | 144.3 MB  | ########3  |  84% \r",
      "mkl-2021.2.0         | 144.3 MB  | ########4  |  84% \r",
      "mkl-2021.2.0         | 144.3 MB  | ########4  |  85% \r",
      "mkl-2021.2.0         | 144.3 MB  | ########5  |  85% \r",
      "mkl-2021.2.0         | 144.3 MB  | ########5  |  86% \r",
      "mkl-2021.2.0         | 144.3 MB  | ########5  |  86% \r",
      "mkl-2021.2.0         | 144.3 MB  | ########6  |  86% \r",
      "mkl-2021.2.0         | 144.3 MB  | ########6  |  87% \r",
      "mkl-2021.2.0         | 144.3 MB  | ########7  |  87% \r",
      "mkl-2021.2.0         | 144.3 MB  | ########7  |  88% \r",
      "mkl-2021.2.0         | 144.3 MB  | ########8  |  88% \r",
      "mkl-2021.2.0         | 144.3 MB  | ########8  |  89% \r",
      "mkl-2021.2.0         | 144.3 MB  | ########9  |  89% \r",
      "mkl-2021.2.0         | 144.3 MB  | ########9  |  90% \r",
      "mkl-2021.2.0         | 144.3 MB  | #########  |  90% \r",
      "mkl-2021.2.0         | 144.3 MB  | #########  |  91% \r",
      "mkl-2021.2.0         | 144.3 MB  | #########1 |  91% \r",
      "mkl-2021.2.0         | 144.3 MB  | #########1 |  92% \r",
      "mkl-2021.2.0         | 144.3 MB  | #########2 |  92% \r",
      "mkl-2021.2.0         | 144.3 MB  | #########2 |  93% \r",
      "mkl-2021.2.0         | 144.3 MB  | #########3 |  93% \r",
      "mkl-2021.2.0         | 144.3 MB  | #########3 |  93% \r",
      "mkl-2021.2.0         | 144.3 MB  | #########3 |  94% \r",
      "mkl-2021.2.0         | 144.3 MB  | #########4 |  94% \r",
      "mkl-2021.2.0         | 144.3 MB  | #########4 |  95% \r",
      "mkl-2021.2.0         | 144.3 MB  | #########5 |  95% \r",
      "mkl-2021.2.0         | 144.3 MB  | #########5 |  96% \r",
      "mkl-2021.2.0         | 144.3 MB  | #########6 |  96% \r",
      "mkl-2021.2.0         | 144.3 MB  | #########6 |  97% \r",
      "mkl-2021.2.0         | 144.3 MB  | #########7 |  97% \r",
      "mkl-2021.2.0         | 144.3 MB  | #########7 |  98% \r",
      "mkl-2021.2.0         | 144.3 MB  | #########8 |  98% \r",
      "mkl-2021.2.0         | 144.3 MB  | #########8 |  98% \r",
      "mkl-2021.2.0         | 144.3 MB  | #########8 |  99% \r",
      "mkl-2021.2.0         | 144.3 MB  | #########9 |  99% \r",
      "mkl-2021.2.0         | 144.3 MB  | #########9 | 100% \r",
      "mkl-2021.2.0         | 144.3 MB  | ########## | 100% \r\n",
      "\r",
      "cycler-0.10.0        | 14 KB     |            |   0% \r",
      "cycler-0.10.0        | 14 KB     | ########## | 100% \r\n",
      "\r",
      "blas-1.0             | 6 KB      |            |   0% \r",
      "blas-1.0             | 6 KB      | ########## | 100% \r\n",
      "\r",
      "libtiff-4.2.0        | 502 KB    |            |   0% \r",
      "libtiff-4.2.0        | 502 KB    | ########## | 100% \r",
      "libtiff-4.2.0        | 502 KB    | ########## | 100% \r\n",
      "\r",
      "matplotlib-3.3.4     | 26 KB     |            |   0% \r",
      "matplotlib-3.3.4     | 26 KB     | ########## | 100% \r\n",
      "\r",
      "intel-openmp-2021.2. | 1.3 MB    |            |   0% \r",
      "intel-openmp-2021.2. | 1.3 MB    | ####       |  41% \r",
      "intel-openmp-2021.2. | 1.3 MB    | #########1 |  91% \r",
      "intel-openmp-2021.2. | 1.3 MB    | ########## | 100% \r\n",
      "\r",
      "matplotlib-base-3.3. | 5.1 MB    |            |   0% \r",
      "matplotlib-base-3.3. | 5.1 MB    | 9          |  10% \r",
      "matplotlib-base-3.3. | 5.1 MB    | ##1        |  22% \r",
      "matplotlib-base-3.3. | 5.1 MB    | ###5       |  36% \r",
      "matplotlib-base-3.3. | 5.1 MB    | ####8      |  48% \r",
      "matplotlib-base-3.3. | 5.1 MB    | ######1    |  62% \r",
      "matplotlib-base-3.3. | 5.1 MB    | #######5   |  75% \r",
      "matplotlib-base-3.3. | 5.1 MB    | ########8  |  89% \r",
      "matplotlib-base-3.3. | 5.1 MB    | ########## | 100% \r\n",
      "\r",
      "lz4-c-1.9.3          | 186 KB    |            |   0% \r",
      "lz4-c-1.9.3          | 186 KB    | ########## | 100% \r\n",
      "\r",
      "mkl_random-1.2.1     | 305 KB    |            |   0% \r",
      "mkl_random-1.2.1     | 305 KB    | ########## | 100% \r\n",
      "\r",
      "kiwisolver-1.3.1     | 80 KB     |            |   0% \r",
      "kiwisolver-1.3.1     | 80 KB     | ########## | 100% \r\n",
      "\r",
      "pillow-8.2.0         | 628 KB    |            |   0% \r",
      "pillow-8.2.0         | 628 KB    | ########6  |  87% \r",
      "pillow-8.2.0         | 628 KB    | ########## | 100% \r\n",
      "\r",
      "numpy-1.20.2         | 23 KB     |            |   0% \r",
      "numpy-1.20.2         | 23 KB     | ########## | 100% \r\n",
      "\r",
      "zstd-1.4.9           | 480 KB    |            |   0% \r",
      "zstd-1.4.9           | 480 KB    | ########## | 100% \r",
      "zstd-1.4.9           | 480 KB    | ########## | 100% \r\n",
      "\r",
      "libwebp-base-1.2.0   | 437 KB    |            |   0% \r",
      "libwebp-base-1.2.0   | 437 KB    | ########## | 100% \r\n",
      "\r",
      "libxml2-2.9.12       | 1.2 MB    |            |   0% \r",
      "libxml2-2.9.12       | 1.2 MB    | ####4      |  45% \r",
      "libxml2-2.9.12       | 1.2 MB    | ########## | 100% \r",
      "libxml2-2.9.12       | 1.2 MB    | ########## | 100% \r\n",
      "\r",
      "numpy-base-1.20.2    | 4.6 MB    |            |   0% \r",
      "numpy-base-1.20.2    | 4.6 MB    | #1         |  12% \r",
      "numpy-base-1.20.2    | 4.6 MB    | ##6        |  27% \r",
      "numpy-base-1.20.2    | 4.6 MB    | ####1      |  41% \r",
      "numpy-base-1.20.2    | 4.6 MB    | #####5     |  56% \r",
      "numpy-base-1.20.2    | 4.6 MB    | #######    |  71% \r",
      "numpy-base-1.20.2    | 4.6 MB    | ########5  |  85% \r",
      "numpy-base-1.20.2    | 4.6 MB    | ########## | 100% \r",
      "numpy-base-1.20.2    | 4.6 MB    | ########## | 100% \r\n",
      "\r",
      "olefile-0.46         | 33 KB     |            |   0% \r",
      "olefile-0.46         | 33 KB     | ########## | 100% \r\n",
      "Preparing transaction: ...working... done\r\n",
      "Verifying transaction: ...working... done\r\n",
      "Executing transaction: ...working... done\r\n",
      "\r\n"
     ]
    }
   ],
   "source": [
    "!/opt/conda/bin/conda run -n covisim conda install matplotlib -y"
   ]
  },
  {
   "cell_type": "code",
   "execution_count": 23,
   "metadata": {},
   "outputs": [
    {
     "data": {
      "text/plain": [
       "256"
      ]
     },
     "execution_count": 23,
     "metadata": {},
     "output_type": "execute_result"
    }
   ],
   "source": [
    "import os\n",
    "\n",
    "run_id = '0x57e7aa91fbc783d1f3cd1bf719dd5a35'\n",
    "\n",
    "samples = os.listdir(f'../data/{run_id}')\n",
    "len(samples)"
   ]
  },
  {
   "cell_type": "code",
   "execution_count": 36,
   "metadata": {},
   "outputs": [
    {
     "data": {
      "text/html": [
       "<div>\n",
       "<style scoped>\n",
       "    .dataframe tbody tr th:only-of-type {\n",
       "        vertical-align: middle;\n",
       "    }\n",
       "\n",
       "    .dataframe tbody tr th {\n",
       "        vertical-align: top;\n",
       "    }\n",
       "\n",
       "    .dataframe thead th {\n",
       "        text-align: right;\n",
       "    }\n",
       "</style>\n",
       "<table border=\"1\" class=\"dataframe\">\n",
       "  <thead>\n",
       "    <tr style=\"text-align: right;\">\n",
       "      <th></th>\n",
       "      <th>params</th>\n",
       "      <th>log</th>\n",
       "      <th>metrics</th>\n",
       "      <th>sample</th>\n",
       "    </tr>\n",
       "  </thead>\n",
       "  <tbody>\n",
       "    <tr>\n",
       "      <th>0</th>\n",
       "      <td>full_configuration.yaml</td>\n",
       "      <td>log_20210706-135347.txt</td>\n",
       "      <td>tracker_data_n_3000_seed_1054_20210706-140112.pkl</td>\n",
       "      <td>sim_v2_people-3000_days-60_init-0.002_uptake--...</td>\n",
       "    </tr>\n",
       "    <tr>\n",
       "      <th>1</th>\n",
       "      <td>full_configuration.yaml</td>\n",
       "      <td>log_20210706-140134.txt</td>\n",
       "      <td>tracker_data_n_3000_seed_1061_20210706-140858.pkl</td>\n",
       "      <td>sim_v2_people-3000_days-60_init-0.002_uptake--...</td>\n",
       "    </tr>\n",
       "    <tr>\n",
       "      <th>2</th>\n",
       "      <td>full_configuration.yaml</td>\n",
       "      <td>log_20210706-135348.txt</td>\n",
       "      <td>tracker_data_n_3000_seed_1106_20210706-140058.pkl</td>\n",
       "      <td>sim_v2_people-3000_days-60_init-0.002_uptake--...</td>\n",
       "    </tr>\n",
       "    <tr>\n",
       "      <th>3</th>\n",
       "      <td>full_configuration.yaml</td>\n",
       "      <td>log_20210706-140136.txt</td>\n",
       "      <td>tracker_data_n_3000_seed_1182_20210706-141003.pkl</td>\n",
       "      <td>sim_v2_people-3000_days-60_init-0.002_uptake--...</td>\n",
       "    </tr>\n",
       "    <tr>\n",
       "      <th>4</th>\n",
       "      <td>full_configuration.yaml</td>\n",
       "      <td>log_20210706-135349.txt</td>\n",
       "      <td>tracker_data_n_3000_seed_1199_20210706-140153.pkl</td>\n",
       "      <td>sim_v2_people-3000_days-60_init-0.002_uptake--...</td>\n",
       "    </tr>\n",
       "  </tbody>\n",
       "</table>\n",
       "</div>"
      ],
      "text/plain": [
       "                    params                      log  \\\n",
       "0  full_configuration.yaml  log_20210706-135347.txt   \n",
       "1  full_configuration.yaml  log_20210706-140134.txt   \n",
       "2  full_configuration.yaml  log_20210706-135348.txt   \n",
       "3  full_configuration.yaml  log_20210706-140136.txt   \n",
       "4  full_configuration.yaml  log_20210706-135349.txt   \n",
       "\n",
       "                                             metrics  \\\n",
       "0  tracker_data_n_3000_seed_1054_20210706-140112.pkl   \n",
       "1  tracker_data_n_3000_seed_1061_20210706-140858.pkl   \n",
       "2  tracker_data_n_3000_seed_1106_20210706-140058.pkl   \n",
       "3  tracker_data_n_3000_seed_1182_20210706-141003.pkl   \n",
       "4  tracker_data_n_3000_seed_1199_20210706-140153.pkl   \n",
       "\n",
       "                                              sample  \n",
       "0  sim_v2_people-3000_days-60_init-0.002_uptake--...  \n",
       "1  sim_v2_people-3000_days-60_init-0.002_uptake--...  \n",
       "2  sim_v2_people-3000_days-60_init-0.002_uptake--...  \n",
       "3  sim_v2_people-3000_days-60_init-0.002_uptake--...  \n",
       "4  sim_v2_people-3000_days-60_init-0.002_uptake--...  "
      ]
     },
     "execution_count": 36,
     "metadata": {},
     "output_type": "execute_result"
    }
   ],
   "source": [
    "import pandas as pd\n",
    "\n",
    "data = [os.listdir(f'../data/{run_id}/{s}') for s in samples]\n",
    "\n",
    "data_df = pd.DataFrame(data, columns=['params', 'log', 'metrics'])\n",
    "data_df['sample'] = samples\n",
    "data_df.head()"
   ]
  },
  {
   "cell_type": "code",
   "execution_count": 37,
   "metadata": {},
   "outputs": [
    {
     "data": {
      "text/html": [
       "<div>\n",
       "<style scoped>\n",
       "    .dataframe tbody tr th:only-of-type {\n",
       "        vertical-align: middle;\n",
       "    }\n",
       "\n",
       "    .dataframe tbody tr th {\n",
       "        vertical-align: top;\n",
       "    }\n",
       "\n",
       "    .dataframe thead th {\n",
       "        text-align: right;\n",
       "    }\n",
       "</style>\n",
       "<table border=\"1\" class=\"dataframe\">\n",
       "  <thead>\n",
       "    <tr style=\"text-align: right;\">\n",
       "      <th></th>\n",
       "      <th>0</th>\n",
       "      <th>1</th>\n",
       "      <th>2</th>\n",
       "      <th>3</th>\n",
       "      <th>4</th>\n",
       "      <th>5</th>\n",
       "      <th>6</th>\n",
       "      <th>7</th>\n",
       "      <th>8</th>\n",
       "      <th>9</th>\n",
       "      <th>...</th>\n",
       "      <th>246</th>\n",
       "      <th>247</th>\n",
       "      <th>248</th>\n",
       "      <th>249</th>\n",
       "      <th>250</th>\n",
       "      <th>251</th>\n",
       "      <th>252</th>\n",
       "      <th>253</th>\n",
       "      <th>254</th>\n",
       "      <th>255</th>\n",
       "    </tr>\n",
       "  </thead>\n",
       "  <tbody>\n",
       "    <tr>\n",
       "      <th>0</th>\n",
       "      <td>6</td>\n",
       "      <td>6</td>\n",
       "      <td>6</td>\n",
       "      <td>6</td>\n",
       "      <td>6</td>\n",
       "      <td>6</td>\n",
       "      <td>6</td>\n",
       "      <td>6</td>\n",
       "      <td>6</td>\n",
       "      <td>6</td>\n",
       "      <td>...</td>\n",
       "      <td>6</td>\n",
       "      <td>6</td>\n",
       "      <td>6</td>\n",
       "      <td>6</td>\n",
       "      <td>6</td>\n",
       "      <td>6</td>\n",
       "      <td>6</td>\n",
       "      <td>6</td>\n",
       "      <td>6</td>\n",
       "      <td>6</td>\n",
       "    </tr>\n",
       "    <tr>\n",
       "      <th>1</th>\n",
       "      <td>0</td>\n",
       "      <td>0</td>\n",
       "      <td>0</td>\n",
       "      <td>0</td>\n",
       "      <td>0</td>\n",
       "      <td>0</td>\n",
       "      <td>0</td>\n",
       "      <td>0</td>\n",
       "      <td>0</td>\n",
       "      <td>0</td>\n",
       "      <td>...</td>\n",
       "      <td>1</td>\n",
       "      <td>2</td>\n",
       "      <td>0</td>\n",
       "      <td>0</td>\n",
       "      <td>0</td>\n",
       "      <td>0</td>\n",
       "      <td>0</td>\n",
       "      <td>0</td>\n",
       "      <td>0</td>\n",
       "      <td>0</td>\n",
       "    </tr>\n",
       "    <tr>\n",
       "      <th>2</th>\n",
       "      <td>0</td>\n",
       "      <td>0</td>\n",
       "      <td>0</td>\n",
       "      <td>0</td>\n",
       "      <td>0</td>\n",
       "      <td>0</td>\n",
       "      <td>2</td>\n",
       "      <td>0</td>\n",
       "      <td>1</td>\n",
       "      <td>0</td>\n",
       "      <td>...</td>\n",
       "      <td>2</td>\n",
       "      <td>2</td>\n",
       "      <td>1</td>\n",
       "      <td>2</td>\n",
       "      <td>0</td>\n",
       "      <td>1</td>\n",
       "      <td>0</td>\n",
       "      <td>1</td>\n",
       "      <td>6</td>\n",
       "      <td>2</td>\n",
       "    </tr>\n",
       "    <tr>\n",
       "      <th>3</th>\n",
       "      <td>1</td>\n",
       "      <td>4</td>\n",
       "      <td>1</td>\n",
       "      <td>1</td>\n",
       "      <td>2</td>\n",
       "      <td>1</td>\n",
       "      <td>0</td>\n",
       "      <td>1</td>\n",
       "      <td>2</td>\n",
       "      <td>1</td>\n",
       "      <td>...</td>\n",
       "      <td>0</td>\n",
       "      <td>7</td>\n",
       "      <td>2</td>\n",
       "      <td>7</td>\n",
       "      <td>2</td>\n",
       "      <td>2</td>\n",
       "      <td>1</td>\n",
       "      <td>1</td>\n",
       "      <td>1</td>\n",
       "      <td>1</td>\n",
       "    </tr>\n",
       "    <tr>\n",
       "      <th>4</th>\n",
       "      <td>0</td>\n",
       "      <td>1</td>\n",
       "      <td>6</td>\n",
       "      <td>0</td>\n",
       "      <td>1</td>\n",
       "      <td>5</td>\n",
       "      <td>4</td>\n",
       "      <td>2</td>\n",
       "      <td>5</td>\n",
       "      <td>0</td>\n",
       "      <td>...</td>\n",
       "      <td>6</td>\n",
       "      <td>9</td>\n",
       "      <td>4</td>\n",
       "      <td>3</td>\n",
       "      <td>3</td>\n",
       "      <td>3</td>\n",
       "      <td>0</td>\n",
       "      <td>1</td>\n",
       "      <td>2</td>\n",
       "      <td>1</td>\n",
       "    </tr>\n",
       "  </tbody>\n",
       "</table>\n",
       "<p>5 rows × 256 columns</p>\n",
       "</div>"
      ],
      "text/plain": [
       "   0    1    2    3    4    5    6    7    8    9    ...  246  247  248  249  \\\n",
       "0    6    6    6    6    6    6    6    6    6    6  ...    6    6    6    6   \n",
       "1    0    0    0    0    0    0    0    0    0    0  ...    1    2    0    0   \n",
       "2    0    0    0    0    0    0    2    0    1    0  ...    2    2    1    2   \n",
       "3    1    4    1    1    2    1    0    1    2    1  ...    0    7    2    7   \n",
       "4    0    1    6    0    1    5    4    2    5    0  ...    6    9    4    3   \n",
       "\n",
       "   250  251  252  253  254  255  \n",
       "0    6    6    6    6    6    6  \n",
       "1    0    0    0    0    0    0  \n",
       "2    0    1    0    1    6    2  \n",
       "3    2    2    1    1    1    1  \n",
       "4    3    3    0    1    2    1  \n",
       "\n",
       "[5 rows x 256 columns]"
      ]
     },
     "execution_count": 37,
     "metadata": {},
     "output_type": "execute_result"
    }
   ],
   "source": [
    "import pickle\n",
    "\n",
    "cases_list = []\n",
    "i=0\n",
    "for _, data in data_df.iterrows():\n",
    "    with open(f'/src/experiments/data/{run_id}/{data[\"sample\"]}/{data[\"metrics\"]}', 'rb') as tracker:\n",
    "        tracker_dict = pickle.load(tracker)\n",
    "        cases_list.append(pd.DataFrame(tracker_dict['cases_per_day'], columns=[i]))\n",
    "        i += 1\n",
    "cases_df = pd.concat(cases_list, axis=1)\n",
    "cases_df.head()"
   ]
  },
  {
   "cell_type": "code",
   "execution_count": null,
   "metadata": {},
   "outputs": [],
   "source": [
    "!ansible -i /src/ansible/playbooks/hosts mulab --user=paredes -a \"ls ~/kingston-abm/experiments/validation/results/data/0x57e7aa91fbc783d1f3cd1bf719dd5a35/\""
   ]
  },
  {
   "cell_type": "code",
   "execution_count": 38,
   "metadata": {},
   "outputs": [
    {
     "data": {
      "text/html": [
       "<div>\n",
       "<style scoped>\n",
       "    .dataframe tbody tr th:only-of-type {\n",
       "        vertical-align: middle;\n",
       "    }\n",
       "\n",
       "    .dataframe tbody tr th {\n",
       "        vertical-align: top;\n",
       "    }\n",
       "\n",
       "    .dataframe thead th {\n",
       "        text-align: right;\n",
       "    }\n",
       "</style>\n",
       "<table border=\"1\" class=\"dataframe\">\n",
       "  <thead>\n",
       "    <tr style=\"text-align: right;\">\n",
       "      <th></th>\n",
       "      <th>0</th>\n",
       "      <th>1</th>\n",
       "      <th>2</th>\n",
       "      <th>3</th>\n",
       "      <th>4</th>\n",
       "      <th>5</th>\n",
       "      <th>6</th>\n",
       "      <th>7</th>\n",
       "      <th>8</th>\n",
       "      <th>9</th>\n",
       "      <th>...</th>\n",
       "      <th>50</th>\n",
       "      <th>51</th>\n",
       "      <th>52</th>\n",
       "      <th>53</th>\n",
       "      <th>54</th>\n",
       "      <th>55</th>\n",
       "      <th>56</th>\n",
       "      <th>57</th>\n",
       "      <th>58</th>\n",
       "      <th>59</th>\n",
       "    </tr>\n",
       "  </thead>\n",
       "  <tbody>\n",
       "    <tr>\n",
       "      <th>0</th>\n",
       "      <td>6</td>\n",
       "      <td>0</td>\n",
       "      <td>0</td>\n",
       "      <td>1</td>\n",
       "      <td>0</td>\n",
       "      <td>2</td>\n",
       "      <td>4</td>\n",
       "      <td>10</td>\n",
       "      <td>0</td>\n",
       "      <td>0</td>\n",
       "      <td>...</td>\n",
       "      <td>4</td>\n",
       "      <td>10</td>\n",
       "      <td>43</td>\n",
       "      <td>30</td>\n",
       "      <td>29</td>\n",
       "      <td>25</td>\n",
       "      <td>28</td>\n",
       "      <td>4</td>\n",
       "      <td>8</td>\n",
       "      <td>31</td>\n",
       "    </tr>\n",
       "    <tr>\n",
       "      <th>1</th>\n",
       "      <td>6</td>\n",
       "      <td>0</td>\n",
       "      <td>0</td>\n",
       "      <td>4</td>\n",
       "      <td>1</td>\n",
       "      <td>4</td>\n",
       "      <td>1</td>\n",
       "      <td>9</td>\n",
       "      <td>1</td>\n",
       "      <td>0</td>\n",
       "      <td>...</td>\n",
       "      <td>11</td>\n",
       "      <td>8</td>\n",
       "      <td>45</td>\n",
       "      <td>23</td>\n",
       "      <td>29</td>\n",
       "      <td>32</td>\n",
       "      <td>31</td>\n",
       "      <td>1</td>\n",
       "      <td>6</td>\n",
       "      <td>24</td>\n",
       "    </tr>\n",
       "    <tr>\n",
       "      <th>2</th>\n",
       "      <td>6</td>\n",
       "      <td>0</td>\n",
       "      <td>0</td>\n",
       "      <td>1</td>\n",
       "      <td>6</td>\n",
       "      <td>1</td>\n",
       "      <td>8</td>\n",
       "      <td>11</td>\n",
       "      <td>1</td>\n",
       "      <td>1</td>\n",
       "      <td>...</td>\n",
       "      <td>4</td>\n",
       "      <td>3</td>\n",
       "      <td>29</td>\n",
       "      <td>27</td>\n",
       "      <td>30</td>\n",
       "      <td>22</td>\n",
       "      <td>18</td>\n",
       "      <td>6</td>\n",
       "      <td>3</td>\n",
       "      <td>27</td>\n",
       "    </tr>\n",
       "    <tr>\n",
       "      <th>3</th>\n",
       "      <td>6</td>\n",
       "      <td>0</td>\n",
       "      <td>0</td>\n",
       "      <td>1</td>\n",
       "      <td>0</td>\n",
       "      <td>4</td>\n",
       "      <td>5</td>\n",
       "      <td>14</td>\n",
       "      <td>1</td>\n",
       "      <td>0</td>\n",
       "      <td>...</td>\n",
       "      <td>7</td>\n",
       "      <td>3</td>\n",
       "      <td>21</td>\n",
       "      <td>28</td>\n",
       "      <td>12</td>\n",
       "      <td>22</td>\n",
       "      <td>9</td>\n",
       "      <td>1</td>\n",
       "      <td>5</td>\n",
       "      <td>10</td>\n",
       "    </tr>\n",
       "    <tr>\n",
       "      <th>4</th>\n",
       "      <td>6</td>\n",
       "      <td>0</td>\n",
       "      <td>0</td>\n",
       "      <td>2</td>\n",
       "      <td>1</td>\n",
       "      <td>4</td>\n",
       "      <td>5</td>\n",
       "      <td>14</td>\n",
       "      <td>1</td>\n",
       "      <td>2</td>\n",
       "      <td>...</td>\n",
       "      <td>11</td>\n",
       "      <td>10</td>\n",
       "      <td>28</td>\n",
       "      <td>23</td>\n",
       "      <td>11</td>\n",
       "      <td>22</td>\n",
       "      <td>18</td>\n",
       "      <td>3</td>\n",
       "      <td>3</td>\n",
       "      <td>12</td>\n",
       "    </tr>\n",
       "  </tbody>\n",
       "</table>\n",
       "<p>5 rows × 60 columns</p>\n",
       "</div>"
      ],
      "text/plain": [
       "   0   1   2   3   4   5   6   7   8   9   ...  50  51  52  53  54  55  56  \\\n",
       "0   6   0   0   1   0   2   4  10   0   0  ...   4  10  43  30  29  25  28   \n",
       "1   6   0   0   4   1   4   1   9   1   0  ...  11   8  45  23  29  32  31   \n",
       "2   6   0   0   1   6   1   8  11   1   1  ...   4   3  29  27  30  22  18   \n",
       "3   6   0   0   1   0   4   5  14   1   0  ...   7   3  21  28  12  22   9   \n",
       "4   6   0   0   2   1   4   5  14   1   2  ...  11  10  28  23  11  22  18   \n",
       "\n",
       "   57  58  59  \n",
       "0   4   8  31  \n",
       "1   1   6  24  \n",
       "2   6   3  27  \n",
       "3   1   5  10  \n",
       "4   3   3  12  \n",
       "\n",
       "[5 rows x 60 columns]"
      ]
     },
     "execution_count": 38,
     "metadata": {},
     "output_type": "execute_result"
    }
   ],
   "source": [
    "cases_df.transpose().head()"
   ]
  },
  {
   "cell_type": "code",
   "execution_count": 13,
   "metadata": {},
   "outputs": [],
   "source": [
    "%matplotlib inline"
   ]
  },
  {
   "cell_type": "code",
   "execution_count": 14,
   "metadata": {},
   "outputs": [
    {
     "data": {
      "text/plain": [
       "<AxesSubplot:>"
      ]
     },
     "execution_count": 14,
     "metadata": {},
     "output_type": "execute_result"
    },
    {
     "data": {
      "image/png": "[encoded data removed]",
      "text/plain": [
       "<Figure size 1440x720 with 1 Axes>"
      ]
     },
     "metadata": {
      "needs_background": "light"
     },
     "output_type": "display_data"
    }
   ],
   "source": [
    "cases_df.transpose().boxplot(figsize=(20,10))"
   ]
  },
  {
   "cell_type": "code",
   "execution_count": 28,
   "metadata": {},
   "outputs": [
    {
     "name": "stdout",
     "output_type": "stream",
     "text": [
      "Collecting package metadata (current_repodata.json): ...working... done\r\n",
      "Solving environment: ...working... done\r\n",
      "\r\n",
      "## Package Plan ##\r\n",
      "\r\n",
      "  environment location: /opt/conda/envs/covisim\r\n",
      "\r\n",
      "  added / updated specs:\r\n",
      "    - seaborn\r\n",
      "\r\n",
      "\r\n",
      "The following packages will be downloaded:\r\n",
      "\r\n",
      "    package                    |            build\r\n",
      "    ---------------------------|-----------------\r\n",
      "    libgfortran-ng-7.5.0       |      ha8ba4b0_17          22 KB\r\n",
      "    libgfortran4-7.5.0         |      ha8ba4b0_17         995 KB\r\n",
      "    pandas-1.2.5               |   py38h295c915_0         8.8 MB\r\n",
      "    pytz-2021.1                |     pyhd3eb1b0_0         181 KB\r\n",
      "    scipy-1.6.2                |   py38had2a1c9_1        15.6 MB\r\n",
      "    seaborn-0.11.1             |     pyhd3eb1b0_0         212 KB\r\n",
      "    ------------------------------------------------------------\r\n",
      "                                           Total:        25.8 MB\r\n",
      "\r\n",
      "The following NEW packages will be INSTALLED:\r\n",
      "\r\n",
      "  libgfortran-ng     pkgs/main/linux-64::libgfortran-ng-7.5.0-ha8ba4b0_17\r\n",
      "  libgfortran4       pkgs/main/linux-64::libgfortran4-7.5.0-ha8ba4b0_17\r\n",
      "  pandas             pkgs/main/linux-64::pandas-1.2.5-py38h295c915_0\r\n",
      "  pytz               pkgs/main/noarch::pytz-2021.1-pyhd3eb1b0_0\r\n",
      "  scipy              pkgs/main/linux-64::scipy-1.6.2-py38had2a1c9_1\r\n",
      "  seaborn            pkgs/main/noarch::seaborn-0.11.1-pyhd3eb1b0_0\r\n",
      "\r\n",
      "\r\n",
      "\r\n",
      "Downloading and Extracting Packages\r\n",
      "\r",
      "libgfortran4-7.5.0   | 995 KB    |            |   0% \r",
      "libgfortran4-7.5.0   | 995 KB    | #1         |  11% \r",
      "libgfortran4-7.5.0   | 995 KB    | ########1  |  82% \r",
      "libgfortran4-7.5.0   | 995 KB    | ########## | 100% \r\n",
      "\r",
      "pytz-2021.1          | 181 KB    |            |   0% \r",
      "pytz-2021.1          | 181 KB    | ########## | 100% \r",
      "pytz-2021.1          | 181 KB    | ########## | 100% \r\n",
      "\r",
      "pandas-1.2.5         | 8.8 MB    |            |   0% \r",
      "pandas-1.2.5         | 8.8 MB    | 5          |   6% \r",
      "pandas-1.2.5         | 8.8 MB    | #3         |  13% \r",
      "pandas-1.2.5         | 8.8 MB    | ##         |  21% \r",
      "pandas-1.2.5         | 8.8 MB    | ##8        |  28% \r",
      "pandas-1.2.5         | 8.8 MB    | ###5       |  36% \r",
      "pandas-1.2.5         | 8.8 MB    | ####3      |  43% \r",
      "pandas-1.2.5         | 8.8 MB    | #####2     |  52% \r",
      "pandas-1.2.5         | 8.8 MB    | #####9     |  60% \r",
      "pandas-1.2.5         | 8.8 MB    | ######7    |  67% \r",
      "pandas-1.2.5         | 8.8 MB    | #######4   |  75% \r",
      "pandas-1.2.5         | 8.8 MB    | ########2  |  82% \r",
      "pandas-1.2.5         | 8.8 MB    | #########  |  90% \r",
      "pandas-1.2.5         | 8.8 MB    | #########7 |  98% \r",
      "pandas-1.2.5         | 8.8 MB    | ########## | 100% \r\n",
      "\r",
      "seaborn-0.11.1       | 212 KB    |            |   0% \r",
      "seaborn-0.11.1       | 212 KB    | ########## | 100% \r\n",
      "\r",
      "libgfortran-ng-7.5.0 | 22 KB     |            |   0% \r",
      "libgfortran-ng-7.5.0 | 22 KB     | ########## | 100% \r\n",
      "\r",
      "scipy-1.6.2          | 15.6 MB   |            |   0% \r",
      "scipy-1.6.2          | 15.6 MB   | 3          |   3% \r",
      "scipy-1.6.2          | 15.6 MB   | 7          |   8% \r",
      "scipy-1.6.2          | 15.6 MB   | #2         |  12% \r",
      "scipy-1.6.2          | 15.6 MB   | #6         |  16% \r",
      "scipy-1.6.2          | 15.6 MB   | ##         |  21% \r",
      "scipy-1.6.2          | 15.6 MB   | ##4        |  25% \r",
      "scipy-1.6.2          | 15.6 MB   | ##9        |  30% \r",
      "scipy-1.6.2          | 15.6 MB   | ###3       |  34% \r",
      "scipy-1.6.2          | 15.6 MB   | ###8       |  38% \r",
      "scipy-1.6.2          | 15.6 MB   | ####2      |  43% \r",
      "scipy-1.6.2          | 15.6 MB   | ####6      |  47% \r",
      "scipy-1.6.2          | 15.6 MB   | #####1     |  52% \r",
      "scipy-1.6.2          | 15.6 MB   | #####6     |  56% \r",
      "scipy-1.6.2          | 15.6 MB   | ######     |  60% \r",
      "scipy-1.6.2          | 15.6 MB   | ######4    |  65% \r",
      "scipy-1.6.2          | 15.6 MB   | ######9    |  69% \r",
      "scipy-1.6.2          | 15.6 MB   | #######3   |  73% \r",
      "scipy-1.6.2          | 15.6 MB   | #######7   |  78% \r",
      "scipy-1.6.2          | 15.6 MB   | ########1  |  82% \r",
      "scipy-1.6.2          | 15.6 MB   | ########6  |  86% \r",
      "scipy-1.6.2          | 15.6 MB   | #########1 |  92% \r",
      "scipy-1.6.2          | 15.6 MB   | #########6 |  96% \r",
      "scipy-1.6.2          | 15.6 MB   | ########## | 100% \r\n",
      "Preparing transaction: ...working... done\r\n",
      "Verifying transaction: ...working... done\r\n",
      "Executing transaction: ...working... done\r\n",
      "\r\n"
     ]
    }
   ],
   "source": [
    "!/opt/conda/bin/conda run -n covisim conda install seaborn -y"
   ]
  },
  {
   "cell_type": "markdown",
   "metadata": {},
   "source": [
    "### Plot compartment model"
   ]
  },
  {
   "cell_type": "code",
   "execution_count": 39,
   "metadata": {},
   "outputs": [
    {
     "data": {
      "text/plain": [
       "(    0     1     2     3     4     5     6     7     8     9    ...   246  \\\n",
       " 0  2994  2994  2994  2994  2994  2994  2994  2994  2994  2994  ...  2994   \n",
       " 1  2994  2994  2994  2994  2994  2994  2994  2994  2994  2994  ...  2994   \n",
       " 2  2994  2994  2994  2994  2994  2994  2994  2994  2994  2994  ...  2993   \n",
       " 3  2994  2994  2994  2994  2994  2994  2992  2994  2993  2994  ...  2991   \n",
       " 4  2993  2990  2993  2993  2992  2993  2992  2993  2991  2993  ...  2991   \n",
       " \n",
       "     247   248   249   250   251   252   253   254   255  \n",
       " 0  2994  2994  2994  2994  2994  2994  2994  2994  2994  \n",
       " 1  2994  2994  2994  2994  2994  2994  2994  2994  2994  \n",
       " 2  2992  2994  2994  2994  2994  2994  2994  2994  2994  \n",
       " 3  2990  2993  2992  2994  2993  2994  2993  2988  2992  \n",
       " 4  2983  2991  2985  2992  2991  2993  2992  2987  2991  \n",
       " \n",
       " [5 rows x 256 columns],\n",
       "    0    1    2    3    4    5    6    7    8    9    ...  246  247  248  249  \\\n",
       " 0    6    6    6    6    6    6    6    6    6    6  ...    6    6    6    6   \n",
       " 1    6    6    6    6    6    6    6    6    6    6  ...    5    6    6    6   \n",
       " 2    5    6    6    3    6    6    4    5    5    5  ...    6    7    5    6   \n",
       " 3    4    4    6    3    5    4    5    5    3    3  ...    6    4    3    4   \n",
       " 4    5    5    5    4    3    2    3    4    3    2  ...    3   10    4    9   \n",
       " \n",
       "    250  251  252  253  254  255  \n",
       " 0    6    6    6    6    6    6  \n",
       " 1    6    6    6    6    6    6  \n",
       " 2    5    6    6    3    6    4  \n",
       " 3    2    3    3    4   11    5  \n",
       " 4    2    4    2    3    6    4  \n",
       " \n",
       " [5 rows x 256 columns],\n",
       "    0    1    2    3    4    5    6    7    8    9    ...  246  247  248  249  \\\n",
       " 0    0    0    0    0    0    0    0    0    0    0  ...    0    0    0    0   \n",
       " 1    0    0    0    0    0    0    0    0    0    0  ...    1    0    0    0   \n",
       " 2    1    0    0    3    0    0    2    1    1    1  ...    1    1    1    0   \n",
       " 3    2    2    0    3    1    2    3    1    4    3  ...    3    6    4    4   \n",
       " 4    2    5    2    3    5    5    5    3    6    5  ...    6    7    5    6   \n",
       " \n",
       "    250  251  252  253  254  255  \n",
       " 0    0    0    0    0    0    0  \n",
       " 1    0    0    0    0    0    0  \n",
       " 2    1    0    0    3    0    2  \n",
       " 3    4    4    3    3    1    3  \n",
       " 4    6    5    5    5    7    5  \n",
       " \n",
       " [5 rows x 256 columns],\n",
       "    0    1    2    3    4    5    6    7    8    9    ...  246  247  248  249  \\\n",
       " 0    0    0    0    0    0    0    0    0    0    0  ...    0    0    0    0   \n",
       " 1    0    0    0    0    0    0    0    0    0    0  ...    0    0    0    0   \n",
       " 2    0    0    0    0    0    0    0    0    0    0  ...    0    0    0    0   \n",
       " 3    0    0    0    0    0    0    0    0    0    0  ...    0    0    0    0   \n",
       " 4    0    0    0    0    0    0    0    0    0    0  ...    0    0    0    0   \n",
       " \n",
       "    250  251  252  253  254  255  \n",
       " 0    0    0    0    0    0    0  \n",
       " 1    0    0    0    0    0    0  \n",
       " 2    0    0    0    0    0    0  \n",
       " 3    0    0    0    0    0    0  \n",
       " 4    0    0    0    0    0    0  \n",
       " \n",
       " [5 rows x 256 columns])"
      ]
     },
     "execution_count": 39,
     "metadata": {},
     "output_type": "execute_result"
    }
   ],
   "source": [
    "import pickle\n",
    "\n",
    "s_list = []\n",
    "e_list = []\n",
    "i_list = []\n",
    "r_list = []\n",
    "\n",
    "i=0\n",
    "for _, data in data_df.iterrows():\n",
    "    with open(f'/src/experiments/data/{run_id}/{data[\"sample\"]}/{data[\"metrics\"]}', 'rb') as tracker:\n",
    "        tracker_dict = pickle.load(tracker)\n",
    "        s_list.append(pd.DataFrame(tracker_dict['s'], columns=[i]))\n",
    "        e_list.append(pd.DataFrame(tracker_dict['e'], columns=[i]))\n",
    "        i_list.append(pd.DataFrame(tracker_dict['i'], columns=[i]))\n",
    "        r_list.append(pd.DataFrame(tracker_dict['r'], columns=[i]))\n",
    "        i += 1\n",
    "        \n",
    "s_df = pd.concat(s_list, axis=1)\n",
    "e_df = pd.concat(e_list, axis=1)\n",
    "i_df = pd.concat(i_list, axis=1)\n",
    "r_df = pd.concat(r_list, axis=1)\n",
    "\n",
    "s_df.head(), \\\n",
    "e_df.head(), \\\n",
    "i_df.head(), \\\n",
    "r_df.head()"
   ]
  },
  {
   "cell_type": "code",
   "execution_count": 69,
   "metadata": {},
   "outputs": [
    {
     "data": {
      "text/plain": [
       "<AxesSubplot:>"
      ]
     },
     "execution_count": 69,
     "metadata": {},
     "output_type": "execute_result"
    },
    {
     "data": {
      "image/png": "[encoded data removed]",
      "text/plain": [
       "<Figure size 1440x720 with 1 Axes>"
      ]
     },
     "metadata": {
      "needs_background": "light"
     },
     "output_type": "display_data"
    }
   ],
   "source": [
    "s_df.transpose().boxplot(figsize=(20,10))"
   ]
  },
  {
   "cell_type": "code",
   "execution_count": 70,
   "metadata": {},
   "outputs": [
    {
     "data": {
      "text/plain": [
       "<AxesSubplot:>"
      ]
     },
     "execution_count": 70,
     "metadata": {},
     "output_type": "execute_result"
    },
    {
     "data": {
      "image/png": "[encoded data removed]",
      "text/plain": [
       "<Figure size 1440x720 with 1 Axes>"
      ]
     },
     "metadata": {
      "needs_background": "light"
     },
     "output_type": "display_data"
    }
   ],
   "source": [
    "e_df.transpose().boxplot(figsize=(20,10))"
   ]
  },
  {
   "cell_type": "code",
   "execution_count": 71,
   "metadata": {},
   "outputs": [
    {
     "data": {
      "text/plain": [
       "<AxesSubplot:>"
      ]
     },
     "execution_count": 71,
     "metadata": {},
     "output_type": "execute_result"
    },
    {
     "data": {
      "image/png": "[encoded data removed]",
      "text/plain": [
       "<Figure size 1440x720 with 1 Axes>"
      ]
     },
     "metadata": {
      "needs_background": "light"
     },
     "output_type": "display_data"
    }
   ],
   "source": [
    "i_df.transpose().boxplot(figsize=(20,10))"
   ]
  },
  {
   "cell_type": "code",
   "execution_count": 72,
   "metadata": {},
   "outputs": [
    {
     "data": {
      "text/plain": [
       "<AxesSubplot:>"
      ]
     },
     "execution_count": 72,
     "metadata": {},
     "output_type": "execute_result"
    },
    {
     "data": {
      "image/png": "[encoded data removed]",
      "text/plain": [
       "<Figure size 1440x720 with 1 Axes>"
      ]
     },
     "metadata": {
      "needs_background": "light"
     },
     "output_type": "display_data"
    }
   ],
   "source": [
    "r_df.transpose().boxplot(figsize=(20,10))"
   ]
  },
  {
   "cell_type": "code",
   "execution_count": 32,
   "metadata": {},
   "outputs": [
    {
     "data": {
      "text/html": [
       "<div>\n",
       "<style scoped>\n",
       "    .dataframe tbody tr th:only-of-type {\n",
       "        vertical-align: middle;\n",
       "    }\n",
       "\n",
       "    .dataframe tbody tr th {\n",
       "        vertical-align: top;\n",
       "    }\n",
       "\n",
       "    .dataframe thead th {\n",
       "        text-align: right;\n",
       "    }\n",
       "</style>\n",
       "<table border=\"1\" class=\"dataframe\">\n",
       "  <thead>\n",
       "    <tr style=\"text-align: right;\">\n",
       "      <th></th>\n",
       "      <th>day</th>\n",
       "      <th>variable</th>\n",
       "      <th>value</th>\n",
       "      <th>seir</th>\n",
       "    </tr>\n",
       "  </thead>\n",
       "  <tbody>\n",
       "    <tr>\n",
       "      <th>0</th>\n",
       "      <td>0</td>\n",
       "      <td>0</td>\n",
       "      <td>2994</td>\n",
       "      <td>s</td>\n",
       "    </tr>\n",
       "    <tr>\n",
       "      <th>1</th>\n",
       "      <td>1</td>\n",
       "      <td>0</td>\n",
       "      <td>2994</td>\n",
       "      <td>s</td>\n",
       "    </tr>\n",
       "    <tr>\n",
       "      <th>2</th>\n",
       "      <td>2</td>\n",
       "      <td>0</td>\n",
       "      <td>2994</td>\n",
       "      <td>s</td>\n",
       "    </tr>\n",
       "    <tr>\n",
       "      <th>3</th>\n",
       "      <td>3</td>\n",
       "      <td>0</td>\n",
       "      <td>2994</td>\n",
       "      <td>s</td>\n",
       "    </tr>\n",
       "    <tr>\n",
       "      <th>4</th>\n",
       "      <td>4</td>\n",
       "      <td>0</td>\n",
       "      <td>2993</td>\n",
       "      <td>s</td>\n",
       "    </tr>\n",
       "  </tbody>\n",
       "</table>\n",
       "</div>"
      ],
      "text/plain": [
       "   day variable  value seir\n",
       "0    0        0   2994    s\n",
       "1    1        0   2994    s\n",
       "2    2        0   2994    s\n",
       "3    3        0   2994    s\n",
       "4    4        0   2993    s"
      ]
     },
     "execution_count": 32,
     "metadata": {},
     "output_type": "execute_result"
    }
   ],
   "source": [
    "s_df['day'] = s_df.index\n",
    "e_df['day'] = e_df.index\n",
    "i_df['day'] = i_df.index\n",
    "r_df['day'] = r_df.index\n",
    "s_long_df = pd.melt(s_df, id_vars=['day'], value_vars=[i for i in range(256)])\n",
    "e_long_df = pd.melt(e_df, id_vars=['day'], value_vars=[i for i in range(256)])\n",
    "i_long_df = pd.melt(i_df, id_vars=['day'], value_vars=[i for i in range(256)])\n",
    "r_long_df = pd.melt(r_df, id_vars=['day'], value_vars=[i for i in range(256)])\n",
    "s_long_df['seir'] = 's'\n",
    "e_long_df['seir'] = 'e'\n",
    "i_long_df['seir'] = 'i'\n",
    "r_long_df['seir'] = 'r'\n",
    "seir_long_df = pd.concat([s_long_df, e_long_df, i_long_df, r_long_df])\n",
    "seir_long_df.head()"
   ]
  },
  {
   "cell_type": "code",
   "execution_count": 34,
   "metadata": {},
   "outputs": [
    {
     "data": {
      "text/plain": [
       "<AxesSubplot:xlabel='day', ylabel='value'>"
      ]
     },
     "execution_count": 34,
     "metadata": {},
     "output_type": "execute_result"
    },
    {
     "data": {
      "image/png": "[encoded data removed]",
      "text/plain": [
       "<Figure size 432x288 with 1 Axes>"
      ]
     },
     "metadata": {
      "needs_background": "light"
     },
     "output_type": "display_data"
    }
   ],
   "source": [
    "import seaborn as sns\n",
    "\n",
    "%matplotlib inline\n",
    "\n",
    "sns.lineplot(data=seir_long_df, \n",
    "             x='day', \n",
    "             y='value', \n",
    "             hue='seir', \n",
    "             estimator='mean', \n",
    "             ci=68)"
   ]
  },
  {
   "cell_type": "markdown",
   "metadata": {},
   "source": [
    "## All configuration p"
   ]
  },
  {
   "cell_type": "code",
   "execution_count": 18,
   "metadata": {},
   "outputs": [
    {
     "data": {
      "text/plain": [
       "dict_keys(['ADJUSTED_CONTACT_MATRIX_ALL', 'ADJUSTED_CONTACT_MATRIX_HOUSEHOLD', 'ADJUSTED_CONTACT_MATRIX_OTHER', 'ADJUSTED_CONTACT_MATRIX_SCHOOL', 'ADJUSTED_CONTACT_MATRIX_WORKPLACE', 'AGE_AFFECTS_CAREFULNESS', 'AGE_DIFFERENCE_BETWEEN_PARENT_AND_KID', 'AGE_FACTOR_VIRAL_LOAD_HEIGHT', 'ALL_LEVELS_DROPOUT', 'APP_UPTAKE', 'ASSUME_NO_ENVIRONMENTAL_INFECTION_AFTER_INTERVENTION_START', 'ASSUME_NO_UNKNOWN_INTERACTIONS_AFTER_INTERVENTION_START', 'ASSUME_SAFE_HOSPITAL_DAILY_INTERACTIONS_AFTER_INTERVENTION_START', 'ASYMPTOMATIC_INFECTION_RATIO', 'AVERAGE_AGE_REGION', 'AVERAGE_DAYS_DEATH_IF_CRITICAL', 'AVERAGE_DAYS_RECOVERY_IF_CRITICAL', 'AVERAGE_DAYS_RECOVERY_IF_HOSPITALIZED', 'AVERAGE_DAYS_TO_CRITICAL_IF_HOSPITALIZED', 'AVERAGE_DAYS_TO_HOSPITAL_GIVEN_SYMPTOMS', 'AVERAGE_N_EMPLOYEES_PER_MISC', 'AVERAGE_N_EMPLOYEES_PER_STORE', 'AVERAGE_N_EMPLOYEES_PER_WORKPLACE', 'AVERAGE_TIME_AWAKE', 'AVERAGE_TIME_SLEEPING', 'AVERAGE_TIME_SPENT_EXERCISING', 'AVERAGE_TIME_SPENT_GROCERY', 'AVERAGE_TIME_SPENT_SOCIALIZING', 'AVERAGE_TIME_SPENT_WORK', 'AVG_FLU_DURATION', 'AVG_HOUSEHOLD_SIZE', 'A_1', 'A_2', 'A_3', 'A_4', 'A_5', 'BASELINE_P_ASYMPTOMATIC', 'BASELINE_RISK_VALUE', 'BEGIN_PREFERENTIAL_ATTACHMENT_FACTOR', 'B_1', 'B_2', 'CLUSTER_ALGO_TYPE', 'CLUSTER_PATH', 'COLD_CONTAGIOUSNESS', 'COLLECT_LOGS', 'COLLECT_TRAINING_DATA', 'CONTACT_DURATION_GAMMA_SCALE_MATRIX', 'CONTACT_DURATION_GAMMA_SHAPE_MATRIX', 'CONTACT_DURATION_NORMAL_MEAN_SECONDS_MATRIX', 'CONTACT_DURATION_NORMAL_SIGMA_SECONDS_MATRIX', 'CONTAGION_KNOB', 'COUGH_SEVERITY_MULTIPLIER_ADDITION', 'COVID_SPREAD_START_TIME', 'COVID_START_DAY', 'C_1', 'C_2', 'C_2_1', 'C_2_2', 'C_3', 'C_3_1', 'C_3_2', 'C_4', 'C_4_1', 'C_4_2', 'C_4_3', 'C_5', 'C_5_1', 'C_5_2', 'DAYS_TO_LAB_TEST_RESULT_IN_PATIENT', 'DAYS_TO_LAB_TEST_RESULT_OUT_PATIENT', 'DIRECT_INTERVENTION', 'DUMP_CLUSTERS', 'D_1', 'D_2', 'D_3', 'D_4', 'D_5', 'E', 'EFFECTIVE_R_WINDOW', 'END_PREFERENTIAL_ATTACHMENT_FACTOR', 'ENVIRONMENTAL_INFECTION_KNOB', 'E_1', 'E_2', 'E_3', 'FLU_CONTAGIOUSNESS', 'FRACTION_LOCKDOWN_INTERPOLATION', 'F_1', 'GAMMA', 'GAMMA_UNKNOWN_CONTACT_DURATION', 'GET_TESTED_SYMPTOMS_CHECKED_BY_SELF', 'GET_TESTED_SYMPTOMS_CHECKED_IN_HOSPITAL', 'GIT_COMMIT_HASH', 'GLOBAL_MOBILITY_SCALING_FACTOR', 'GM_2', 'GM_2_1', 'GM_2_2', 'GM_2_3', 'GM_2_4', 'GS_2', 'GS_2_1', 'GS_2_2', 'GS_2_3', 'GS_2_4', 'G_1', 'G_2', 'G_2_1', 'G_2_2', 'G_2_3', 'G_2_4', 'HOSPITAL_BEDS_OCCUPANCY', 'HOSPITAL_BEDS_PER_1K_PEOPLE', 'HOSPITAL_CONTACT_FACTOR', 'HOSPITAL_MEAN_DAILY_INTERACTIONS', 'HOSPITAL_OPEN_CLOSE_HOUR_MINUTE', 'HOSPITAL_OPEN_DAYS', 'HOSPITAL_PROPORTION_AREA', 'HOSPITAL_SURFACE_PROB', 'HOUSEHOLD_ASSORTATIVITY_STRENGTH', 'HOUSEHOLD_CONTACT_DURATION_NORMAL_MEAN_SECONDS_MATRIX', 'HOUSEHOLD_CONTACT_DURATION_NORMAL_SIGMA_SECONDS_MATRIX', 'HOUSEHOLD_CONTACT_FACTOR', 'HOUSEHOLD_MEAN_DAILY_INTERACTIONS', 'HOUSEHOLD_OPEN_CLOSE_HOUR_MINUTE', 'HOUSEHOLD_OPEN_DAYS', 'HOUSEHOLD_PROPORTION_AREA', 'HOUSEHOLD_SURFACE_PROB', 'H_1', 'H_2', 'H_3', 'H_4', 'H_5', 'H_6', 'H_9', 'ICU_BEDS_OCCUPANCY', 'ICU_BEDS_PER_1K_PEOPLE', 'IMMUNOCOMPROMISED_SEVERITY_MULTIPLIER_ADDITION', 'INCUBATION_DAYS_GAMMA_SCALE', 'INCUBATION_DAYS_GAMMA_SHAPE', 'INFECTION_DURATION', 'INFECTION_RADIUS', 'INFECTIOUSNESS_NORMALIZATION_CONST', 'INFECTIOUSNESS_ONSET_DAYS_WRT_SYMPTOM_ONSET_AVG', 'INFECTIOUSNESS_ONSET_DAYS_WRT_SYMPTOM_ONSET_CLIP_HIGH', 'INFECTIOUSNESS_ONSET_DAYS_WRT_SYMPTOM_ONSET_CLIP_LOW', 'INFECTIOUSNESS_ONSET_DAYS_WRT_SYMPTOM_ONSET_STD', 'INFECTIOUSNESS_PEAK_AVG', 'INFECTIOUSNESS_PEAK_CLIP_HIGH', 'INFECTIOUSNESS_PEAK_CLIP_LOW', 'INFECTIOUSNESS_PEAK_STD', 'INFERENCE_SERVER_ADDRESS', 'INFLAMMATORY_CONDITIONS', 'INFLAMMATORY_DISEASE_FACTOR_VIRAL_LOAD_HEIGHT', 'INTERPOLATE_CONTACTS_USING_LOCKDOWN_CONTACTS', 'INTERVENTION', 'INTERVENTION_DAY', 'INTERVENTION_NAME', 'INTERVENTION_START_TIME', 'I_1', 'I_2', 'KEEP_FULL_OBJ_COPIES', 'LOCATION_TECH', 'LOCKDOWN_FRACTION_REDUCTION_IN_CONTACTS_AT_HOSPITAL', 'LOCKDOWN_FRACTION_REDUCTION_IN_CONTACTS_AT_HOUSEHOLD', 'LOCKDOWN_FRACTION_REDUCTION_IN_CONTACTS_AT_OTHER', 'LOCKDOWN_FRACTION_REDUCTION_IN_CONTACTS_AT_OTHERS', 'LOCKDOWN_FRACTION_REDUCTION_IN_CONTACTS_AT_SCHOOL', 'LOCKDOWN_FRACTION_REDUCTION_IN_CONTACTS_AT_WORKPLACE', 'LOGGING_LEVEL', 'MAKE_HOUSEHOLD_BEHAVE_SAME_AS_MAX_RISK_RESIDENT', 'MANUAL_TRACING_DELAY_AVG', 'MANUAL_TRACING_DELAY_STD', 'MANUAL_TRACING_P_CONTACT', 'MAX_AGE_CHILDREN', 'MAX_AGE_CHILDREN_WITHOUT_PARENT_SUPERVISION', 'MAX_AGE_HEALTHCARE_WORKER', 'MAX_AGE_WITH_PARENT', 'MAX_DAYS_CONTAMINATION', 'MAX_DIST_KNOWN_CONTACT', 'MAX_DIST_UNKNOWN_CONTACT', 'MAX_MESSAGE_PASSING_DISTANCE', 'MAX_MISC_QUEUE_LENGTH', 'MAX_MULTIPLIER_PLATEAU_HEIGHT', 'MAX_RISK_LEVEL', 'MAX_STORE_QUEUE_LENGTH', 'MAX_TIME_AWAKE', 'MAX_TIME_SHORT_ACTVITIES', 'MAX_TIME_SLEEP', 'MAX_TIME_WORK', 'MAX_VIRAL_LOAD_PEAK_HEIGHT', 'MAX_WORKING_AGE', 'MEAN_DAILY_INTERACTION_FOR_AGE_GROUP', 'MEAN_DAILY_UNKNOWN_CONTACTS', 'MEDIAN_AGE_REGION', 'MILD_INFECTION_RATIO', 'MILD_SYMPTOMS', 'MIN_AGE_HEALTHCARE_WORKER', 'MIN_DIST_KNOWN_CONTACT', 'MIN_DIST_UNKNOWN_CONTACT', 'MIN_MESSAGE_PASSING_DURATION', 'MIN_MULTIPLIER_PLATEAU_HEIGHT', 'MIN_VIRAL_LOAD_PEAK_HEIGHT', 'MIN_WORKING_AGE', 'MISC_CONTACT_FACTOR', 'MISC_OPEN_CLOSE_HOUR_MINUTE', 'MISC_OPEN_DAYS', 'MISC_PROPORTION_AREA', 'MISC_SURFACE_PROB', 'MODERATE_SYMPTOMS', 'NORMALIZED_SUSCEPTIBILITY_BY_AGE', 'NURSE_TO_DOCTOR_RATIO', 'N_BEHAVIOR_LEVELS', 'N_COLLECTIVE_RESIDENTS', 'N_COLLECTIVE_RESIDENTS_65_79', 'N_DOCTOR_PER_100K_PEOPLE', 'N_HOSPITALS_PER_100K_PEOPLE', 'N_HOUSESIZE_1', 'N_MISC_PER_1K_PEOPLE', 'N_RESIDENTS_PER_COLLECTIVE', 'N_STORE_PER_1K_PEOPLE', 'N_STUDENTS_PER_SCHOOL_12_17', 'N_STUDENTS_PER_SCHOOL_17_29', 'N_STUDENTS_PER_SCHOOL_2_4', 'N_STUDENTS_PER_SCHOOL_4_5', 'N_STUDENTS_PER_SCHOOL_5_12', 'N_WORKING_DAYS', 'ORACLE_ADD_NOISE', 'ORACLE_MUL_NOISE', 'OTHER_CONTACT_DURATION_NORMAL_MEAN_SECONDS_MATRIX', 'OTHER_CONTACT_DURATION_NORMAL_SIGMA_SECONDS_MATRIX', 'OTHER_MEAN_DAILY_INTERACTIONS', 'O_1', 'O_2', 'PARK_CONTACT_FACTOR', 'PARK_OPEN_CLOSE_HOUR_MINUTE', 'PARK_OPEN_DAYS', 'PARK_PROPORTION_AREA', 'PARK_SURFACE_PROB', 'PLATEAU_DURATION_CLIP_HIGH', 'PLATEAU_DURATION_CLIP_LOW', 'PLATEAU_DURATION_MEAN', 'PLATEAU_DURATION_STD', 'POPULATION_SIZE_REGION', 'PROPORTION_LAB_TEST_PER_DAY', 'P_AGE_REGION', 'P_AGE_SOLO_DWELLERS_GIVEN_HOUSESIZE_1', 'P_CAREFUL_PERSON', 'P_COLD_TODAY', 'P_COLLECTIVE', 'P_COLLECTIVE_65_69', 'P_COLLECTIVE_70_74', 'P_COLLECTIVE_75_above', 'P_CONTACT_MATRIX_ALL', 'P_CONTACT_MATRIX_HOUSEHOLD', 'P_CONTACT_MATRIX_OTHER', 'P_CONTACT_MATRIX_SCHOOL', 'P_CONTACT_MATRIX_WORKPLACE', 'P_CRITICAL_GIVEN_HOSPITALIZED', 'P_DROPIN_SYMPTOM', 'P_DROPOUT_SYMPTOM', 'P_EMPLOYEES_100_499_PER_MISC', 'P_EMPLOYEES_100_499_PER_STORE', 'P_EMPLOYEES_100_499_PER_WORKPLACE', 'P_EMPLOYEES_1_4_PER_MISC', 'P_EMPLOYEES_1_4_PER_STORE', 'P_EMPLOYEES_1_4_PER_WORKPLACE', 'P_EMPLOYEES_500_above_PER_WORKPLACE', 'P_EMPLOYEES_5_99_PER_MISC', 'P_EMPLOYEES_5_99_PER_STORE', 'P_EMPLOYEES_5_99_PER_WORKPLACE', 'P_EXERCISE_DAYS', 'P_FAMILY_TYPE_SIZE_2', 'P_FAMILY_TYPE_SIZE_3', 'P_FAMILY_TYPE_SIZE_4', 'P_FAMILY_TYPE_SIZE_MORE_THAN_5', 'P_FATALITY_GIVEN_CRITICAL', 'P_FEMALE', 'P_FLU_TODAY', 'P_GROCERY_SHOPPING_DAYS', 'P_HAS_ALLERGIES_TODAY', 'P_HEALTHCARE_WORKERS', 'P_HOSPITALIZED_GIVEN_SYMPTOMS', 'P_HOUSEHOLD_SIZE', 'P_HOUSE_OVER_MISC_FOR_SOCIALS', 'P_INVITATION_ACCEPTANCE', 'P_MALE', 'P_MOBILE_GIVEN_MILD_SYMPTOMS', 'P_MOBILE_GIVEN_MODERATE_SYMPTOMS', 'P_MOBILE_GIVEN_SEVERE_SYMPTOMS', 'P_MULTIGENERATIONAL_FAMILY', 'P_MULTIGENERTIONAL_FAMILY_GIVEN_OTHER_HOUSEHOLDS', 'P_NEVER_RECOVERS', 'P_NUM_DROPIN_GROUPS', 'P_REPORTED_SYMPTOM', 'P_REPORTED_SYMPTOM_GIVEN_COVID', 'P_REPORT_AGE_AND_SEX_TO_APP', 'P_SCHOOL_FOR_AGE_17_19', 'P_SCHOOL_FOR_AGE_19_24', 'P_SCHOOL_FOR_AGE_25_29', 'P_SOCIALIZE_DAYS', 'P_STUDENT_2_4', 'P_STUDENT_4_5', 'P_TEST_MILD', 'P_TEST_MODERATE', 'P_TEST_OTHER_REASON', 'P_TEST_RECOMMENDED', 'P_TEST_SEVERE', 'P_TEST_SEVERE_OR_SUSPICIOUS', 'QUARANTINE_COMPLIANCE_TRACED_POSITIVE', 'QUARANTINE_COMPLIANCE_TRACED_SYMPTOMS', 'QUARANTINE_DAYS_HOUSEHOLD_ON_INDIVIDUAL_POSITIVE_TEST', 'QUARANTINE_DAYS_HOUSEHOLD_ON_INDIVIDUAL_SELF_REPORTED_SYMPTOMS', 'QUARANTINE_DAYS_ON_POSITIVE_TEST', 'QUARANTINE_DAYS_ON_SELF_REPORTED_SYMPTOMS', 'QUARANTINE_DROPOUT_HOUSEHOLD', 'QUARANTINE_DROPOUT_SELF_REPORTED_SYMPTOMS', 'QUARANTINE_DROPOUT_TEST', 'QUARANTINE_HOUSEHOLD_UPON_INDIVIDUAL_POSITIVE_TEST', 'QUARANTINE_HOUSEHOLD_UPON_INDIVIDUAL_TEST_TAKEN', 'QUARANTINE_HOUSEHOLD_UPON_SELF_REPORTED_INDIVIDUAL', 'QUARANTINE_SELF_REPORTED_INDIVIDUALS', 'QUARANTINE_SMART_RELEASE', 'QUARANTINE_SMART_RELEASE_DAYS', 'RECOVERY_CLIP_HIGH', 'RECOVERY_CLIP_LOW', 'RECOVERY_DAYS_AVG', 'RECOVERY_STD', 'REC_LEVEL_THRESHOLDS', 'REINFECTION_POSSIBLE', 'RESET_DAYS_NEGATIVE_TEST_RESULT', 'RESET_DAYS_POSITIVE_TEST_RESULT', 'RESIDENT_TO_STAFF_RATIO', 'RHO', 'RISK_MAPPING', 'RISK_MODEL', 'RISK_TRANSMISSION_PROBA', 'SCALE_FACTOR_CONTACT_DURATION', 'SCHOOL_CONTACT_DURATION_NORMAL_MEAN_SECONDS_MATRIX', 'SCHOOL_CONTACT_DURATION_NORMAL_SIGMA_SECONDS_MATRIX', 'SCHOOL_CONTACT_FACTOR', 'SCHOOL_MEAN_DAILY_INTERACTIONS', 'SCHOOL_OPEN_CLOSE_HOUR_MINUTE', 'SCHOOL_OPEN_DAYS', 'SCHOOL_PROPORTION_AREA', 'SCHOOL_SURFACE_PROB', 'SECONDS_PER_MINUTE', 'SELF_TEST', 'SENIOR_RESIDENCE_CONTACT_FACTOR', 'SENIOR_RESIDENCE_OPEN_CLOSE_HOUR_MINUTE', 'SENIOR_RESIDENCE_OPEN_DAYS', 'SENIOR_RESIDENCE_PROPORTION_AREA', 'SENIOR_RESIDENCE_SURFACE_PROB', 'SEVERE_SYMPTOMS', 'SHOULD_MODIFY_BEHAVIOR', 'SIMULATION_START_TIME', 'SMARTPHONE_OWNER_FRACTION_BY_AGE', 'STDDEV_DAYS_DEATH_IF_CRITICAL', 'STDDEV_DAYS_RECOVERY_IF_CRITICAL', 'STDDEV_DAYS_RECOVERY_IF_HOSPITALIZED', 'STDDEV_DAYS_TO_CRITICAL_IF_HOSPITALIZED', 'STORE_CONTACT_FACTOR', 'STORE_OPEN_CLOSE_HOUR_MINUTE', 'STORE_OPEN_DAYS', 'STORE_PROPORTION_AREA', 'STORE_SURFACE_PROB', 'STUDENT_TEACHER_RATIO_SCHOOL_12_17', 'STUDENT_TEACHER_RATIO_SCHOOL_17_29', 'STUDENT_TEACHER_RATIO_SCHOOL_2_4', 'STUDENT_TEACHER_RATIO_SCHOOL_4_5', 'STUDENT_TEACHER_RATIO_SCHOOL_5_12', 'TEST_REPORT_PROB', 'TEST_TYPES', 'TIME_SPENT_SCALE_FACTOR_FOR_SHORT_ACTIVITIES', 'TIME_SPENT_SCALE_FACTOR_FOR_WORK', 'TIME_SPENT_SCALE_FACTOR_SLEEP_AWAKE', 'TRACED_DAYS_FOR_SELF_REPORTED_INDIVIDUAL', 'TRACE_SELF_REPORTED_INDIVIDUAL', 'TRACE_SYMPTOMS', 'TRACING_N_DAYS_HISTORY', 'TRACING_ORDER', 'TRANSFORMER_EXP_PATH', 'UPDATES_PER_DAY', 'USE_INFERENCE_SERVER', 'USE_ORACLE', 'VIRAL_LOAD_RECOVERY_FACTOR', 'WORKING_START_HOUR', 'WORKPLACE_ASSORTATIVITY_STRENGTH', 'WORKPLACE_CONTACT_DURATION_NORMAL_MEAN_SECONDS_MATRIX', 'WORKPLACE_CONTACT_DURATION_NORMAL_SIGMA_SECONDS_MATRIX', 'WORKPLACE_CONTACT_FACTOR', 'WORKPLACE_MEAN_DAILY_INTERACTIONS', 'WORKPLACE_OPEN_CLOSE_HOUR_MINUTE', 'WORKPLACE_OPEN_DAYS', 'WORKPLACE_PROPORTION_AREA', 'WORKPLACE_SURFACE_PROB', '_CURRENT_PREFERENTIAL_ATTACHMENT_FACTOR', '_ENVIRONMENTAL_INFECTION_KNOB', '_MEAN_DAILY_UNKNOWN_CONTACTS', 'delete_outdir', 'init_fraction_sick', 'logfile', 'n_people', 'out_chunk_size', 'outdir', 'outfile', 'seed', 'simulation_days', 'start_time', 'track_all', 'track_bluetooth_communications', 'track_humans', 'track_mixing', 'track_mobility', 'tune', 'zip_outdir'])"
      ]
     },
     "execution_count": 18,
     "metadata": {},
     "output_type": "execute_result"
    }
   ],
   "source": [
    "import glob\n",
    "import os\n",
    "import yaml\n",
    "\n",
    "#os.path.abspath('../data/*dd5a35/*seed-1054*')\n",
    "\n",
    "with open(glob.glob('../data/*dd5a35/*seed-1054*/*.yaml')[0], 'r') as f:\n",
    "    config = yaml.safe_load(f)\n",
    "\n",
    "config.keys()"
   ]
  },
  {
   "cell_type": "code",
   "execution_count": 29,
   "metadata": {},
   "outputs": [
    {
     "data": {
      "text/plain": [
       "(3000, 60)"
      ]
     },
     "execution_count": 29,
     "metadata": {},
     "output_type": "execute_result"
    }
   ],
   "source": [
    "config['n_people'], config['simulation_days']"
   ]
  },
  {
   "cell_type": "markdown",
   "metadata": {},
   "source": [
    "## Other metrics"
   ]
  },
  {
   "cell_type": "code",
   "execution_count": 20,
   "metadata": {},
   "outputs": [
    {
     "data": {
      "text/plain": [
       "dict_keys(['intervention_day', 'intervention', 'risk_model', 'COVID_SPREAD_START_TIME', 'INTERVENTION_START_TIME', 'SIMULATION_START_TIME', 'simulation_days', 'n_humans', 'n_init_infected', 'adoption_rate', 'generation_times', 'p_transmission', 'age_histogram', 'human_has_app', 'known_connections', 'humans_demographics', 'contact_patterns', 'infectious_contact_patterns', 'expected_mobility', 'mobility', 'infection_monitor', 'outside_daily_contacts', 'effective_contacts_since_intervention', 'healthy_effective_contacts_since_intervention', 'effective_contacts_all_days', 'healthy_effective_contacts_all_days', 'serial_interval', 'all_serial_intervals', 'cases_per_day', 'ei_per_day', 's', 'e', 'i', 'r', 'avg_infectiousness_per_day', 'covid_properties', 'recovered_stats', 'symptoms', 'test_monitor', 'risk_precision_global', 'risk_precision', 'human_monitor', 'infector_infectee_update_messages', 'risk_attributes', 'humans_state', 'humans_rec_level', 'humans_intervention_level', 'to_human_max_msg_per_day', 'daily_quarantine', 'quarantine_monitor', 'humans_quarantined_state', 'work_hours'])"
      ]
     },
     "execution_count": 20,
     "metadata": {},
     "output_type": "execute_result"
    }
   ],
   "source": [
    "import pickle\n",
    "\n",
    "file_name = '/src/experiments/validation/results/data/0x57e7aa91fbc783d1f3cd1bf719dd5a35/sim_v2_people-3000_days-60_init-0.002_uptake--1_seed-1054_20210706-135347_580349/tracker_data_n_3000_seed_1054_20210706-140112.pkl'\n",
    "with open(file_name, 'rb') as results_file:\n",
    "    tracker = pickle.load(results_file)\n",
    "tracker.keys()"
   ]
  }
 ],
 "metadata": {
  "kernelspec": {
   "display_name": "Python 3 (ipykernel)",
   "language": "python",
   "name": "python3"
  },
  "language_info": {
   "codemirror_mode": {
    "name": "ipython",
    "version": 3
   },
   "file_extension": ".py",
   "mimetype": "text/x-python",
   "name": "python",
   "nbconvert_exporter": "python",
   "pygments_lexer": "ipython3",
   "version": "3.8.12"
  }
 },
 "nbformat": 4,
 "nbformat_minor": 4
}
