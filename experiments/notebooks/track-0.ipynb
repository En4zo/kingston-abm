{
 "cells": [
  {
   "cell_type": "markdown",
   "id": "3660fb12",
   "metadata": {},
   "source": [
    "# Extract a sample record of individual-level data\n",
    "\n",
    "Place the parameter file where the simulator expects it"
   ]
  },
  {
   "cell_type": "code",
   "execution_count": 3,
   "id": "5674ae69",
   "metadata": {},
   "outputs": [
    {
     "name": "stdout",
     "output_type": "stream",
     "text": [
      "kingston_0xdfc056a4fdb804e60e964b2cc5aae6ea.yml\r\n"
     ]
    }
   ],
   "source": [
    "!ls ../configs"
   ]
  },
  {
   "cell_type": "code",
   "execution_count": 12,
   "id": "e652b85a",
   "metadata": {},
   "outputs": [
    {
     "name": "stdout",
     "output_type": "stream",
     "text": [
      "covid19sim  covid19sim.egg-info\r\n"
     ]
    }
   ],
   "source": [
    "!ls ~/COVI-AgentSim/src"
   ]
  },
  {
   "cell_type": "code",
   "execution_count": 14,
   "id": "4900fbc5",
   "metadata": {},
   "outputs": [
    {
     "name": "stdout",
     "output_type": "stream",
     "text": [
      "kingston0xdfc056a4fdb804e60e964b2cc5aae6ea.yaml  montreal.yaml\r\n"
     ]
    }
   ],
   "source": [
    "!cp ../configs/kingston_0xdfc056a4fdb804e60e964b2cc5aae6ea.yml ~/COVI-AgentSim/src/covid19sim/configs/simulation/region/kingston0xdfc056a4fdb804e60e964b2cc5aae6ea.yaml\n",
    "!ls ~/COVI-AgentSim/src/covid19sim/configs/simulation/region"
   ]
  },
  {
   "cell_type": "markdown",
   "id": "3fd6af20",
   "metadata": {},
   "source": [
    "Set track to 'all' to write individual-level data to a file, for all individuals once per simulation-hour"
   ]
  },
  {
   "cell_type": "code",
   "execution_count": 15,
   "id": "81f1f570",
   "metadata": {},
   "outputs": [
    {
     "data": {
      "text/plain": [
       "{'region': 'kingston0xdfc056a4fdb804e60e964b2cc5aae6ea',\n",
       " 'n_people': 3000,\n",
       " 'simulation_days': 60,\n",
       " 'init_fraction_sick': 0.002,\n",
       " 'N_BEHAVIOR_LEVELS': 2,\n",
       " 'intervention': 'no_intervention',\n",
       " 'tune': True,\n",
       " 'track': 'light',\n",
       " 'GLOBAL_MOBILITY_SCALING_FACTOR': 0.85,\n",
       " 'APP_UPTAKE': -1,\n",
       " 'USE_INFERENCE_SERVER': False,\n",
       " 'INTERVENTION_DAY': -1}"
      ]
     },
     "execution_count": 15,
     "metadata": {},
     "output_type": "execute_result"
    }
   ],
   "source": [
    "args_dict = {'region': 'kingston0xdfc056a4fdb804e60e964b2cc5aae6ea',\n",
    "        'n_people': 3000,\n",
    "        'simulation_days': 60,\n",
    "        'init_fraction_sick': 0.002,\n",
    "        'N_BEHAVIOR_LEVELS': 2,\n",
    "        'intervention': 'no_intervention',\n",
    "        'tune': True,\n",
    "        'track': 'light',\n",
    "        'GLOBAL_MOBILITY_SCALING_FACTOR': 0.85,\n",
    "        'APP_UPTAKE': -1,\n",
    "        'USE_INFERENCE_SERVER': False,\n",
    "        'INTERVENTION_DAY': -1,\n",
    "        'track': 'all'}\n",
    "args_dict"
   ]
  },
  {
   "cell_type": "code",
   "execution_count": 16,
   "id": "3cc54ad3",
   "metadata": {},
   "outputs": [
    {
     "data": {
      "text/plain": [
       "'region=kingston0xdfc056a4fdb804e60e964b2cc5aae6ea n_people=3000 simulation_days=60 init_fraction_sick=0.002 N_BEHAVIOR_LEVELS=2 intervention=no_intervention tune=True track=light GLOBAL_MOBILITY_SCALING_FACTOR=0.85 APP_UPTAKE=-1 USE_INFERENCE_SERVER=False INTERVENTION_DAY=-1'"
      ]
     },
     "execution_count": 16,
     "metadata": {},
     "output_type": "execute_result"
    }
   ],
   "source": [
    "args_str = ' '.join([f'{k}={v}' for k, v in args_dict.items()])\n",
    "args_str"
   ]
  },
  {
   "cell_type": "markdown",
   "id": "76e86cdc",
   "metadata": {},
   "source": [
    "Generate an id for the data"
   ]
  },
  {
   "cell_type": "code",
   "execution_count": 17,
   "id": "e8166b17",
   "metadata": {},
   "outputs": [
    {
     "data": {
      "text/plain": [
       "'0xc9806423df27deb8f755c8d77ffd917c'"
      ]
     },
     "execution_count": 17,
     "metadata": {},
     "output_type": "execute_result"
    }
   ],
   "source": [
    "import random\n",
    "run_id = hex(random.getrandbits(128))\n",
    "run_id"
   ]
  },
  {
   "cell_type": "code",
   "execution_count": 19,
   "id": "a76f71ee",
   "metadata": {},
   "outputs": [],
   "source": [
    "seed = 1984"
   ]
  },
  {
   "cell_type": "code",
   "execution_count": 22,
   "id": "763e2194",
   "metadata": {},
   "outputs": [
    {
     "data": {
      "text/plain": [
       "'/opt/conda/bin/conda run -n covisim python ~/COVI-AgentSim/src/covid19sim/run.py seed=1984 outdir=/src/experiments/data/0xc9806423df27deb8f755c8d77ffd917c region=kingston0xdfc056a4fdb804e60e964b2cc5aae6ea n_people=3000 simulation_days=60 init_fraction_sick=0.002 N_BEHAVIOR_LEVELS=2 intervention=no_intervention tune=True track=light GLOBAL_MOBILITY_SCALING_FACTOR=0.85 APP_UPTAKE=-1 USE_INFERENCE_SERVER=False INTERVENTION_DAY=-1\\n'"
      ]
     },
     "execution_count": 22,
     "metadata": {},
     "output_type": "execute_result"
    }
   ],
   "source": [
    "command_str = f'/opt/conda/bin/conda run -n covisim python ~/COVI-AgentSim/src/covid19sim/run.py seed={seed} outdir=/src/experiments/data/{run_id} {args_str}\\n'\n",
    "command_str"
   ]
  },
  {
   "cell_type": "code",
   "execution_count": 24,
   "id": "c926f1d9",
   "metadata": {},
   "outputs": [
    {
     "data": {
      "text/plain": [
       "CompletedProcess(args='/opt/conda/bin/conda run -n covisim python ~/COVI-AgentSim/src/covid19sim/run.py seed=1984 outdir=/src/experiments/data/0xc9806423df27deb8f755c8d77ffd917c region=kingston0xdfc056a4fdb804e60e964b2cc5aae6ea n_people=3000 simulation_days=60 init_fraction_sick=0.002 N_BEHAVIOR_LEVELS=2 intervention=no_intervention tune=True track=light GLOBAL_MOBILITY_SCALING_FACTOR=0.85 APP_UPTAKE=-1 USE_INFERENCE_SERVER=False INTERVENTION_DAY=-1\\n', returncode=0, stdout=b\"RISK_MODEL = \\nINTERVENTION_DAY = -1\\nseed: 1984\\nType of run: UNMITIGATED\\nInitializing humans ...\\nAllocating houses ... \\nexpanding the search for kids to middle generation for census family households\\nHousing allocated with failed attempts: 1 \\nPreparing schedule ... \\nSchedule prepared (Took 15.246s)\\nComputing their preferences\\n\\n######## SIMULATOR KNOBS #########\\nHOUSEHOLD_ASSORTATIVITY_STRENGTH: 0.5\\nWORKPLACE_ASSORTATIVITY_STRENGTH: 5\\nP_INVITATION_ACCEPTANCE: 0.5\\nBEGIN_PREFERENTIAL_ATTACHMENT_FACTOR: 0.5\\nEND_PREFERENTIAL_ATTACHMENT_FACTOR: 0.5\\nP_HOUSE_OVER_MISC_FOR_SOCIALS: 0.5\\nCONTAGION_KNOB: 25\\nENVIRONMENTAL_INFECTION_KNOB: 0.0017\\nTIME_SPENT_SCALE_FACTOR_FOR_SHORT_ACTIVITIES: 1.5\\nTIME_SPENT_SCALE_FACTOR_FOR_WORK: 1.0\\nTIME_SPENT_SCALE_FACTOR_SLEEP_AWAKE: 0.01\\nGLOBAL_MOBILITY_SCALING_FACTOR: 0.85\\n\\n######## DEMOGRAPHICS / SYNTHETIC POPULATION #########\\nNB: (i) census numbers are in brackets. (ii)  (**#@#**)  marks a 25 % realtive deviation from census\\n\\nAge (census) - mean: 43.446 (43.1), median:  44 (44.5), std: 25.179\\nGender: female: 43.933 % | male: 45.700 % | other: 10.367 % | \\n\\n*** House allocation *** \\n (**#@#**) Total ( %) number of residents in senior residencies (census): 12 (0.40 %) (1.23)\\nTotal houses: 1391\\nAverage house size -  2.148 ( 2.300)\\nHousehold size - simulation% (census):  1.0: 30.27 % ( 28.60) |  2.0: 42.92 % ( 38.50) |  3.0: 12.51 % ( 14.80) |  4.0: 10.35 % ( 12.20) |  (**#@#**)  5.0: 3.95 % ( 6.00) | \\nSolo dwellers : Average age absolute:  59.92 (Average with mid point of age groups - simulated: 59.92 census: 59.64) | \\nHousehold type:  (**#@#**) multi-generation: 0.00 % (2.77) | Only adults: 78.65 % | \\nAllocation types: couple_with_0_kids: 31.919 %  ( 30.77)| couple_with_1_kids: 9.777 %  ( 10.26)| couple_with_2_kids: 9.561 %  ( 10.17)| couple_with_3_kids: 3.738 %  ( 3.87)|  (**#@#**) other_4: 0.072 %  ( 0.00)|  (**#@#**) other_5: 0.072 %  ( 0.00)| single_parent_with_1_kids: 10.999 %  ( 11.34)| single_parent_with_2_kids: 2.732 %  ( 2.89)| single_parent_with_3_kids: 0.719 %  ( 0.72)|  (**#@#**) single_parent_with_4_kids: 0.144 %  ( 0.19)| solo: 30.266 %  ( 28.60)| \\n\\n *** Locations *** \\nCounts: HOUSEHOLD: 1391 | SENIOR_RESIDENCE: 2 | WORKPLACE: 101 | STORE: 2 | MISC: 6 | HOSPITAL: 1 | PARK: 1 | SCHOOL: 27 | \\n\\n *** Workforce *** \\nWORKPLACE - Total workforce: 1547 | Average number of workers:  15.32 | Average age of workers:  43.12\\n\\tNumber of WORKPLACE(1, 4) - 73. Total number of workers - 141\\n\\tNumber of WORKPLACE(5, 99) - 27. Total number of workers - 1130\\n\\tNumber of WORKPLACE(100, 499) - 1. Total number of workers - 276\\nSTORE - Total workforce: 2 | Average number of workers:  1.00 | Average age of workers:  37.50\\nMISC - Total workforce: 6 | Average number of workers:  1.00 | Average age of workers:  37.17\\nHOSPITALS - Total workforce: 32 | Number of doctors: 4 | Number of nurses: 26 | Number of nurses at SENIOR_RESIDENCES: 2\\nSCHOOL - Number of teachers: 99 | Number of students: 631| Average number of teachers:  3.67| Average number of students:  23.37\\n\\tNumber of SCHOOL(2-4) - 2. Number of students: 24. Number of teachers: 5\\n\\tNumber of SCHOOL(4-5) - 7. Number of students: 36. Number of teachers: 12\\n\\tNumber of SCHOOL(5-12) - 7. Number of students: 250. Number of teachers: 52\\n\\tNumber of SCHOOL(12-17) - 4. Number of students: 142. Number of teachers: 16\\n\\tNumber of SCHOOL(17-29) - 7. Number of students: 179. Number of teachers: 14\\n\\n *** Disease related initialization stats *** \\nPercentage of population that is asymptomatic  21.700\\n\\n *** ****** *** ****** *** COVID infection seeded *** *** ****** *** ******\\n\\nTotal number of infected humans 6\\n\\tH:human:2325 age:62, SEIR:0100 @ HOUSEHOLD:1043 - occ:2/inf - I:False living with 1 other residents\\n\\tH:human:851 age:26, SEIR:0100 @ HOUSEHOLD:110 - occ:5/inf - I:False living with 4 other residents\\n\\tH:human:33 age:1, SEIR:0100 @ HOUSEHOLD:277 - occ:3/inf - I:False living with 2 other residents\\n\\tH:human:132 age:1, SEIR:0100 @ HOUSEHOLD:4 - occ:3/inf - I:False living with 2 other residents\\n\\tH:human:2630 age:74, SEIR:0100 @ HOUSEHOLD:624 - occ:1/inf - I:False living with 0 other residents\\n\\tH:human:2952 age:81, SEIR:0100 @ HOUSEHOLD:805 - occ:1/inf - I:False living with 0 other residents\\n\\nPREFERENTIAL_ATTACHMENT_FACTOR: 0.5\\n\\n*** *** ****** *** ****** *** ****** *** ****** *** ****** *** ****** *** ****** *** ***\\n\\n\\n#################### SIMULATION PROGRESS ##################\\nLegend -\\n* [ +Test ]: Total positive test results observed this day (Note: test results are available after some delay from the test time) / total tests administered on this day\\n* [ P3 ]: Projected number of cases (E+I+R) if the cases were to grow with a doubling rate of 3 days.\\n* [ TestQueue ]: Total number of people present in the test queue at the time of this print out.\\n* [ H/C/D ]: Total number of people in hospital (H)/ ICU (C) at this point in simulation-time. Total died upto this day (D).\\n* [ MC ]: Mean number of known connections of a person in the population (average degree of the social network). The attributes for known connections are drawn from surveyed data on mean contacts.\\n* [ Q ]: Number of people (alive) quarantined as of midnight on that day.\\n* [ 2x ]: Number of days to double the initial infections to the current level.\\n        \\n(0s)     Day  0: 2020-02-28 | S:2994 E:6    I:0    E+I+R:6    +Test:0/0 TestQueue:3 | P3: 6.00 | cold:0 allergies:0 flu:0 | H:0 C:0 D:0 | MC:  0.000 | Q: 0\\n(5s)     Day  1: 2020-02-29 | S:2994 E:6    I:0    E+I+R:6    +Test:0/0 TestQueue:35 | P3: 7.56 | cold:0 allergies:0 flu:0 | H:0 C:0 D:0 | MC:  10.154 | Q: 10\\n(12s)    Day  2: 2020-03-01 | S:2994 E:6    I:0    E+I+R:6    +Test:0/3 TestQueue:36 | P3: 9.52 | cold:7 allergies:0 flu:5 | H:0 C:0 D:0 | MC:  12.943 | Q: 16\\n(19s)    Day  3: 2020-03-02 | S:2992 E:6    I:2    E+I+R:8    +Test:0/3 TestQueue:42 | P3:12.00 2x: 7.23 | cold:9 allergies:3 flu:17 | H:0 C:0 D:0 | MC:  14.202 | Q: 12\\n(30s)    Day  4: 2020-03-03 | S:2992 E:5    I:3    E+I+R:8    +Test:0/3 TestQueue:44 | P3:15.12 2x: 9.64 | cold:15 allergies:2 flu:24 | H:0 C:0 D:0 | MC:  20.167 | Q: 11\\n(41s)    Day  5: 2020-03-04 | S:2990 E:5    I:5    E+I+R:10   +Test:0/6 TestQueue:68 | P3:19.05 2x: 6.78 | cold:16 allergies:3 flu:36 | H:0 C:0 D:0 | MC:  24.431 | Q: 13\\n(52s)    Day  6: 2020-03-05 | S:2987 E:6    I:7    E+I+R:13   +Test:0/3 TestQueue:69 | P3:24.00 2x: 5.38 | cold:17 allergies:0 flu:41 | H:0 C:0 D:0 | MC:  27.815 | Q: 9\\n(62s)    Day  7: 2020-03-06 | S:2985 E:6    I:9    E+I+R:15   +Test:1/3 TestQueue:82 | P3:30.24 2x: 5.30 | cold:22 allergies:3 flu:48 | H:0 C:0 D:0 | MC:  30.565 | Q: 9\\n(77s)    Day  8: 2020-03-07 | S:2982 E:9    I:9    E+I+R:18   +Test:1/3 TestQueue:82 | P3:38.10 2x: 5.05 | cold:27 allergies:2 flu:51 | H:0 C:0 D:0 | MC:  36.845 | Q: 13\\n(81s)    Day  9: 2020-03-08 | S:2973 E:17   I:10   E+I+R:27   +Test:0/3 TestQueue:94 | P3:48.00 2x: 4.15 | cold:28 allergies:5 flu:51 | H:0 C:0 D:0 | MC:  36.887 | Q: 14\\n(84s)    Day 10: 2020-03-09 | S:2973 E:12   I:15   E+I+R:27   +Test:0/3 TestQueue:95 | P3:60.48 2x: 4.61 | cold:27 allergies:4 flu:50 | H:0 C:0 D:0 | MC:  36.911 | Q: 13\\n(97s)    Day 11: 2020-03-10 | S:2971 E:11   I:18   E+I+R:29   +Test:0/3 TestQueue:86 | P3:76.20 2x: 4.84 | cold:30 allergies:2 flu:52 | H:0 C:0 D:0 | MC:  42.033 | Q: 10\\n(106s)   Day 12: 2020-03-11 | S:2956 E:24   I:20   E+I+R:44   +Test:2/3 TestQueue:98 | P3:96.00 2x: 4.17 | cold:31 allergies:2 flu:53 | H:0 C:0 D:0 | MC:  43.754 | Q: 14\\n(115s)   Day 13: 2020-03-12 | S:2946 E:29   I:25   E+I+R:54   +Test:0/3 TestQueue:105 | P3:120.95 2x: 4.10 | cold:31 allergies:3 flu:52 | H:0 C:0 D:0 | MC:  45.287 | Q: 18\\n(124s)   Day 14: 2020-03-13 | S:2931 E:36   I:33   E+I+R:69   +Test:0/3 TestQueue:102 | P3:152.39 2x: 3.97 | cold:25 allergies:2 flu:50 | H:0 C:0 D:0 | MC:  46.612 | Q: 15\\n(134s)   Day 15: 2020-03-14 | S:2907 E:54   I:38   E+I+R:93   +Test:0/3 TestQueue:97 | P3:192.00 2x: 3.79 | cold:32 allergies:3 flu:45 | H:0 C:0 D:0 | MC:  47.827 | Q: 16\\n(139s)   Day 16: 2020-03-15 | S:2877 E:76   I:46   E+I+R:123  +Test:1/3 TestQueue:107 | P3:241.90 2x: 3.67 | cold:42 allergies:6 flu:52 | H:0 C:0 D:0 | MC:  48.901 | Q: 17\\n(142s)   Day 17: 2020-03-16 | S:2870 E:61   I:67   E+I+R:130  +Test:1/3 TestQueue:124 | P3:304.78 2x: 3.83 | cold:42 allergies:4 flu:57 | H:0 C:0 D:0 | MC:  48.910 | Q: 24\\n(151s)   Day 18: 2020-03-17 | S:2866 E:45   I:86   E+I+R:134  +Test:1/3 TestQueue:126 | P3:384.00 2x: 4.02 | cold:44 allergies:1 flu:59 | H:0 C:0 D:0 | MC:  49.957 | Q: 27\\n(160s)   Day 19: 2020-03-18 | S:2828 E:67   I:102  E+I+R:172  +Test:2/3 TestQueue:146 | P3:483.81 2x: 3.92 | cold:44 allergies:3 flu:52 | H:1 C:0 D:0 | MC:  50.990 | Q: 31\\n(170s)   Day 20: 2020-03-19 | S:2784 E:94   I:119  E+I+R:216  +Test:1/3 TestQueue:161 | P3:609.56 2x: 3.87 | cold:42 allergies:3 flu:44 | H:3 C:0 D:0 | MC:  51.847 | Q: 32\\n(179s)   Day 21: 2020-03-20 | S:2754 E:105  I:136  E+I+R:246  +Test:3/3 TestQueue:153 | P3:768.00 2x: 3.92 | cold:38 allergies:3 flu:40 | H:3 C:0 D:0 | MC:  52.659 | Q: 40\\n(188s)   Day 22: 2020-03-21 | S:2721 E:109  I:165  E+I+R:279  +Test:2/3 TestQueue:161 | P3:967.62 2x: 3.97 | cold:41 allergies:2 flu:42 | H:5 C:0 D:0 | MC:  53.415 | Q: 43\\n(191s)   Day 23: 2020-03-22 | S:2679 E:121  I:193  E+I+R:321  +Test:2/3 TestQueue:167 | P3:1219.12 2x: 4.01 | cold:39 allergies:1 flu:42 | H:7 C:0 D:1 | MC:  53.443 | Q: 48\\n(194s)   Day 24: 2020-03-23 | S:2668 E:96   I:227  E+I+R:332  +Test:2/3 TestQueue:171 | P3:1536.00 2x: 4.15 | cold:32 allergies:6 flu:45 | H:8 C:0 D:1 | MC:  53.457 | Q: 51\\n(204s)   Day 25: 2020-03-24 | S:2658 E:77   I:255  E+I+R:342  +Test:1/3 TestQueue:190 | P3:1935.24 2x: 4.29 | cold:36 allergies:4 flu:46 | H:9 C:0 D:2 | MC:  54.186 | Q: 55\\n(213s)   Day 26: 2020-03-25 | S:2588 E:123  I:273  E+I+R:412  +Test:1/3 TestQueue:184 | P3:2438.25 2x: 4.26 | cold:34 allergies:3 flu:47 | H:9 C:0 D:6 | MC:  54.793 | Q: 57\\n(223s)   Day 27: 2020-03-26 | S:2544 E:141  I:291  E+I+R:456  +Test:1/3 TestQueue:206 | P3:3000.00 2x: 4.32 | cold:29 allergies:2 flu:45 | H:9 C:0 D:9 | MC:  55.420 | Q: 55\\n(232s)   Day 28: 2020-03-27 | S:2485 E:161  I:324  E+I+R:515  +Test:2/3 TestQueue:215 | P3:3000.00 2x: 4.36 | cold:32 allergies:2 flu:50 | H:9 C:0 D:9 | MC:  55.907 | Q: 59\\n(242s)   Day 29: 2020-03-28 | S:2417 E:177  I:369  E+I+R:583  +Test:3/3 TestQueue:248 | P3:3000.00 2x: 4.39 | cold:27 allergies:2 flu:57 | H:9 C:0 D:9 | MC:  56.383 | Q: 63\\nTransferring H:human:231 age:7, SEIR:1000 to HOUSEHOLD:1018 - occ:1/inf - I:False because no adult at HOUSEHOLD:51 - occ:1/inf - I:True is alive. Current residents at HOUSEHOLD:1018 - occ:1/inf - I:False: [H:human:1945 age:53, SEIR:1000]\\nTransferring H:human:138 age:0, SEIR:1000 to HOUSEHOLD:75 - occ:2/inf - I:False because no adult at HOUSEHOLD:51 - occ:0/inf - I:True is alive. Current residents at HOUSEHOLD:75 - occ:2/inf - I:False: [H:human:148 age:5, SEIR:1000, H:human:1406 age:42, SEIR:1000]\\n(248s)   Day 30: 2020-03-29 | S:2349 E:200  I:407  E+I+R:651  +Test:1/3 TestQueue:264 | P3:3000.00 2x: 4.44 | cold:23 allergies:1 flu:56 | H:9 C:0 D:10 | MC:  56.401 | Q: 63\\n(256s)   Day 31: 2020-03-30 | S:2335 E:165  I:450  E+I+R:665  +Test:1/3 TestQueue:291 | P3:3000.00 2x: 4.56 | cold:22 allergies:3 flu:61 | H:8 C:0 D:10 | MC:  57.862 | Q: 59\\n(267s)   Day 32: 2020-03-31 | S:2314 E:128  I:488  E+I+R:686  +Test:1/3 TestQueue:299 | P3:3000.00 2x: 4.68 | cold:24 allergies:4 flu:60 | H:9 C:0 D:14 | MC:  58.333 | Q: 66\\n(276s)   Day 33: 2020-04-01 | S:2275 E:116  I:519  E+I+R:725  +Test:0/3 TestQueue:317 | P3:3000.00 2x: 4.77 | cold:28 allergies:2 flu:57 | H:9 C:0 D:15 | MC:  58.777 | Q: 51\\nTransferring H:human:127 age:1, SEIR:1000 to HOUSEHOLD:467 - occ:1/inf - I:True because no adult at HOUSEHOLD:165 - occ:0/inf - I:True is alive. Current residents at HOUSEHOLD:467 - occ:1/inf - I:True: [H:human:1083 age:33, SEIR:1000, H:human:1077 age:32, SEIR:0010, H:human:2242 age:62, SEIR:1000, H:human:2486 age:65, SEIR:1000]\\n(287s)   Day 34: 2020-04-02 | S:2234 E:124  I:538  E+I+R:766  +Test:1/3 TestQueue:335 | P3:3000.00 2x: 4.86 | cold:31 allergies:5 flu:56 | H:9 C:0 D:24 | MC:  59.178 | Q: 48\\nTransferring H:human:356 age:12, SEIR:0100 to HOUSEHOLD:1284 - occ:2/inf - I:False because no adult at HOUSEHOLD:209 - occ:0/inf - I:True is alive. Current residents at HOUSEHOLD:1284 - occ:2/inf - I:False: [H:human:2250 age:63, SEIR:1000, H:human:2261 age:60, SEIR:1000]\\n(296s)   Day 35: 2020-04-03 | S:2196 E:127  I:542  E+I+R:804  +Test:0/3 TestQueue:373 | P3:3000.00 2x: 4.95 | cold:30 allergies:0 flu:61 | H:9 C:0 D:31 | MC:  59.553 | Q: 48\\n(305s)   Day 36: 2020-04-04 | S:2154 E:138  I:551  E+I+R:846  +Test:2/3 TestQueue:385 | P3:3000.00 2x: 5.04 | cold:23 allergies:2 flu:56 | H:9 C:0 D:38 | MC:  59.938 | Q: 47\\n(309s)   Day 37: 2020-04-05 | S:2113 E:147  I:553  E+I+R:887  +Test:0/3 TestQueue:399 | P3:3000.00 2x: 5.13 | cold:22 allergies:4 flu:57 | H:9 C:0 D:44 | MC:  59.941 | Q: 38\\nTransferring H:human:438 age:11, SEIR:1000 to HOUSEHOLD:480 - occ:2/inf - I:False because no adult at HOUSEHOLD:220 - occ:0/inf - I:True is alive. Current residents at HOUSEHOLD:480 - occ:2/inf - I:False: [H:human:563 age:18, SEIR:0001, H:human:1685 age:49, SEIR:0001]\\n(312s)   Day 38: 2020-04-06 | S:2100 E:116  I:560  E+I+R:900  +Test:2/3 TestQueue:415 | P3:3000.00 2x: 5.26 | cold:27 allergies:1 flu:56 | H:9 C:0 D:46 | MC:  59.949 | Q: 42\\n(321s)   Day 39: 2020-04-07 | S:2087 E:84   I:579  E+I+R:913  +Test:1/3 TestQueue:400 | P3:3000.00 2x: 5.38 | cold:23 allergies:3 flu:52 | H:9 C:0 D:56 | MC:  60.319 | Q: 35\\nTransferring H:human:29 age:2, SEIR:1000 to HOUSEHOLD:108 - occ:0/inf - I:False because no adult at HOUSEHOLD:174 - occ:0/inf - I:True is alive. Current residents at HOUSEHOLD:108 - occ:0/inf - I:False: [H:human:69 age:2, SEIR:1000, H:human:871 age:29, SEIR:1000]\\n(332s)   Day 40: 2020-04-08 | S:2039 E:100  I:581  E+I+R:961  +Test:0/3 TestQueue:409 | P3:3000.00 2x: 5.46 | cold:26 allergies:4 flu:61 | H:9 C:0 D:63 | MC:  60.689 | Q: 31\\n(342s)   Day 41: 2020-04-09 | S:2002 E:109  I:578  E+I+R:998  +Test:1/3 TestQueue:421 | P3:3000.00 2x: 5.56 | cold:26 allergies:4 flu:61 | H:9 C:0 D:68 | MC:  61.299 | Q: 31\\nTransferring H:human:392 age:11, SEIR:1000 to HOUSEHOLD:1378 - occ:0/inf - I:False because no adult at HOUSEHOLD:63 - occ:1/inf - I:True is alive. Current residents at HOUSEHOLD:1378 - occ:0/inf - I:False: [H:human:2046 age:57, SEIR:1000, H:human:1995 age:57, SEIR:1000]\\nTransferring H:human:219 age:9, SEIR:1000 to HOUSEHOLD:1137 - occ:1/inf - I:True because no adult at HOUSEHOLD:63 - occ:0/inf - I:True is alive. Current residents at HOUSEHOLD:1137 - occ:1/inf - I:True: [H:human:2376 age:63, SEIR:0010, H:human:2329 age:64, SEIR:1000]\\n(351s)   Day 42: 2020-04-10 | S:1954 E:137  I:560  E+I+R:1046 +Test:2/3 TestQueue:422 | P3:3000.00 2x: 5.64 | cold:22 allergies:0 flu:67 | H:9 C:0 D:74 | MC:  61.609 | Q: 39\\n(360s)   Day 43: 2020-04-11 | S:1915 E:140  I:551  E+I+R:1085 +Test:1/3 TestQueue:422 | P3:3000.00 2x: 5.73 | cold:20 allergies:2 flu:60 | H:9 C:0 D:77 | MC:  61.928 | Q: 30\\nTransferring H:human:67 age:0, SEIR:1000 to HOUSEHOLD:515 - occ:3/inf - I:True because no adult at HOUSEHOLD:247 - occ:1/inf - I:True is alive. Current residents at HOUSEHOLD:515 - occ:3/inf - I:True: [H:human:1018 age:30, SEIR:0001, H:human:1733 age:54, SEIR:0010, H:human:2088 age:55, SEIR:0001]\\n(363s)   Day 44: 2020-04-12 | S:1871 E:148  I:557  E+I+R:1129 +Test:0/3 TestQueue:422 | P3:3000.00 2x: 5.82 | cold:27 allergies:4 flu:55 | H:9 C:0 D:80 | MC:  61.939 | Q: 32\\nTransferring H:human:195 age:5, SEIR:1000 to HOUSEHOLD:603 - occ:1/inf - I:False because no adult at HOUSEHOLD:247 - occ:0/inf - I:True is alive. Current residents at HOUSEHOLD:603 - occ:1/inf - I:False: [H:human:2506 age:68, SEIR:1000]\\n(367s)   Day 45: 2020-04-13 | S:1865 E:112  I:562  E+I+R:1135 +Test:0/3 TestQueue:416 | P3:3000.00 2x: 5.95 | cold:27 allergies:1 flu:53 | H:9 C:0 D:85 | MC:  61.947 | Q: 28\\n(376s)   Day 46: 2020-04-14 | S:1859 E:88   I:556  E+I+R:1141 +Test:1/3 TestQueue:402 | P3:3000.00 2x: 6.08 | cold:29 allergies:4 flu:55 | H:9 C:0 D:89 | MC:  62.256 | Q: 31\\nTransferring H:human:255 age:5, SEIR:1000 to HOUSEHOLD:90 - occ:2/inf - I:True because no adult at HOUSEHOLD:205 - occ:0/inf - I:True is alive. Current residents at HOUSEHOLD:90 - occ:2/inf - I:True: [H:human:256 age:5, SEIR:0010, H:human:238 age:8, SEIR:1000, H:human:2855 age:78, SEIR:1000]\\n(385s)   Day 47: 2020-04-15 | S:1827 E:82   I:544  E+I+R:1173 +Test:1/3 TestQueue:393 | P3:3000.00 2x: 6.18 | cold:33 allergies:3 flu:53 | H:9 C:0 D:95 | MC:  62.601 | Q: 33\\n(393s)   Day 48: 2020-04-16 | S:1788 E:97   I:518  E+I+R:1212 +Test:2/3 TestQueue:385 | P3:3000.00 2x: 6.27 | cold:30 allergies:4 flu:51 | H:9 C:0 D:100 | MC:  62.895 | Q: 38\\n(403s)   Day 49: 2020-04-17 | S:1755 E:107  I:497  E+I+R:1245 +Test:1/3 TestQueue:381 | P3:3000.00 2x: 6.37 | cold:36 allergies:3 flu:47 | H:9 C:0 D:102 | MC:  63.185 | Q: 40\\nTransferring H:human:225 age:6, SEIR:1000 to HOUSEHOLD:70 - occ:2/inf - I:False because no adult at HOUSEHOLD:79 - occ:0/inf - I:True is alive. Current residents at HOUSEHOLD:70 - occ:2/inf - I:False: [H:human:124 age:3, SEIR:1000, H:human:1355 age:41, SEIR:1000]\\n(412s)   Day 50: 2020-04-18 | S:1717 E:121  I:483  E+I+R:1283 +Test:0/3 TestQueue:359 | P3:3000.00 2x: 6.46 | cold:36 allergies:7 flu:55 | H:9 C:0 D:103 | MC:  63.466 | Q: 34\\n(415s)   Day 51: 2020-04-19 | S:1694 E:105  I:487  E+I+R:1306 +Test:1/3 TestQueue:354 | P3:3000.00 2x: 6.57 | cold:36 allergies:5 flu:56 | H:9 C:0 D:110 | MC:  63.476 | Q: 36\\n(419s)   Day 52: 2020-04-20 | S:1689 E:82   I:484  E+I+R:1311 +Test:2/3 TestQueue:341 | P3:3000.00 2x: 6.69 | cold:35 allergies:4 flu:55 | H:9 C:0 D:117 | MC:  63.479 | Q: 47\\nTransferring H:human:313 age:10, SEIR:1000 to HOUSEHOLD:35 - occ:4/inf - I:True because no adult at HOUSEHOLD:191 - occ:0/inf - I:True is alive. Current residents at HOUSEHOLD:35 - occ:4/inf - I:True: [H:human:350 age:11, SEIR:0001, H:human:538 age:19, SEIR:0010, H:human:425 age:11, SEIR:0001, H:human:1182 age:38, SEIR:0001]\\n(430s)   Day 53: 2020-04-21 | S:1684 E:56   I:467  E+I+R:1316 +Test:0/3 TestQueue:334 | P3:3000.00 2x: 6.81 | cold:36 allergies:4 flu:48 | H:9 C:0 D:120 | MC:  63.741 | Q: 39\\n(438s)   Day 54: 2020-04-22 | S:1663 E:56   I:460  E+I+R:1337 +Test:0/3 TestQueue:338 | P3:3000.00 2x: 6.92 | cold:28 allergies:2 flu:45 | H:9 C:0 D:124 | MC:  64.006 | Q: 33\\n(448s)   Day 55: 2020-04-23 | S:1634 E:66   I:446  E+I+R:1366 +Test:0/3 TestQueue:329 | P3:3000.00 2x: 7.02 | cold:24 allergies:2 flu:50 | H:9 C:0 D:126 | MC:  64.287 | Q: 26\\n(458s)   Day 56: 2020-04-24 | S:1608 E:78   I:430  E+I+R:1392 +Test:1/3 TestQueue:332 | P3:3000.00 2x: 7.13 | cold:25 allergies:2 flu:51 | H:9 C:0 D:129 | MC:  64.551 | Q: 32\\n(468s)   Day 57: 2020-04-25 | S:1584 E:81   I:417  E+I+R:1416 +Test:1/3 TestQueue:318 | P3:3000.00 2x: 7.23 | cold:27 allergies:7 flu:53 | H:9 C:0 D:133 | MC:  64.839 | Q: 34\\n(471s)   Day 58: 2020-04-26 | S:1570 E:74   I:408  E+I+R:1430 +Test:0/3 TestQueue:319 | P3:3000.00 2x: 7.34 | cold:30 allergies:1 flu:56 | H:8 C:0 D:138 | MC:  64.847 | Q: 34\\nTransferring H:human:286 age:5, SEIR:0010 to HOUSEHOLD:1216 - occ:2/inf - I:False because no adult at HOUSEHOLD:173 - occ:0/inf - I:True is alive. Current residents at HOUSEHOLD:1216 - occ:2/inf - I:False: [H:human:808 age:27, SEIR:1000, H:human:981 age:26, SEIR:0001]\\n(475s)   Day 59: 2020-04-27 | S:1564 E:57   I:396  E+I+R:1436 +Test:2/3 TestQueue:314 | P3:3000.00 2x: 7.47 | cold:32 allergies:4 flu:56 | H:9 C:0 D:139 | MC:  64.853 | Q: 35\\n\\n######## COVID PROPERTIES #########\\nAvg. incubation days  5.69\\nAvg. recovery days  19.25\\nAvg. infectiousnes onset days  3.42\\n\\n######## COVID SPREAD #########\\n# human-human transmissions 1332.0\\n# environment-human transmissions 125.0\\nenvironmental transmission ratio 8.579 %\\nAverage generation time 7.158101895298075 \\nAverage serial interval 6.695273631840796 \\nEmpirical Ro  2.006 (WARNING: It is an underestimate because it doesn't consider all infectious contacts during the recovery period of infected humans towards the end of the simulation) \\n\\n******** Symptomaticity and Disease Spread *********\\n\\nR0 ( % Transmission ) of all human-human transmission\\n* asymptomatic R0  1.797 ( 15.916 %)\\n* presymptomatic R0  1.601 ( 38.589 %)\\n* symptomatic R0  1.629 ( 45.495 %)\\n\\n******** Locations and Disease Spread *********\\n\\nR0 ( % Transmission ) of all human-human transmission\\n* WORKPLACE R0  1.992 ( 58.033 %)\\n* SCHOOL R0  1.624 ( 13.288 %)\\n* HOUSEHOLD R0  1.239 ( 26.502 %)\\n* MISC R0  1.000 ( 0.150 %)\\n* STORE R0  1.000 ( 0.150 %)\\n* HOSPITAL R0  1.389 ( 1.877 %)\\n\\n% Transmission of all environmental transmissions\\n* % all transmission 100.000 %\\n* % HOUSEHOLD transmission 49.600 %\\n* % MISC transmission 5.600 %\\n* % PARK transmission 3.200 %\\n* % STORE transmission 4.000 %\\n* % WORKPLACE transmission 30.400 %\\n* % SCHOOL transmission 7.200 %\\n* % HOSPITAL transmission 0.000 %\\n\\n######## SYMPTOMS #########\\nP(symptoms = x | covid patient), where x is:\\n   diarrhea                    : 0.2925\\n    nausea_vomiting             : 0.2794\\n    sneezing                    : 0.2351\\n    moderate_trouble_breathing  : 0.1978\\n    runny_nose                  : 0.1715\\n    confused                    : 0.1044\\n    extremely-severe            : 0.0173\\n    lost_consciousness          : 0.0166\\n    unusual                     : 0.0166\\n    severe_chest_pain           : 0.0055\\nP(symptoms = x | human had some sickness e.g. cold, flu, allergies, covid), where x is:\\n   \\n\\n######## CONTACT PATTERNS #########\\nweekday - | house: 2.178| work: 3.945| school: 9.198| other: 0.970| all: 2.289\\nweekend - | house: 1.752| work: 2.319| school: 0.000| other: 1.138| all: 0.860\\n\\n######## MOBILITY STATISTICS #########\\nProportion of day spent in activities - \\n\\nUnsupervised activities - \\nweekday - | work: 0.196| socialize: 0.044| grocery: 0.022| exercise: 0.014| idle: 0.305| sleep: 0.331\\nweekend - | work: 0.203| socialize: 0.042| grocery: 0.021| exercise: 0.014| idle: 0.585| sleep: 0.333\\n\\nSupervised activities - \\nweekday - | work: 0.118| socialize: 0.046| grocery: 0.022| exercise: 0.016| idle: 0.317| sleep: 0.124\\nweekend - | work: 0.199| socialize: 0.044| grocery: 0.024| exercise: 0.017| idle: 0.497| sleep: 0.109\\n\\nSocial groups -\\nsize - mean: 0.27 | std:  1.81 | min:  0.00 | max:  51.00 | \\nlocation - total visits 11238.000001 | MISC: 5626 50.06 % | HOUSEHOLD: 5585 49.70 % | SENIOR_RESIDENCE: 22 0.20 % | HOSPITAL: 5 0.04 % | \\nSocial network properties (degree statistics) - mean  65.08 | std.  59.20 | min  0.00 | max  290.00 | median  58.00\\n\\nend_time - \\nsleep - mean:  7.16 | std:  3.67 | min:  0.00 | max:  24.00 | \\nwork - mean:  12.92 | std:  2.13 | min:  8.02 | max:  22.00 | \\nidle - mean:  14.59 | std:  8.41 | min:  0.00 | max:  24.00 | \\nexercise - mean:  11.91 | std:  3.45 | min:  0.23 | max:  23.00 | \\ngrocery - mean:  11.22 | std:  3.16 | min:  8.00 | max:  22.00 | \\nsocialize - mean:  11.87 | std:  3.13 | min:  8.00 | max:  22.00 | \\n\\nduration - \\nsleep - mean:  7.42 | std:  1.77 | min:  0.00 | max:  9.35 | \\nwork - mean:  4.55 | std:  2.18 | min:  0.00 | max:  14.00 | \\nidle - mean:  8.77 | std:  5.75 | min:  0.00 | max:  17.83 | \\nexercise - mean:  0.35 | std:  0.63 | min:  0.00 | max:  4.00 | \\ngrocery - mean:  0.51 | std:  0.79 | min:  0.00 | max:  4.00 | \\nsocialize - mean:  1.04 | std:  1.02 | min:  0.00 | max:  4.00 | \\n\\n######## COVID Testing Statistics #########\\nPositivity rate:  32.222 %\\nTotal Tests: 180 Total positive tests: 58 Total negative tests: 122\\nMaximum tests given to an individual: 2\\nProportion of population tested until end:  6.000 %\\nProportion of population tested daily Avg:  0.097 %\\nProportion of population tested daily Max:  0.133 %\\nProportion of population tested daily Min:  0.000 %\\nP(tested | symptoms = x), where x is \\nP(symptoms = x | tested), where x is:\\n   sneezing                 : 0.1611\\n    mild                     : 0.1389\\n    runny_nose               : 0.1111\\n    aches                    : 0.0611\\n    moderate                 : 0.0611\\n    confused                 : 0.0556\\n    extremely-severe         : 0.0333\\n    severe_chest_pain        : 0.0167\\n    lost_consciousness       : 0.0167\\n    unusual                  : 0.0111\\n\\n######## Effective Contacts & % infected #########\\nEff. contacts: 7.241 \\t Healthy Eff. Contacts 7.614 \\th % infected:  48.767%\\neffective contacts per contacts (GLOBAL_MOBILITY_SCALING_FACTOR): 0.6480541263767413\\nProbability of transmission: 0.027\\nSerial interval:  6.695\\n\\n######## Bayesian Estimates of Rt #########\\nusing serial interval :7.158101895298075\\nRt: [2.5  0.33 0.36 0.41 0.49 0.52 0.84 0.67 0.68 1.19 1.79 2.44 2.43 2.65\\n 2.05 1.34 1.5  2.17 2.37 1.92]\\nDumping Tracker Data in /src/experiments/data/0xc9806423df27deb8f755c8d77ffd917c/sim_v2_people-3000_days-60_init-0.002_uptake--1_seed-1984_20211027-202836_026100\\n\\n\", stderr=b'/root/COVI-AgentSim/src/covid19sim/log/track.py:507: RuntimeWarning: divide by zero encountered in double_scalars\\n  warn = WARN_SIGNAL if 100*abs(p-cns)/cns > WARN_RELATIVE_PERCENTAGE_THRESHOLD else \"\"\\n/root/COVI-AgentSim/src/covid19sim/epidemiology/symptoms.py:171: VisibleDeprecationWarning: Creating an ndarray from ragged nested sequences (which is a list-or-tuple of lists-or-tuples-or ndarrays with different lengths or shapes) is deprecated. If you meant to do this, you must specify \\'dtype=object\\' when creating the ndarray\\n  dropin_groups = rng.choice(cls.DROP_IN_GROUPS,\\n\\n')"
      ]
     },
     "execution_count": 24,
     "metadata": {},
     "output_type": "execute_result"
    }
   ],
   "source": [
    "import subprocess\n",
    "subprocess.run(command_str, shell=True, capture_output=True)"
   ]
  },
  {
   "cell_type": "code",
   "execution_count": 2,
   "id": "4590fa35",
   "metadata": {},
   "outputs": [
    {
     "name": "stdout",
     "output_type": "stream",
     "text": [
      "full_configuration.yaml  tracker_data_n_3000_seed_1984_20211027-203700.pkl\r\n",
      "log_20211027-202836.txt\r\n"
     ]
    }
   ],
   "source": [
    "!ls /src/experiments/data/*c/*"
   ]
  },
  {
   "cell_type": "code",
   "execution_count": 33,
   "id": "290f8fb1",
   "metadata": {},
   "outputs": [
    {
     "name": "stdout",
     "output_type": "stream",
     "text": [
      "/src/experiments/data/0xc9806423df27deb8f755c8d77ffd917c/sim_v2_people-3000_days-60_init-0.002_uptake--1_seed-1984_20211027-202836_026100/tracker_data_n_3000_seed_1984_20211027-203700.pkl\r\n"
     ]
    }
   ],
   "source": [
    "!ls /src/experiments/data/*c/*/*.pkl"
   ]
  },
  {
   "cell_type": "code",
   "execution_count": 35,
   "id": "99828849",
   "metadata": {},
   "outputs": [
    {
     "name": "stdout",
     "output_type": "stream",
     "text": [
      "Collecting dill\n",
      "  Downloading dill-0.3.4-py2.py3-none-any.whl (86 kB)\n",
      "\u001b[K     |████████████████████████████████| 86 kB 2.0 MB/s eta 0:00:01\n",
      "\u001b[?25hInstalling collected packages: dill\n",
      "Successfully installed dill-0.3.4\n",
      "\u001b[33mWARNING: Running pip as the 'root' user can result in broken permissions and conflicting behaviour with the system package manager. It is recommended to use a virtual environment instead: https://pip.pypa.io/warnings/venv\u001b[0m\n"
     ]
    }
   ],
   "source": [
    "!pip install dill"
   ]
  },
  {
   "cell_type": "code",
   "execution_count": 37,
   "id": "53b4cba8",
   "metadata": {},
   "outputs": [
    {
     "name": "stdout",
     "output_type": "stream",
     "text": [
      "Collecting numpy\n",
      "  Using cached numpy-1.21.3-cp38-cp38-manylinux_2_12_x86_64.manylinux2010_x86_64.whl (15.7 MB)\n",
      "Installing collected packages: numpy\n",
      "Successfully installed numpy-1.21.3\n",
      "\u001b[33mWARNING: Running pip as the 'root' user can result in broken permissions and conflicting behaviour with the system package manager. It is recommended to use a virtual environment instead: https://pip.pypa.io/warnings/venv\u001b[0m\n"
     ]
    }
   ],
   "source": [
    "!pip install numpy"
   ]
  },
  {
   "cell_type": "code",
   "execution_count": 1,
   "id": "bcd286e2",
   "metadata": {},
   "outputs": [
    {
     "data": {
      "text/plain": [
       "dict_keys(['intervention_day', 'intervention', 'risk_model', 'COVID_SPREAD_START_TIME', 'INTERVENTION_START_TIME', 'SIMULATION_START_TIME', 'simulation_days', 'n_humans', 'n_init_infected', 'adoption_rate', 'generation_times', 'p_transmission', 'age_histogram', 'human_has_app', 'known_connections', 'humans_demographics', 'contact_patterns', 'infectious_contact_patterns', 'expected_mobility', 'mobility', 'infection_monitor', 'outside_daily_contacts', 'effective_contacts_since_intervention', 'healthy_effective_contacts_since_intervention', 'effective_contacts_all_days', 'healthy_effective_contacts_all_days', 'serial_interval', 'all_serial_intervals', 'cases_per_day', 'ei_per_day', 's', 'e', 'i', 'r', 'avg_infectiousness_per_day', 'covid_properties', 'recovered_stats', 'symptoms', 'test_monitor', 'risk_precision_global', 'risk_precision', 'human_monitor', 'infector_infectee_update_messages', 'risk_attributes', 'humans_state', 'humans_rec_level', 'humans_intervention_level', 'to_human_max_msg_per_day', 'daily_quarantine', 'quarantine_monitor', 'humans_quarantined_state', 'work_hours'])"
      ]
     },
     "execution_count": 1,
     "metadata": {},
     "output_type": "execute_result"
    }
   ],
   "source": [
    "import pickle\n",
    "file_name = '/src/experiments/data/0xc9806423df27deb8f755c8d77ffd917c/sim_v2_people-3000_days-60_init-0.002_uptake--1_seed-1984_20211027-202836_026100/tracker_data_n_3000_seed_1984_20211027-203700.pkl'\n",
    "with open(file_name, 'rb') as results_file:\n",
    "    tracker = pickle.load(results_file)\n",
    "tracker.keys()"
   ]
  },
  {
   "cell_type": "code",
   "execution_count": null,
   "id": "29ff78f0",
   "metadata": {},
   "outputs": [],
   "source": []
  }
 ],
 "metadata": {
  "kernelspec": {
   "display_name": "Python 3 (ipykernel)",
   "language": "python",
   "name": "python3"
  },
  "language_info": {
   "codemirror_mode": {
    "name": "ipython",
    "version": 3
   },
   "file_extension": ".py",
   "mimetype": "text/x-python",
   "name": "python",
   "nbconvert_exporter": "python",
   "pygments_lexer": "ipython3",
   "version": "3.8.12"
  }
 },
 "nbformat": 4,
 "nbformat_minor": 5
}
